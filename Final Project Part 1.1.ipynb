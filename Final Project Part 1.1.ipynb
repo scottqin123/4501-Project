{
 "cells": [
  {
   "cell_type": "code",
   "execution_count": null,
   "id": "da1365ad",
   "metadata": {},
   "outputs": [],
   "source": [
    "import requests\n",
    "import bs4\n",
    "import re"
   ]
  },
  {
   "cell_type": "code",
   "execution_count": null,
   "id": "aa9a6656",
   "metadata": {},
   "outputs": [],
   "source": [
    "# any constants you might need, for example:\n",
    "\n",
    "TAXI_URL = \"https://www1.nyc.gov/site/tlc/about/tlc-trip-record-data.page\"\n",
    "# add other constants to refer to any local data, e.g. uber & weather\n",
    "#UBER_CSV = \"uber_rides_sample.csv\"\n",
    "\n",
    "#NEW_YORK_BOX_COORDS = ((40.560445, -74.242330), (40.908524, -73.717047))\n",
    "\n",
    "#DATABASE_URL = \"sqlite:///project.db\"\n",
    "#DATABASE_SCHEMA_FILE = \"schema.sql\"\n",
    "#QUERY_DIRECTORY = \"queries\""
   ]
  },
  {
   "cell_type": "code",
   "execution_count": null,
   "id": "0c2e444c",
   "metadata": {},
   "outputs": [],
   "source": [
    "# get HTML from main page\n",
    "content = requests.get(TAXI_URL)\n",
    "soup = bs4.BeautifulSoup(content.text, 'html.parser')"
   ]
  },
  {
   "cell_type": "code",
   "execution_count": null,
   "id": "0a1805e2",
   "metadata": {},
   "outputs": [],
   "source": [
    "# find all links on the main page\n",
    "pattern = r\"yellow_tripdata_20(0[0-9]|1[0-5])\\-\\d{2}.csv$\"\n",
    "links = [a['href'] for a in soup.find_all('a')]x"
   ]
  },
  {
   "cell_type": "code",
   "execution_count": null,
   "id": "5329825f",
   "metadata": {},
   "outputs": [],
   "source": [
    "# use regex to get only the yellow taxi links from 2009 - june 2015\n",
    "new_list = []\n",
    "\n",
    "for link in links:\n",
    "    if re.search(pattern, link) is not None:\n",
    "        mo_1 = link[-6]\n",
    "        mo_2 = link[-5]\n",
    "        if mo_1 == \"1\":\n",
    "            new_list.append(link)\n",
    "        elif int(mo_2) <= 6:\n",
    "            new_list.append(link)"
   ]
  },
  {
   "cell_type": "code",
   "execution_count": null,
   "id": "5d8aff52",
   "metadata": {},
   "outputs": [],
   "source": [
    "# write csvs to files\n",
    "i = 0\n",
    "\n",
    "for link in new_list:\n",
    "    print(i)\n",
    "    i += 1\n",
    "    req = requests.get(link)\n",
    "    url_content = req.content\n",
    "    \n",
    "    csv_file = open('downloaded.csv', 'ab')\n",
    "    csv_file.write(url_content)\n",
    "    csv_file.close()"
   ]
  },
  {
   "cell_type": "code",
   "execution_count": null,
   "id": "23391c12",
   "metadata": {},
   "outputs": [],
   "source": [
    "# convert csv to df\n",
    "import pandas as pd\n",
    "df = pd.read_csv(\"downloaded.csv\")\n",
    "#print(df.head())"
   ]
  },
  {
   "cell_type": "code",
   "execution_count": null,
   "id": "63e17de9",
   "metadata": {},
   "outputs": [],
   "source": [
    "import math\n",
    "# finding euclidean distance between two points\n",
    "def find_distance(point1, point2):\n",
    "    return math.dist(point1, point2)\n",
    "\n",
    "def test_find_distance():\n",
    "    point1 = (40.560445, -74.242330)\n",
    "    point2 = (40.908524, -73.717047)\n",
    "    assert find_distance(point1, point2) == 0.630144"
   ]
  }
 ],
 "metadata": {
  "kernelspec": {
   "display_name": "Python 3 (ipykernel)",
   "language": "python",
   "name": "python3"
  },
  "language_info": {
   "codemirror_mode": {
    "name": "ipython",
    "version": 3
   },
   "file_extension": ".py",
   "mimetype": "text/x-python",
   "name": "python",
   "nbconvert_exporter": "python",
   "pygments_lexer": "ipython3",
   "version": "3.9.7"
  }
 },
 "nbformat": 4,
 "nbformat_minor": 5
}
