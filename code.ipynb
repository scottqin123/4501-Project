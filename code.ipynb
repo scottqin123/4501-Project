{
 "cells": [
  {
   "cell_type": "code",
   "execution_count": 104,
   "id": "2fb68ce6",
   "metadata": {},
   "outputs": [],
   "source": [
    "import pandas as pd\n",
    "import os\n",
    "from math import cos, asin, sqrt, pi"
   ]
  },
  {
   "cell_type": "markdown",
   "id": "f90a377e",
   "metadata": {},
   "source": [
    "# Part 1: Data Processing"
   ]
  },
  {
   "cell_type": "code",
   "execution_count": 15,
   "id": "eb502685",
   "metadata": {},
   "outputs": [
    {
     "name": "stderr",
     "output_type": "stream",
     "text": [
      "/Users/scottqin/opt/anaconda3/lib/python3.9/site-packages/IPython/core/interactiveshell.py:3444: DtypeWarning: Columns (1,2,3,12,20,21,27,30,35,36,42,45,53,54) have mixed types.Specify dtype option on import or set low_memory=False.\n",
      "  exec(code_obj, self.user_global_ns, self.user_ns)\n"
     ]
    }
   ],
   "source": [
    "# Load the sampled data\n",
    "df = pd.read_csv('sampled.csv')"
   ]
  },
  {
   "cell_type": "code",
   "execution_count": 16,
   "id": "99e86240",
   "metadata": {},
   "outputs": [],
   "source": [
    "# We will clean the sampled data year by year. There are columns with different names showing the same types of data.\n",
    "# We need to merge these columns together and delete the irrelevant columns\n",
    "# From the given sample table we know there are 8 useful columns."
   ]
  },
  {
   "cell_type": "code",
   "execution_count": 73,
   "id": "6270f79e",
   "metadata": {},
   "outputs": [],
   "source": [
    "pd.set_option('display.max_columns', None)"
   ]
  },
  {
   "cell_type": "code",
   "execution_count": 81,
   "id": "3e5684ef",
   "metadata": {},
   "outputs": [],
   "source": [
    "# create a new datafram called cleaned\n",
    "cleaned = pd.DataFrame()\n",
    "# create new columns\n",
    "pickup_datetime = []\n",
    "fare_amount = []\n",
    "pickup_longitude = []\n",
    "pickup_latitude = []\n",
    "dropoff_longitude = []\n",
    "dropoff_latitude = []\n",
    "passenger_count = []"
   ]
  },
  {
   "cell_type": "code",
   "execution_count": 82,
   "id": "66e7be78",
   "metadata": {},
   "outputs": [],
   "source": [
    "# clean the data from 2009\n",
    "temp = df.iloc[0:14400]\n",
    "pickup_datetime += list(temp['Trip_Pickup_DateTime'])\n",
    "fare_amount += list(temp['Fare_Amt'])\n",
    "pickup_longitude += list(temp['Start_Lon'])\n",
    "pickup_latitude += list(temp['Start_Lat'])\n",
    "dropoff_longitude += list(temp['End_Lon'])\n",
    "dropoff_latitude += list(temp['End_Lat'])\n",
    "passenger_count += list(temp['Passenger_Count'])"
   ]
  },
  {
   "cell_type": "code",
   "execution_count": 83,
   "id": "5e5d80c3",
   "metadata": {},
   "outputs": [],
   "source": [
    "# clean the data from 2010\n",
    "temp = df.iloc[14400:28800]\n",
    "pickup_datetime += list(temp['pickup_datetime'])\n",
    "fare_amount += list(temp['fare_amount'])\n",
    "pickup_longitude += list(temp['pickup_longitude'])\n",
    "pickup_latitude += list(temp['pickup_latitude'])\n",
    "dropoff_longitude += list(temp['dropoff_longitude'])\n",
    "dropoff_latitude += list(temp['dropoff_latitude'])\n",
    "passenger_count += list(temp['passenger_count'])"
   ]
  },
  {
   "cell_type": "code",
   "execution_count": 84,
   "id": "ad5059cb",
   "metadata": {},
   "outputs": [],
   "source": [
    "# clean the data from 2011\n",
    "temp = df.iloc[28800:43200]\n",
    "pickup_datetime += list(temp['pickup_datetime'])\n",
    "fare_amount += list(temp['fare_amount'])\n",
    "pickup_longitude += list(temp['pickup_longitude'])\n",
    "pickup_latitude += list(temp['pickup_latitude'])\n",
    "dropoff_longitude += list(temp['dropoff_longitude'])\n",
    "dropoff_latitude += list(temp['dropoff_latitude'])\n",
    "passenger_count += list(temp['passenger_count'])"
   ]
  },
  {
   "cell_type": "code",
   "execution_count": 85,
   "id": "5f3bd236",
   "metadata": {},
   "outputs": [],
   "source": [
    "# clean the data from 2012\n",
    "temp = df.iloc[43200:57600]\n",
    "pickup_datetime += list(temp['pickup_datetime'])\n",
    "fare_amount += list(temp['fare_amount'])\n",
    "pickup_longitude += list(temp['pickup_longitude'])\n",
    "pickup_latitude += list(temp['pickup_latitude'])\n",
    "dropoff_longitude += list(temp['dropoff_longitude'])\n",
    "dropoff_latitude += list(temp['dropoff_latitude'])\n",
    "passenger_count += list(temp['passenger_count'])"
   ]
  },
  {
   "cell_type": "code",
   "execution_count": 86,
   "id": "80e17f13",
   "metadata": {},
   "outputs": [],
   "source": [
    "# clean the data from 2013\n",
    "temp = df.iloc[57600:72000]\n",
    "pickup_datetime += list(temp['pickup_datetime'])\n",
    "fare_amount += list(temp['fare_amount'])\n",
    "pickup_longitude += list(temp['pickup_longitude'])\n",
    "pickup_latitude += list(temp['pickup_latitude'])\n",
    "dropoff_longitude += list(temp['dropoff_longitude'])\n",
    "dropoff_latitude += list(temp['dropoff_latitude'])\n",
    "passenger_count += list(temp['passenger_count'])"
   ]
  },
  {
   "cell_type": "code",
   "execution_count": 87,
   "id": "852153a3",
   "metadata": {},
   "outputs": [],
   "source": [
    "# clean the data from 2014\n",
    "temp = df.iloc[72000:86400]\n",
    "pickup_datetime += list(temp['pickup_datetime'])\n",
    "fare_amount += list(temp['fare_amount'])\n",
    "pickup_longitude += list(temp['pickup_longitude'])\n",
    "pickup_latitude += list(temp['pickup_latitude'])\n",
    "dropoff_longitude += list(temp['dropoff_longitude'])\n",
    "dropoff_latitude += list(temp['dropoff_latitude'])\n",
    "passenger_count += list(temp['passenger_count'])"
   ]
  },
  {
   "cell_type": "code",
   "execution_count": 88,
   "id": "46f5f413",
   "metadata": {},
   "outputs": [],
   "source": [
    "# clean the data from 2015\n",
    "temp = df.iloc[86400:]\n",
    "pickup_datetime += list(temp['tpep_pickup_datetime'])\n",
    "fare_amount += list(temp['fare_amount'])\n",
    "pickup_longitude += list(temp['pickup_longitude'])\n",
    "pickup_latitude += list(temp['pickup_latitude'])\n",
    "dropoff_longitude += list(temp['dropoff_longitude'])\n",
    "dropoff_latitude += list(temp['dropoff_latitude'])\n",
    "passenger_count += list(temp['passenger_count'])\n"
   ]
  },
  {
   "cell_type": "code",
   "execution_count": 89,
   "id": "7f2cea39",
   "metadata": {},
   "outputs": [],
   "source": [
    "# add all the clean columns to the clean table\n",
    "cleaned['pickup_datetime'] = pickup_datetime\n",
    "cleaned['fare_amount'] = fare_amount\n",
    "cleaned['pickup_longitude'] = pickup_longitude\n",
    "cleaned['pickup_latitude'] = pickup_latitude\n",
    "cleaned['dropoff_longitude']= dropoff_longitude\n",
    "cleaned['dropoff_latitude'] = dropoff_latitude\n",
    "cleaned['passenger_count'] = passenger_count"
   ]
  },
  {
   "cell_type": "code",
   "execution_count": null,
   "id": "461e2033",
   "metadata": {},
   "outputs": [],
   "source": []
  },
  {
   "cell_type": "code",
   "execution_count": null,
   "id": "5e31a5ec",
   "metadata": {},
   "outputs": [],
   "source": []
  },
  {
   "cell_type": "code",
   "execution_count": 97,
   "id": "7437d2c3",
   "metadata": {},
   "outputs": [],
   "source": [
    "# exclude data outside of nyc\n",
    "cleaned = cleaned.loc[(cleaned['pickup_longitude'] > -74.24233) & (cleaned['pickup_longitude'] < -73.717047)]\n",
    "cleaned = cleaned.loc[(cleaned['dropoff_longitude'] > -74.24233) & (cleaned['dropoff_longitude'] < -73.717047)]\n",
    "cleaned = cleaned.loc[(cleaned['pickup_latitude'] > 40.560445) & (cleaned['pickup_latitude'] < 40.908524)]\n",
    "cleaned = cleaned.loc[(cleaned['dropoff_latitude'] > 40.560445) & (cleaned['dropoff_latitude'] < 40.908524)]"
   ]
  },
  {
   "cell_type": "code",
   "execution_count": 107,
   "id": "ae651ada",
   "metadata": {},
   "outputs": [],
   "source": [
    "# define a function to calculate the distance between coordinates\n",
    "def distance(lat1, lon1, lat2, lon2):\n",
    "    p = pi/180\n",
    "    a = 0.5 - cos((lat2-lat1)*p)/2 + cos(lat1*p) * cos(lat2*p) * (1-cos((lon2-lon1)*p))/2\n",
    "    return 12742 * asin(sqrt(a))"
   ]
  },
  {
   "cell_type": "code",
   "execution_count": 108,
   "id": "db7c40c0",
   "metadata": {},
   "outputs": [
    {
     "data": {
      "text/plain": [
       "10.251851855874952"
      ]
     },
     "execution_count": 108,
     "metadata": {},
     "output_type": "execute_result"
    }
   ],
   "source": [
    "# testing the function\n",
    "distance(40.751500, -73.984090, 40.770418, -73.864958)"
   ]
  },
  {
   "cell_type": "code",
   "execution_count": null,
   "id": "f4d7486c",
   "metadata": {},
   "outputs": [],
   "source": []
  },
  {
   "cell_type": "code",
   "execution_count": 109,
   "id": "cec5dbc9",
   "metadata": {},
   "outputs": [],
   "source": [
    "# apply the function to table and add a new distance column\n",
    "cleaned['distance'] = cleaned[['pickup_latitude','pickup_longitude','dropoff_latitude', \n",
    "                              'dropoff_longitude']].apply(lambda x: distance(*x), axis=1)"
   ]
  },
  {
   "cell_type": "code",
   "execution_count": null,
   "id": "2450cefa",
   "metadata": {},
   "outputs": [],
   "source": [
    "# define a function to extract the hour number\n",
    "def hour_extract(x):\n",
    "    return x[11:13]"
   ]
  },
  {
   "cell_type": "code",
   "execution_count": 117,
   "id": "27010b27",
   "metadata": {},
   "outputs": [],
   "source": []
  },
  {
   "cell_type": "code",
   "execution_count": 121,
   "id": "a6db9510",
   "metadata": {},
   "outputs": [],
   "source": [
    "# apply the function to table and add a new hour column\n",
    "cleaned['hour'] = cleaned[['pickup_datetime']].apply(lambda x: int(hour_extract(*x)), axis=1)"
   ]
  },
  {
   "cell_type": "code",
   "execution_count": 123,
   "id": "ffee853e",
   "metadata": {},
   "outputs": [],
   "source": [
    "os.makedirs('Github/4501-Project', exist_ok=True)  \n",
    "cleaned.to_csv('Github/4501-Project/cleaned.csv') "
   ]
  },
  {
   "cell_type": "markdown",
   "id": "51ef3121",
   "metadata": {},
   "source": [
    "# Part 2: Storing Data"
   ]
  },
  {
   "cell_type": "code",
   "execution_count": null,
   "id": "01bee4c3",
   "metadata": {},
   "outputs": [],
   "source": []
  },
  {
   "cell_type": "code",
   "execution_count": null,
   "id": "de08790e",
   "metadata": {},
   "outputs": [],
   "source": []
  },
  {
   "cell_type": "code",
   "execution_count": null,
   "id": "9a7ce414",
   "metadata": {},
   "outputs": [],
   "source": []
  },
  {
   "cell_type": "code",
   "execution_count": null,
   "id": "957eef9f",
   "metadata": {},
   "outputs": [],
   "source": []
  },
  {
   "cell_type": "code",
   "execution_count": null,
   "id": "85af86b8",
   "metadata": {},
   "outputs": [],
   "source": []
  },
  {
   "cell_type": "code",
   "execution_count": null,
   "id": "b2846e69",
   "metadata": {},
   "outputs": [],
   "source": []
  },
  {
   "cell_type": "markdown",
   "id": "6ef65f1f",
   "metadata": {},
   "source": [
    "# Part 3: Understanding Data"
   ]
  },
  {
   "cell_type": "code",
   "execution_count": null,
   "id": "ebefc1e1",
   "metadata": {},
   "outputs": [],
   "source": []
  },
  {
   "cell_type": "code",
   "execution_count": null,
   "id": "d5c0f199",
   "metadata": {},
   "outputs": [],
   "source": []
  },
  {
   "cell_type": "code",
   "execution_count": null,
   "id": "bcf49cb8",
   "metadata": {},
   "outputs": [],
   "source": []
  },
  {
   "cell_type": "code",
   "execution_count": null,
   "id": "afbe807e",
   "metadata": {},
   "outputs": [],
   "source": []
  },
  {
   "cell_type": "code",
   "execution_count": null,
   "id": "781ef03c",
   "metadata": {},
   "outputs": [],
   "source": []
  },
  {
   "cell_type": "code",
   "execution_count": null,
   "id": "325bcd67",
   "metadata": {},
   "outputs": [],
   "source": []
  },
  {
   "cell_type": "code",
   "execution_count": null,
   "id": "211ac6e9",
   "metadata": {},
   "outputs": [],
   "source": []
  },
  {
   "cell_type": "code",
   "execution_count": null,
   "id": "7ff45091",
   "metadata": {},
   "outputs": [],
   "source": []
  },
  {
   "cell_type": "code",
   "execution_count": null,
   "id": "859f9c94",
   "metadata": {},
   "outputs": [],
   "source": []
  },
  {
   "cell_type": "markdown",
   "id": "1d757193",
   "metadata": {},
   "source": [
    "# Part 4: Visualizing Data"
   ]
  },
  {
   "cell_type": "code",
   "execution_count": null,
   "id": "89974ec1",
   "metadata": {},
   "outputs": [],
   "source": []
  },
  {
   "cell_type": "code",
   "execution_count": null,
   "id": "bd715dec",
   "metadata": {},
   "outputs": [],
   "source": []
  },
  {
   "cell_type": "code",
   "execution_count": null,
   "id": "44e0b5a6",
   "metadata": {},
   "outputs": [],
   "source": []
  },
  {
   "cell_type": "code",
   "execution_count": null,
   "id": "e15955a2",
   "metadata": {},
   "outputs": [],
   "source": []
  }
 ],
 "metadata": {
  "kernelspec": {
   "display_name": "Python 3 (ipykernel)",
   "language": "python",
   "name": "python3"
  },
  "language_info": {
   "codemirror_mode": {
    "name": "ipython",
    "version": 3
   },
   "file_extension": ".py",
   "mimetype": "text/x-python",
   "name": "python",
   "nbconvert_exporter": "python",
   "pygments_lexer": "ipython3",
   "version": "3.9.7"
  }
 },
 "nbformat": 4,
 "nbformat_minor": 5
}
