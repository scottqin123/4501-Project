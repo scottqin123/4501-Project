{
 "cells": [
  {
   "cell_type": "code",
   "execution_count": 4,
   "id": "2fb68ce6",
   "metadata": {},
   "outputs": [],
   "source": [
    "import pandas as pd\n",
    "import os\n",
    "from math import cos, asin, sqrt, pi\n",
    "import datetime"
   ]
  },
  {
   "cell_type": "markdown",
   "id": "f90a377e",
   "metadata": {},
   "source": [
    "# Part 1: Data Processing"
   ]
  },
  {
   "cell_type": "code",
   "execution_count": null,
   "id": "4c10a251",
   "metadata": {},
   "outputs": [],
   "source": [
    "TAXI_URL = \"https://www1.nyc.gov/site/tlc/about/tlc-trip-record-data.page\"\n",
    "# get HTML from main page\n",
    "content = requests.get(TAXI_URL)\n",
    "soup = bs4.BeautifulSoup(content.text, 'html.parser')"
   ]
  },
  {
   "cell_type": "code",
   "execution_count": null,
   "id": "41030f71",
   "metadata": {},
   "outputs": [],
   "source": [
    "# find all links on the main page\n",
    "pattern = r\"yellow_tripdata_20(0[0-9]|1[0-5])\\-\\d{2}.csv$\"\n",
    "links = [a['href'] for a in soup.find_all('a')]x"
   ]
  },
  {
   "cell_type": "code",
   "execution_count": null,
   "id": "80128047",
   "metadata": {},
   "outputs": [],
   "source": [
    "# use regex to get only the yellow taxi links from 2009 - june 2015\n",
    "new_list = []\n",
    "\n",
    "for link in links:\n",
    "    if re.search(pattern, link) is not None:\n",
    "        mo_1 = link[-6]\n",
    "        mo_2 = link[-5]\n",
    "        if mo_1 == \"1\":\n",
    "            new_list.append(link)\n",
    "        elif int(mo_2) <= 6:\n",
    "            new_list.append(link)"
   ]
  },
  {
   "cell_type": "code",
   "execution_count": null,
   "id": "972b2543",
   "metadata": {},
   "outputs": [],
   "source": [
    "# write csvs to files\n",
    "i = 0\n",
    "\n",
    "for link in new_list:\n",
    "    print(i)\n",
    "    i += 1\n",
    "    req = requests.get(link)\n",
    "    url_content = req.content\n",
    "    \n",
    "    csv_file = open('downloaded.csv', 'ab')\n",
    "    csv_file.write(url_content)\n",
    "    csv_file.close()"
   ]
  },
  {
   "cell_type": "code",
   "execution_count": null,
   "id": "3b4b47a6",
   "metadata": {},
   "outputs": [],
   "source": [
    "# convert csv to df\n",
    "import pandas as pd\n",
    "entire_df = pd.read_csv(\"downloaded.csv\")"
   ]
  },
  {
   "cell_type": "markdown",
   "id": "f77d6fed",
   "metadata": {},
   "source": [
    "**ADD CODE TO SAMPLE DATA**"
   ]
  },
  {
   "cell_type": "code",
   "execution_count": 21,
   "id": "eb502685",
   "metadata": {},
   "outputs": [
    {
     "name": "stderr",
     "output_type": "stream",
     "text": [
      "/Users/scottqin/opt/anaconda3/lib/python3.9/site-packages/IPython/core/interactiveshell.py:3444: DtypeWarning: Columns (1,2,3,12,20,21,27,30,35,36,42,45,53,54) have mixed types.Specify dtype option on import or set low_memory=False.\n",
      "  exec(code_obj, self.user_global_ns, self.user_ns)\n"
     ]
    }
   ],
   "source": [
    "# Load the sampled data\n",
    "df = pd.read_csv('sampled.csv')"
   ]
  },
  {
   "cell_type": "code",
   "execution_count": 22,
   "id": "99e86240",
   "metadata": {},
   "outputs": [],
   "source": [
    "# We will clean the sampled data year by year. There are columns with different names showing the same types of data.\n",
    "# We need to merge these columns together and delete the irrelevant columns\n",
    "# From the given sample table we know there are 8 useful columns."
   ]
  },
  {
   "cell_type": "code",
   "execution_count": 23,
   "id": "6270f79e",
   "metadata": {},
   "outputs": [],
   "source": [
    "pd.set_option('display.max_columns', None)"
   ]
  },
  {
   "cell_type": "code",
   "execution_count": 24,
   "id": "3e5684ef",
   "metadata": {},
   "outputs": [],
   "source": [
    "# create a new datafram called cleaned\n",
    "cleaned = pd.DataFrame()\n",
    "# create new columns\n",
    "pickup_datetime = []\n",
    "fare_amount = []\n",
    "pickup_longitude = []\n",
    "pickup_latitude = []\n",
    "dropoff_longitude = []\n",
    "dropoff_latitude = []\n",
    "passenger_count = []"
   ]
  },
  {
   "cell_type": "code",
   "execution_count": 25,
   "id": "66e7be78",
   "metadata": {},
   "outputs": [],
   "source": [
    "# clean the data from 2009\n",
    "temp = df.iloc[0:14400]\n",
    "pickup_datetime += list(temp['Trip_Pickup_DateTime'])\n",
    "fare_amount += list(temp['Fare_Amt'])\n",
    "pickup_longitude += list(temp['Start_Lon'])\n",
    "pickup_latitude += list(temp['Start_Lat'])\n",
    "dropoff_longitude += list(temp['End_Lon'])\n",
    "dropoff_latitude += list(temp['End_Lat'])\n",
    "passenger_count += list(temp['Passenger_Count'])"
   ]
  },
  {
   "cell_type": "code",
   "execution_count": 26,
   "id": "5e5d80c3",
   "metadata": {},
   "outputs": [],
   "source": [
    "# clean the data from 2010\n",
    "temp = df.iloc[14400:28800]\n",
    "pickup_datetime += list(temp['pickup_datetime'])\n",
    "fare_amount += list(temp['fare_amount'])\n",
    "pickup_longitude += list(temp['pickup_longitude'])\n",
    "pickup_latitude += list(temp['pickup_latitude'])\n",
    "dropoff_longitude += list(temp['dropoff_longitude'])\n",
    "dropoff_latitude += list(temp['dropoff_latitude'])\n",
    "passenger_count += list(temp['passenger_count'])"
   ]
  },
  {
   "cell_type": "code",
   "execution_count": 27,
   "id": "ad5059cb",
   "metadata": {},
   "outputs": [],
   "source": [
    "# clean the data from 2011\n",
    "temp = df.iloc[28800:43200]\n",
    "pickup_datetime += list(temp['pickup_datetime'])\n",
    "fare_amount += list(temp['fare_amount'])\n",
    "pickup_longitude += list(temp['pickup_longitude'])\n",
    "pickup_latitude += list(temp['pickup_latitude'])\n",
    "dropoff_longitude += list(temp['dropoff_longitude'])\n",
    "dropoff_latitude += list(temp['dropoff_latitude'])\n",
    "passenger_count += list(temp['passenger_count'])"
   ]
  },
  {
   "cell_type": "code",
   "execution_count": 28,
   "id": "5f3bd236",
   "metadata": {},
   "outputs": [],
   "source": [
    "# clean the data from 2012\n",
    "temp = df.iloc[43200:57600]\n",
    "pickup_datetime += list(temp['pickup_datetime'])\n",
    "fare_amount += list(temp['fare_amount'])\n",
    "pickup_longitude += list(temp['pickup_longitude'])\n",
    "pickup_latitude += list(temp['pickup_latitude'])\n",
    "dropoff_longitude += list(temp['dropoff_longitude'])\n",
    "dropoff_latitude += list(temp['dropoff_latitude'])\n",
    "passenger_count += list(temp['passenger_count'])"
   ]
  },
  {
   "cell_type": "code",
   "execution_count": 29,
   "id": "80e17f13",
   "metadata": {},
   "outputs": [],
   "source": [
    "# clean the data from 2013\n",
    "temp = df.iloc[57600:72000]\n",
    "pickup_datetime += list(temp['pickup_datetime'])\n",
    "fare_amount += list(temp['fare_amount'])\n",
    "pickup_longitude += list(temp['pickup_longitude'])\n",
    "pickup_latitude += list(temp['pickup_latitude'])\n",
    "dropoff_longitude += list(temp['dropoff_longitude'])\n",
    "dropoff_latitude += list(temp['dropoff_latitude'])\n",
    "passenger_count += list(temp['passenger_count'])"
   ]
  },
  {
   "cell_type": "code",
   "execution_count": 30,
   "id": "852153a3",
   "metadata": {},
   "outputs": [],
   "source": [
    "# clean the data from 2014\n",
    "temp = df.iloc[72000:86400]\n",
    "pickup_datetime += list(temp['pickup_datetime'])\n",
    "fare_amount += list(temp['fare_amount'])\n",
    "pickup_longitude += list(temp['pickup_longitude'])\n",
    "pickup_latitude += list(temp['pickup_latitude'])\n",
    "dropoff_longitude += list(temp['dropoff_longitude'])\n",
    "dropoff_latitude += list(temp['dropoff_latitude'])\n",
    "passenger_count += list(temp['passenger_count'])"
   ]
  },
  {
   "cell_type": "code",
   "execution_count": 31,
   "id": "46f5f413",
   "metadata": {},
   "outputs": [],
   "source": [
    "# clean the data from 2015\n",
    "temp = df.iloc[86400:]\n",
    "pickup_datetime += list(temp['tpep_pickup_datetime'])\n",
    "fare_amount += list(temp['fare_amount'])\n",
    "pickup_longitude += list(temp['pickup_longitude'])\n",
    "pickup_latitude += list(temp['pickup_latitude'])\n",
    "dropoff_longitude += list(temp['dropoff_longitude'])\n",
    "dropoff_latitude += list(temp['dropoff_latitude'])\n",
    "passenger_count += list(temp['passenger_count'])\n"
   ]
  },
  {
   "cell_type": "code",
   "execution_count": 32,
   "id": "7f2cea39",
   "metadata": {},
   "outputs": [],
   "source": [
    "# add all the clean columns to the clean table\n",
    "cleaned['pickup_datetime'] = pickup_datetime\n",
    "cleaned['fare_amount'] = fare_amount\n",
    "cleaned['pickup_longitude'] = pickup_longitude\n",
    "cleaned['pickup_latitude'] = pickup_latitude\n",
    "cleaned['dropoff_longitude']= dropoff_longitude\n",
    "cleaned['dropoff_latitude'] = dropoff_latitude\n",
    "cleaned['passenger_count'] = passenger_count"
   ]
  },
  {
   "cell_type": "code",
   "execution_count": null,
   "id": "461e2033",
   "metadata": {},
   "outputs": [],
   "source": []
  },
  {
   "cell_type": "code",
   "execution_count": null,
   "id": "5e31a5ec",
   "metadata": {},
   "outputs": [],
   "source": []
  },
  {
   "cell_type": "code",
   "execution_count": 33,
   "id": "7437d2c3",
   "metadata": {},
   "outputs": [],
   "source": [
    "# exclude data outside of nyc\n",
    "cleaned = cleaned.loc[(cleaned['pickup_longitude'] > -74.24233) & (cleaned['pickup_longitude'] < -73.717047)]\n",
    "cleaned = cleaned.loc[(cleaned['dropoff_longitude'] > -74.24233) & (cleaned['dropoff_longitude'] < -73.717047)]\n",
    "cleaned = cleaned.loc[(cleaned['pickup_latitude'] > 40.560445) & (cleaned['pickup_latitude'] < 40.908524)]\n",
    "cleaned = cleaned.loc[(cleaned['dropoff_latitude'] > 40.560445) & (cleaned['dropoff_latitude'] < 40.908524)]"
   ]
  },
  {
   "cell_type": "code",
   "execution_count": 34,
   "id": "ae651ada",
   "metadata": {},
   "outputs": [],
   "source": [
    "# define a function to calculate the distance between coordinates\n",
    "def distance(lat1, lon1, lat2, lon2):\n",
    "    p = pi/180\n",
    "    a = 0.5 - cos((lat2-lat1)*p)/2 + cos(lat1*p) * cos(lat2*p) * (1-cos((lon2-lon1)*p))/2\n",
    "    return 12742 * asin(sqrt(a))"
   ]
  },
  {
   "cell_type": "code",
   "execution_count": 35,
   "id": "db7c40c0",
   "metadata": {},
   "outputs": [
    {
     "data": {
      "text/plain": [
       "10.251851855874952"
      ]
     },
     "execution_count": 35,
     "metadata": {},
     "output_type": "execute_result"
    }
   ],
   "source": [
    "# testing the function\n",
    "distance(40.751500, -73.984090, 40.770418, -73.864958)"
   ]
  },
  {
   "cell_type": "code",
   "execution_count": null,
   "id": "f4d7486c",
   "metadata": {},
   "outputs": [],
   "source": []
  },
  {
   "cell_type": "code",
   "execution_count": 36,
   "id": "cec5dbc9",
   "metadata": {},
   "outputs": [],
   "source": [
    "# apply the function to table and add a new distance column\n",
    "cleaned['distance'] = cleaned[['pickup_latitude','pickup_longitude','dropoff_latitude', \n",
    "                              'dropoff_longitude']].apply(lambda x: distance(*x), axis=1)"
   ]
  },
  {
   "cell_type": "code",
   "execution_count": 37,
   "id": "2450cefa",
   "metadata": {},
   "outputs": [],
   "source": [
    "# define a function to extract the hour number\n",
    "def hour_extract(x):\n",
    "    return x[11:13]"
   ]
  },
  {
   "cell_type": "code",
   "execution_count": null,
   "id": "27010b27",
   "metadata": {},
   "outputs": [],
   "source": []
  },
  {
   "cell_type": "code",
   "execution_count": null,
   "id": "d72e287e",
   "metadata": {},
   "outputs": [],
   "source": []
  },
  {
   "cell_type": "code",
   "execution_count": null,
   "id": "d2d25655",
   "metadata": {},
   "outputs": [],
   "source": []
  },
  {
   "cell_type": "code",
   "execution_count": null,
   "id": "385b5d9f",
   "metadata": {},
   "outputs": [],
   "source": []
  },
  {
   "cell_type": "code",
   "execution_count": null,
   "id": "8a894a82",
   "metadata": {},
   "outputs": [],
   "source": []
  },
  {
   "cell_type": "code",
   "execution_count": null,
   "id": "5aeda0d1",
   "metadata": {},
   "outputs": [],
   "source": []
  },
  {
   "cell_type": "code",
   "execution_count": 38,
   "id": "a6db9510",
   "metadata": {},
   "outputs": [],
   "source": [
    "# apply the function to table and add a new hour column\n",
    "cleaned['hour'] = cleaned[['pickup_datetime']].apply(lambda x: int(hour_extract(*x)), axis=1)"
   ]
  },
  {
   "cell_type": "code",
   "execution_count": 39,
   "id": "ed05dcd0",
   "metadata": {},
   "outputs": [],
   "source": [
    "uber = pd.read_csv('uber_rides_sample.csv')"
   ]
  },
  {
   "cell_type": "code",
   "execution_count": 40,
   "id": "8b6f2ced",
   "metadata": {},
   "outputs": [],
   "source": [
    "# add distance column to uber table\n",
    "uber['distance'] = uber[['pickup_latitude','pickup_longitude','dropoff_latitude', \n",
    "                              'dropoff_longitude']].apply(lambda x: distance(*x), axis=1)"
   ]
  },
  {
   "cell_type": "code",
   "execution_count": 41,
   "id": "6ab1898e",
   "metadata": {},
   "outputs": [],
   "source": [
    "# define a day conversion function\n",
    "def day_conv(x):\n",
    "    return datetime.datetime.strptime(x[:10], '%Y-%m-%d').strftime('%A')"
   ]
  },
  {
   "cell_type": "code",
   "execution_count": 42,
   "id": "1b852e3d",
   "metadata": {},
   "outputs": [
    {
     "data": {
      "text/plain": [
       "'Thursday'"
      ]
     },
     "execution_count": 42,
     "metadata": {},
     "output_type": "execute_result"
    }
   ],
   "source": [
    "# testing the function\n",
    "day_conv(uber['pickup_datetime'][0])"
   ]
  },
  {
   "cell_type": "code",
   "execution_count": 43,
   "id": "27b1eaf2",
   "metadata": {},
   "outputs": [],
   "source": [
    "# apply the function to uber table and add a new day column\n",
    "uber['day'] = uber[['pickup_datetime']].apply(lambda x: day_conv(*x), axis=1)"
   ]
  },
  {
   "cell_type": "code",
   "execution_count": null,
   "id": "60a1e686",
   "metadata": {},
   "outputs": [],
   "source": []
  },
  {
   "cell_type": "raw",
   "id": "6a8edbb7",
   "metadata": {},
   "source": []
  },
  {
   "cell_type": "code",
   "execution_count": null,
   "id": "b89b86b1",
   "metadata": {},
   "outputs": [],
   "source": []
  },
  {
   "cell_type": "code",
   "execution_count": null,
   "id": "e1886b46",
   "metadata": {},
   "outputs": [],
   "source": []
  },
  {
   "cell_type": "code",
   "execution_count": 45,
   "id": "ffee853e",
   "metadata": {},
   "outputs": [],
   "source": [
    "os.makedirs('Github/4501-Project', exist_ok=True)  \n",
    "cleaned.to_csv('cleaned.csv') \n",
    "uber.to_csv('uber.csv') "
   ]
  },
  {
   "cell_type": "markdown",
   "id": "51ef3121",
   "metadata": {},
   "source": [
    "# Part 2: Storing Data"
   ]
  },
  {
   "cell_type": "code",
   "execution_count": 1,
   "id": "01bee4c3",
   "metadata": {},
   "outputs": [],
   "source": [
    "from sqlalchemy import create_engine\n",
    "engine = create_engine(f'sqlite:///project.db', echo=True)\n",
    "sqlite_connection = engine.connect()"
   ]
  },
  {
   "cell_type": "code",
   "execution_count": 4,
   "id": "de08790e",
   "metadata": {},
   "outputs": [
    {
     "name": "stdout",
     "output_type": "stream",
     "text": [
      "2022-04-30 15:59:39,453 INFO sqlalchemy.engine.Engine PRAGMA main.table_info(\"yellow_taxi\")\n",
      "2022-04-30 15:59:39,454 INFO sqlalchemy.engine.Engine [raw sql] ()\n",
      "2022-04-30 15:59:39,455 INFO sqlalchemy.engine.Engine PRAGMA temp.table_info(\"yellow_taxi\")\n",
      "2022-04-30 15:59:39,455 INFO sqlalchemy.engine.Engine [raw sql] ()\n",
      "2022-04-30 15:59:39,457 INFO sqlalchemy.engine.Engine BEGIN (implicit)\n",
      "2022-04-30 15:59:39,458 INFO sqlalchemy.engine.Engine \n",
      "CREATE TABLE yellow_taxi (\n",
      "\t\"index\" BIGINT, \n",
      "\t\"Unnamed: 0\" BIGINT, \n",
      "\tpickup_datetime TEXT, \n",
      "\tfare_amount FLOAT, \n",
      "\tpickup_longitude FLOAT, \n",
      "\tpickup_latitude FLOAT, \n",
      "\tdropoff_longitude FLOAT, \n",
      "\tdropoff_latitude FLOAT, \n",
      "\tpassenger_count FLOAT, \n",
      "\tdistance FLOAT, \n",
      "\thour BIGINT\n",
      ")\n",
      "\n",
      "\n",
      "2022-04-30 15:59:39,458 INFO sqlalchemy.engine.Engine [no key 0.00040s] ()\n",
      "2022-04-30 15:59:39,460 INFO sqlalchemy.engine.Engine CREATE INDEX ix_yellow_taxi_index ON yellow_taxi (\"index\")\n",
      "2022-04-30 15:59:39,460 INFO sqlalchemy.engine.Engine [no key 0.00040s] ()\n",
      "2022-04-30 15:59:39,462 INFO sqlalchemy.engine.Engine COMMIT\n",
      "2022-04-30 15:59:39,502 INFO sqlalchemy.engine.Engine BEGIN (implicit)\n",
      "2022-04-30 15:59:40,012 INFO sqlalchemy.engine.Engine INSERT INTO yellow_taxi (\"index\", \"Unnamed: 0\", pickup_datetime, fare_amount, pickup_longitude, pickup_latitude, dropoff_longitude, dropoff_latitude, passenger_count, distance, hour) VALUES (?, ?, ?, ?, ?, ?, ?, ?, ?, ?, ?)\n",
      "2022-04-30 15:59:40,013 INFO sqlalchemy.engine.Engine [generated in 0.39704s] ((0, 0, '2009-01-29 13:48:00', 25.3, -73.98408999999998, 40.7515, -73.864958, 40.770418, 5.0, 10.251851855874952, 13), (1, 1, '2009-01-07 07:39:13', 10.9, -73.982344, 40.728068, -74.01143399999998, 40.702588, 1.0, 3.7467758351789744, 7), (2, 2, '2009-01-11 16:22:24', 7.7, -73.988529, 40.764188, -73.991264, 40.739165, 1.0, 2.7919521569271666, 16), (3, 3, '2009-01-18 10:47:30', 22.9, -73.98644, 40.768326, -73.871331, 40.774323, 1.0, 9.716279678058022, 10), (4, 4, '2009-01-26 08:05:00', 10.9, -73.95979199999998, 40.762653, -73.93756299999998, 40.804487, 1.0, 5.014114237845068, 8), (5, 5, '2009-01-01 11:03:00', 4.5, -73.975477, 40.79022, -73.96791, 40.80053, 5.0, 1.3115003769045566, 11), (6, 6, '2009-01-26 20:18:00', 4.5, -73.96821699999998, 40.751052, -73.95836699999998, 40.76279, 1.0, 1.5465720213313086, 20), (7, 7, '2009-01-31 12:49:00', 5.3, -73.96237499999998, 40.776483, -73.966497, 40.76587, 2.0, 1.2301029216768855, 12)  ... displaying 10 of 77426 total bound parameter sets ...  (77424, 93598, '2015-06-07 13:14:23', 40.0, -73.78816223144531, 40.641426086425774, -73.9490737915039, 40.69469833374024, 2.0, 14.807884583850951, 13), (77425, 93599, '2015-06-15 08:26:21', 8.0, -74.00401306152342, 40.72198867797852, -73.98668670654298, 40.736770629882805, 1.0, 2.1984578903539487, 8))\n",
      "2022-04-30 15:59:40,177 INFO sqlalchemy.engine.Engine COMMIT\n"
     ]
    }
   ],
   "source": [
    "# create yellow taxi sql table\n",
    "yellow_taxi = pd.read_csv(\"cleaned.csv\")\n",
    "yellow_taxi.to_sql(\"yellow_taxi\", engine)"
   ]
  },
  {
   "cell_type": "code",
   "execution_count": null,
   "id": "c25c6ba8",
   "metadata": {},
   "outputs": [],
   "source": [
    "# create uber sql table"
   ]
  },
  {
   "cell_type": "code",
   "execution_count": null,
   "id": "b49ce917",
   "metadata": {},
   "outputs": [],
   "source": [
    "# create weather sql table"
   ]
  },
  {
   "cell_type": "code",
   "execution_count": null,
   "id": "9a7ce414",
   "metadata": {},
   "outputs": [],
   "source": [
    "def write_query_to_file(query, outfile):\n",
    "    raise NotImplemented()"
   ]
  },
  {
   "cell_type": "code",
   "execution_count": 5,
   "id": "957eef9f",
   "metadata": {},
   "outputs": [
    {
     "name": "stdout",
     "output_type": "stream",
     "text": [
      "2022-04-30 15:59:45,208 INFO sqlalchemy.engine.Engine \n",
      "SELECT \"hour\", count(hour)\n",
      "    FROM \"yellow_taxi\"\n",
      "    GROUP BY \"hour\"\n",
      "\n",
      "2022-04-30 15:59:45,212 INFO sqlalchemy.engine.Engine [raw sql] ()\n"
     ]
    },
    {
     "data": {
      "text/plain": [
       "[(0, 3057),\n",
       " (1, 2225),\n",
       " (2, 1689),\n",
       " (3, 1218),\n",
       " (4, 879),\n",
       " (5, 766),\n",
       " (6, 1558),\n",
       " (7, 2692),\n",
       " (8, 3584),\n",
       " (9, 3590),\n",
       " (10, 3477),\n",
       " (11, 3579),\n",
       " (12, 3730),\n",
       " (13, 3815),\n",
       " (14, 3943),\n",
       " (15, 3748),\n",
       " (16, 3344),\n",
       " (17, 3883),\n",
       " (18, 4748),\n",
       " (19, 4761),\n",
       " (20, 4567),\n",
       " (21, 4565),\n",
       " (22, 4203),\n",
       " (23, 3805)]"
      ]
     },
     "execution_count": 5,
     "metadata": {},
     "output_type": "execute_result"
    }
   ],
   "source": [
    "QUERY_1 = \"\"\"\n",
    "SELECT \"hour\", count(hour)\n",
    "    FROM \"yellow_taxi\"\n",
    "    GROUP BY \"hour\"\n",
    "\"\"\"\n",
    "\n",
    "engine.execute(QUERY_1).fetchall()\n",
    "# hour 19 (7pm) is the most popular time of day to take a yellow taxi"
   ]
  },
  {
   "cell_type": "code",
   "execution_count": null,
   "id": "85af86b8",
   "metadata": {},
   "outputs": [],
   "source": []
  },
  {
   "cell_type": "code",
   "execution_count": null,
   "id": "b2846e69",
   "metadata": {},
   "outputs": [],
   "source": []
  },
  {
   "cell_type": "markdown",
   "id": "6ef65f1f",
   "metadata": {},
   "source": [
    "# Part 3: Understanding Data"
   ]
  },
  {
   "cell_type": "code",
   "execution_count": null,
   "id": "ebefc1e1",
   "metadata": {},
   "outputs": [],
   "source": []
  },
  {
   "cell_type": "code",
   "execution_count": null,
   "id": "d5c0f199",
   "metadata": {},
   "outputs": [],
   "source": []
  },
  {
   "cell_type": "code",
   "execution_count": null,
   "id": "bcf49cb8",
   "metadata": {},
   "outputs": [],
   "source": []
  },
  {
   "cell_type": "code",
   "execution_count": null,
   "id": "afbe807e",
   "metadata": {},
   "outputs": [],
   "source": []
  },
  {
   "cell_type": "code",
   "execution_count": null,
   "id": "781ef03c",
   "metadata": {},
   "outputs": [],
   "source": []
  },
  {
   "cell_type": "code",
   "execution_count": null,
   "id": "325bcd67",
   "metadata": {},
   "outputs": [],
   "source": []
  },
  {
   "cell_type": "code",
   "execution_count": null,
   "id": "211ac6e9",
   "metadata": {},
   "outputs": [],
   "source": []
  },
  {
   "cell_type": "code",
   "execution_count": null,
   "id": "7ff45091",
   "metadata": {},
   "outputs": [],
   "source": []
  },
  {
   "cell_type": "code",
   "execution_count": null,
   "id": "859f9c94",
   "metadata": {},
   "outputs": [],
   "source": []
  },
  {
   "cell_type": "markdown",
   "id": "1d757193",
   "metadata": {},
   "source": [
    "# Part 4: Visualizing Data"
   ]
  },
  {
   "cell_type": "code",
   "execution_count": null,
   "id": "89974ec1",
   "metadata": {},
   "outputs": [],
   "source": []
  },
  {
   "cell_type": "code",
   "execution_count": null,
   "id": "bd715dec",
   "metadata": {},
   "outputs": [],
   "source": []
  },
  {
   "cell_type": "code",
   "execution_count": null,
   "id": "44e0b5a6",
   "metadata": {},
   "outputs": [],
   "source": []
  },
  {
   "cell_type": "code",
   "execution_count": null,
   "id": "e15955a2",
   "metadata": {},
   "outputs": [],
   "source": []
  }
 ],
 "metadata": {
  "kernelspec": {
   "display_name": "Python 3 (ipykernel)",
   "language": "python",
   "name": "python3"
  },
  "language_info": {
   "codemirror_mode": {
    "name": "ipython",
    "version": 3
   },
   "file_extension": ".py",
   "mimetype": "text/x-python",
   "name": "python",
   "nbconvert_exporter": "python",
   "pygments_lexer": "ipython3",
   "version": "3.9.7"
  }
 },
 "nbformat": 4,
 "nbformat_minor": 5
}
