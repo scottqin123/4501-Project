{
 "cells": [
  {
   "cell_type": "code",
   "execution_count": 47,
   "id": "2fb68ce6",
   "metadata": {},
   "outputs": [],
   "source": [
    "import pandas as pd\n",
    "import os\n",
    "from math import cos, asin, sqrt, pi\n",
    "import datetime"
   ]
  },
  {
   "cell_type": "markdown",
   "id": "f90a377e",
   "metadata": {},
   "source": [
    "# Part 1: Data Processing"
   ]
  },
  {
   "cell_type": "code",
   "execution_count": null,
   "id": "4c10a251",
   "metadata": {},
   "outputs": [],
   "source": [
    "TAXI_URL = \"https://www1.nyc.gov/site/tlc/about/tlc-trip-record-data.page\"\n",
    "# get HTML from main page\n",
    "content = requests.get(TAXI_URL)\n",
    "soup = bs4.BeautifulSoup(content.text, 'html.parser')"
   ]
  },
  {
   "cell_type": "code",
   "execution_count": null,
   "id": "41030f71",
   "metadata": {},
   "outputs": [],
   "source": [
    "# find all links on the main page\n",
    "pattern = r\"yellow_tripdata_20(0[0-9]|1[0-5])\\-\\d{2}.csv$\"\n",
    "links = [a['href'] for a in soup.find_all('a')]x"
   ]
  },
  {
   "cell_type": "code",
   "execution_count": null,
   "id": "80128047",
   "metadata": {},
   "outputs": [],
   "source": [
    "# use regex to get only the yellow taxi links from 2009 - june 2015\n",
    "new_list = []\n",
    "\n",
    "for link in links:\n",
    "    if re.search(pattern, link) is not None:\n",
    "        mo_1 = link[-6]\n",
    "        mo_2 = link[-5]\n",
    "        if mo_1 == \"1\":\n",
    "            new_list.append(link)\n",
    "        elif int(mo_2) <= 6:\n",
    "            new_list.append(link)"
   ]
  },
  {
   "cell_type": "code",
   "execution_count": null,
   "id": "972b2543",
   "metadata": {},
   "outputs": [],
   "source": [
    "# write csvs to files\n",
    "i = 0\n",
    "\n",
    "for link in new_list:\n",
    "    print(i)\n",
    "    i += 1\n",
    "    req = requests.get(link)\n",
    "    url_content = req.content\n",
    "    \n",
    "    csv_file = open('downloaded.csv', 'ab')\n",
    "    csv_file.write(url_content)\n",
    "    csv_file.close()"
   ]
  },
  {
   "cell_type": "code",
   "execution_count": null,
   "id": "3b4b47a6",
   "metadata": {},
   "outputs": [],
   "source": [
    "# convert csv to df\n",
    "import pandas as pd\n",
    "entire_df = pd.read_csv(\"downloaded.csv\")"
   ]
  },
  {
   "cell_type": "markdown",
   "id": "f77d6fed",
   "metadata": {},
   "source": [
    "**ADD CODE TO SAMPLE DATA**"
   ]
  },
  {
   "cell_type": "code",
   "execution_count": 21,
   "id": "eb502685",
   "metadata": {},
   "outputs": [
    {
     "name": "stderr",
     "output_type": "stream",
     "text": [
      "/Users/scottqin/opt/anaconda3/lib/python3.9/site-packages/IPython/core/interactiveshell.py:3444: DtypeWarning: Columns (1,2,3,12,20,21,27,30,35,36,42,45,53,54) have mixed types.Specify dtype option on import or set low_memory=False.\n",
      "  exec(code_obj, self.user_global_ns, self.user_ns)\n"
     ]
    }
   ],
   "source": [
    "# Load the sampled data\n",
    "df = pd.read_csv('sampled.csv')"
   ]
  },
  {
   "cell_type": "code",
   "execution_count": 22,
   "id": "99e86240",
   "metadata": {},
   "outputs": [],
   "source": [
    "# We will clean the sampled data year by year. There are columns with different names showing the same types of data.\n",
    "# We need to merge these columns together and delete the irrelevant columns\n",
    "# From the given sample table we know there are 8 useful columns."
   ]
  },
  {
   "cell_type": "code",
   "execution_count": 23,
   "id": "6270f79e",
   "metadata": {},
   "outputs": [],
   "source": [
    "pd.set_option('display.max_columns', None)"
   ]
  },
  {
   "cell_type": "code",
   "execution_count": 24,
   "id": "3e5684ef",
   "metadata": {},
   "outputs": [],
   "source": [
    "# create a new datafram called cleaned\n",
    "cleaned = pd.DataFrame()\n",
    "# create new columns\n",
    "pickup_datetime = []\n",
    "fare_amount = []\n",
    "pickup_longitude = []\n",
    "pickup_latitude = []\n",
    "dropoff_longitude = []\n",
    "dropoff_latitude = []\n",
    "passenger_count = []"
   ]
  },
  {
   "cell_type": "code",
   "execution_count": 25,
   "id": "66e7be78",
   "metadata": {},
   "outputs": [],
   "source": [
    "# clean the data from 2009\n",
    "temp = df.iloc[0:14400]\n",
    "pickup_datetime += list(temp['Trip_Pickup_DateTime'])\n",
    "fare_amount += list(temp['Fare_Amt'])\n",
    "pickup_longitude += list(temp['Start_Lon'])\n",
    "pickup_latitude += list(temp['Start_Lat'])\n",
    "dropoff_longitude += list(temp['End_Lon'])\n",
    "dropoff_latitude += list(temp['End_Lat'])\n",
    "passenger_count += list(temp['Passenger_Count'])"
   ]
  },
  {
   "cell_type": "code",
   "execution_count": 26,
   "id": "5e5d80c3",
   "metadata": {},
   "outputs": [],
   "source": [
    "# clean the data from 2010\n",
    "temp = df.iloc[14400:28800]\n",
    "pickup_datetime += list(temp['pickup_datetime'])\n",
    "fare_amount += list(temp['fare_amount'])\n",
    "pickup_longitude += list(temp['pickup_longitude'])\n",
    "pickup_latitude += list(temp['pickup_latitude'])\n",
    "dropoff_longitude += list(temp['dropoff_longitude'])\n",
    "dropoff_latitude += list(temp['dropoff_latitude'])\n",
    "passenger_count += list(temp['passenger_count'])"
   ]
  },
  {
   "cell_type": "code",
   "execution_count": 27,
   "id": "ad5059cb",
   "metadata": {},
   "outputs": [],
   "source": [
    "# clean the data from 2011\n",
    "temp = df.iloc[28800:43200]\n",
    "pickup_datetime += list(temp['pickup_datetime'])\n",
    "fare_amount += list(temp['fare_amount'])\n",
    "pickup_longitude += list(temp['pickup_longitude'])\n",
    "pickup_latitude += list(temp['pickup_latitude'])\n",
    "dropoff_longitude += list(temp['dropoff_longitude'])\n",
    "dropoff_latitude += list(temp['dropoff_latitude'])\n",
    "passenger_count += list(temp['passenger_count'])"
   ]
  },
  {
   "cell_type": "code",
   "execution_count": 28,
   "id": "5f3bd236",
   "metadata": {},
   "outputs": [],
   "source": [
    "# clean the data from 2012\n",
    "temp = df.iloc[43200:57600]\n",
    "pickup_datetime += list(temp['pickup_datetime'])\n",
    "fare_amount += list(temp['fare_amount'])\n",
    "pickup_longitude += list(temp['pickup_longitude'])\n",
    "pickup_latitude += list(temp['pickup_latitude'])\n",
    "dropoff_longitude += list(temp['dropoff_longitude'])\n",
    "dropoff_latitude += list(temp['dropoff_latitude'])\n",
    "passenger_count += list(temp['passenger_count'])"
   ]
  },
  {
   "cell_type": "code",
   "execution_count": 29,
   "id": "80e17f13",
   "metadata": {},
   "outputs": [],
   "source": [
    "# clean the data from 2013\n",
    "temp = df.iloc[57600:72000]\n",
    "pickup_datetime += list(temp['pickup_datetime'])\n",
    "fare_amount += list(temp['fare_amount'])\n",
    "pickup_longitude += list(temp['pickup_longitude'])\n",
    "pickup_latitude += list(temp['pickup_latitude'])\n",
    "dropoff_longitude += list(temp['dropoff_longitude'])\n",
    "dropoff_latitude += list(temp['dropoff_latitude'])\n",
    "passenger_count += list(temp['passenger_count'])"
   ]
  },
  {
   "cell_type": "code",
   "execution_count": 30,
   "id": "852153a3",
   "metadata": {},
   "outputs": [],
   "source": [
    "# clean the data from 2014\n",
    "temp = df.iloc[72000:86400]\n",
    "pickup_datetime += list(temp['pickup_datetime'])\n",
    "fare_amount += list(temp['fare_amount'])\n",
    "pickup_longitude += list(temp['pickup_longitude'])\n",
    "pickup_latitude += list(temp['pickup_latitude'])\n",
    "dropoff_longitude += list(temp['dropoff_longitude'])\n",
    "dropoff_latitude += list(temp['dropoff_latitude'])\n",
    "passenger_count += list(temp['passenger_count'])"
   ]
  },
  {
   "cell_type": "code",
   "execution_count": 31,
   "id": "46f5f413",
   "metadata": {},
   "outputs": [],
   "source": [
    "# clean the data from 2015\n",
    "temp = df.iloc[86400:]\n",
    "pickup_datetime += list(temp['tpep_pickup_datetime'])\n",
    "fare_amount += list(temp['fare_amount'])\n",
    "pickup_longitude += list(temp['pickup_longitude'])\n",
    "pickup_latitude += list(temp['pickup_latitude'])\n",
    "dropoff_longitude += list(temp['dropoff_longitude'])\n",
    "dropoff_latitude += list(temp['dropoff_latitude'])\n",
    "passenger_count += list(temp['passenger_count'])\n"
   ]
  },
  {
   "cell_type": "code",
   "execution_count": 32,
   "id": "7f2cea39",
   "metadata": {},
   "outputs": [],
   "source": [
    "# add all the clean columns to the clean table\n",
    "cleaned['pickup_datetime'] = pickup_datetime\n",
    "cleaned['fare_amount'] = fare_amount\n",
    "cleaned['pickup_longitude'] = pickup_longitude\n",
    "cleaned['pickup_latitude'] = pickup_latitude\n",
    "cleaned['dropoff_longitude']= dropoff_longitude\n",
    "cleaned['dropoff_latitude'] = dropoff_latitude\n",
    "cleaned['passenger_count'] = passenger_count"
   ]
  },
  {
   "cell_type": "code",
   "execution_count": null,
   "id": "461e2033",
   "metadata": {},
   "outputs": [],
   "source": []
  },
  {
   "cell_type": "code",
   "execution_count": null,
   "id": "5e31a5ec",
   "metadata": {},
   "outputs": [],
   "source": []
  },
  {
   "cell_type": "code",
   "execution_count": 33,
   "id": "7437d2c3",
   "metadata": {},
   "outputs": [],
   "source": [
    "# exclude data outside of nyc\n",
    "cleaned = cleaned.loc[(cleaned['pickup_longitude'] > -74.24233) & (cleaned['pickup_longitude'] < -73.717047)]\n",
    "cleaned = cleaned.loc[(cleaned['dropoff_longitude'] > -74.24233) & (cleaned['dropoff_longitude'] < -73.717047)]\n",
    "cleaned = cleaned.loc[(cleaned['pickup_latitude'] > 40.560445) & (cleaned['pickup_latitude'] < 40.908524)]\n",
    "cleaned = cleaned.loc[(cleaned['dropoff_latitude'] > 40.560445) & (cleaned['dropoff_latitude'] < 40.908524)]"
   ]
  },
  {
   "cell_type": "code",
   "execution_count": 34,
   "id": "ae651ada",
   "metadata": {},
   "outputs": [],
   "source": [
    "# define a function to calculate the distance between coordinates\n",
    "def distance(lat1, lon1, lat2, lon2):\n",
    "    p = pi/180\n",
    "    a = 0.5 - cos((lat2-lat1)*p)/2 + cos(lat1*p) * cos(lat2*p) * (1-cos((lon2-lon1)*p))/2\n",
    "    return 12742 * asin(sqrt(a))"
   ]
  },
  {
   "cell_type": "code",
   "execution_count": 35,
   "id": "db7c40c0",
   "metadata": {},
   "outputs": [
    {
     "data": {
      "text/plain": [
       "10.251851855874952"
      ]
     },
     "execution_count": 35,
     "metadata": {},
     "output_type": "execute_result"
    }
   ],
   "source": [
    "# testing the function\n",
    "distance(40.751500, -73.984090, 40.770418, -73.864958)"
   ]
  },
  {
   "cell_type": "code",
   "execution_count": null,
   "id": "f4d7486c",
   "metadata": {},
   "outputs": [],
   "source": []
  },
  {
   "cell_type": "code",
   "execution_count": 36,
   "id": "cec5dbc9",
   "metadata": {},
   "outputs": [],
   "source": [
    "# apply the function to table and add a new distance column\n",
    "cleaned['distance'] = cleaned[['pickup_latitude','pickup_longitude','dropoff_latitude', \n",
    "                              'dropoff_longitude']].apply(lambda x: distance(*x), axis=1)"
   ]
  },
  {
   "cell_type": "code",
   "execution_count": 37,
   "id": "2450cefa",
   "metadata": {},
   "outputs": [],
   "source": [
    "# define a function to extract the hour number\n",
    "def hour_extract(x):\n",
    "    return x[11:13]"
   ]
  },
  {
   "cell_type": "code",
   "execution_count": null,
   "id": "27010b27",
   "metadata": {},
   "outputs": [],
   "source": []
  },
  {
   "cell_type": "code",
   "execution_count": null,
   "id": "d72e287e",
   "metadata": {},
   "outputs": [],
   "source": []
  },
  {
   "cell_type": "code",
   "execution_count": null,
   "id": "d2d25655",
   "metadata": {},
   "outputs": [],
   "source": []
  },
  {
   "cell_type": "code",
   "execution_count": null,
   "id": "385b5d9f",
   "metadata": {},
   "outputs": [],
   "source": []
  },
  {
   "cell_type": "code",
   "execution_count": null,
   "id": "8a894a82",
   "metadata": {},
   "outputs": [],
   "source": []
  },
  {
   "cell_type": "code",
   "execution_count": null,
   "id": "5aeda0d1",
   "metadata": {},
   "outputs": [],
   "source": []
  },
  {
   "cell_type": "code",
   "execution_count": 38,
   "id": "a6db9510",
   "metadata": {},
   "outputs": [],
   "source": [
    "# apply the function to table and add a new hour column\n",
    "cleaned['hour'] = cleaned[['pickup_datetime']].apply(lambda x: int(hour_extract(*x)), axis=1)"
   ]
  },
  {
   "cell_type": "code",
   "execution_count": 39,
   "id": "ed05dcd0",
   "metadata": {},
   "outputs": [],
   "source": [
    "uber = pd.read_csv('uber_rides_sample.csv')"
   ]
  },
  {
   "cell_type": "code",
   "execution_count": 40,
   "id": "8b6f2ced",
   "metadata": {},
   "outputs": [],
   "source": [
    "# add distance column to uber table\n",
    "uber['distance'] = uber[['pickup_latitude','pickup_longitude','dropoff_latitude', \n",
    "                              'dropoff_longitude']].apply(lambda x: distance(*x), axis=1)"
   ]
  },
  {
   "cell_type": "code",
   "execution_count": 41,
   "id": "6ab1898e",
   "metadata": {},
   "outputs": [],
   "source": [
    "# define a day conversion function\n",
    "def day_conv(x):\n",
    "    return datetime.datetime.strptime(x[:10], '%Y-%m-%d').strftime('%A')"
   ]
  },
  {
   "cell_type": "code",
   "execution_count": 42,
   "id": "1b852e3d",
   "metadata": {},
   "outputs": [
    {
     "data": {
      "text/plain": [
       "'Thursday'"
      ]
     },
     "execution_count": 42,
     "metadata": {},
     "output_type": "execute_result"
    }
   ],
   "source": [
    "# testing the function\n",
    "day_conv(uber['pickup_datetime'][0])"
   ]
  },
  {
   "cell_type": "code",
   "execution_count": 43,
   "id": "27b1eaf2",
   "metadata": {},
   "outputs": [],
   "source": [
    "# apply the function to uber table and add a new day column\n",
    "uber['day'] = uber[['pickup_datetime']].apply(lambda x: day_conv(*x), axis=1)"
   ]
  },
  {
   "cell_type": "code",
   "execution_count": 46,
   "id": "60a1e686",
   "metadata": {},
   "outputs": [],
   "source": [
    "# clean the weather data"
   ]
  },
  {
   "cell_type": "code",
   "execution_count": 54,
   "id": "e91251f5",
   "metadata": {},
   "outputs": [
    {
     "name": "stderr",
     "output_type": "stream",
     "text": [
      "/Users/scottqin/opt/anaconda3/lib/python3.9/site-packages/IPython/core/interactiveshell.py:3444: DtypeWarning: Columns (8,9,17,18,78) have mixed types.Specify dtype option on import or set low_memory=False.\n",
      "  exec(code_obj, self.user_global_ns, self.user_ns)\n"
     ]
    }
   ],
   "source": [
    "w14 = pd.read_csv('weather/2014_weather.csv')"
   ]
  },
  {
   "cell_type": "code",
   "execution_count": 71,
   "id": "b89b86b1",
   "metadata": {},
   "outputs": [],
   "source": [
    "cleaned_14 = pd.DataFrame()\n",
    "# select summary of day\n",
    "w14 = w14.loc[w14['REPORT_TYPE'] == 'SOD  ']\n",
    "cleaned_14['date'] = w14['DATE']\n",
    "cleaned_14['windspeed'] = w14['DailyAverageWindSpeed']"
   ]
  },
  {
   "cell_type": "code",
   "execution_count": 131,
   "id": "e1886b46",
   "metadata": {},
   "outputs": [
    {
     "name": "stderr",
     "output_type": "stream",
     "text": [
      "/Users/scottqin/opt/anaconda3/lib/python3.9/site-packages/IPython/core/interactiveshell.py:3444: DtypeWarning: Columns (7,8,9,10,17,18,42,65) have mixed types.Specify dtype option on import or set low_memory=False.\n",
      "  exec(code_obj, self.user_global_ns, self.user_ns)\n"
     ]
    }
   ],
   "source": [
    "w12 = pd.read_csv('weather/2012_weather.csv')"
   ]
  },
  {
   "cell_type": "code",
   "execution_count": 132,
   "id": "19a64afb",
   "metadata": {},
   "outputs": [],
   "source": [
    "# filter out summary of day\n",
    "w12 = w12.loc[w12['REPORT_TYPE'] != 'SOD  ']\n",
    "# filter out summary of month\n",
    "w12 = w12.loc[w12['REPORT_TYPE'] != 'SOM  ']\n",
    "# filter our half hour\n",
    "mask = w12['DATE'].str.contains('51', case=False, na=False)\n",
    "w12 = w12[mask]\n",
    "# select sandy data\n",
    "w12 = w12.loc[8407:8940]\n",
    "sandy = pd.DataFrame()\n",
    "sandy['DATE'] = w12['DATE']\n",
    "sandy['precipitation'] = w12['HourlyPrecipitation']"
   ]
  },
  {
   "cell_type": "code",
   "execution_count": null,
   "id": "b435809c",
   "metadata": {},
   "outputs": [],
   "source": []
  },
  {
   "cell_type": "code",
   "execution_count": null,
   "id": "a57d2e53",
   "metadata": {},
   "outputs": [],
   "source": []
  },
  {
   "cell_type": "code",
   "execution_count": null,
   "id": "d98390f3",
   "metadata": {},
   "outputs": [],
   "source": []
  },
  {
   "cell_type": "code",
   "execution_count": null,
   "id": "e96d3cdd",
   "metadata": {},
   "outputs": [],
   "source": []
  },
  {
   "cell_type": "code",
   "execution_count": 134,
   "id": "ffee853e",
   "metadata": {},
   "outputs": [],
   "source": [
    "os.makedirs('Github/4501-Project', exist_ok=True)  \n",
    "cleaned.to_csv('cleaned.csv') \n",
    "uber.to_csv('uber.csv') \n",
    "cleaned_14.to_csv('cleaned_14.csv') \n",
    "sandy.to_csv('sandy.csv') "
   ]
  },
  {
   "cell_type": "markdown",
   "id": "51ef3121",
   "metadata": {},
   "source": [
    "# Part 2: Storing Data"
   ]
  },
  {
   "cell_type": "code",
   "execution_count": 1,
   "id": "01bee4c3",
   "metadata": {},
   "outputs": [],
   "source": [
    "from sqlalchemy import create_engine\n",
    "engine = create_engine(f'sqlite:///project.db', echo=True)\n",
    "sqlite_connection = engine.connect()"
   ]
  },
  {
   "cell_type": "code",
   "execution_count": 4,
   "id": "de08790e",
   "metadata": {},
   "outputs": [
    {
     "name": "stdout",
     "output_type": "stream",
     "text": [
      "2022-04-30 15:59:39,453 INFO sqlalchemy.engine.Engine PRAGMA main.table_info(\"yellow_taxi\")\n",
      "2022-04-30 15:59:39,454 INFO sqlalchemy.engine.Engine [raw sql] ()\n",
      "2022-04-30 15:59:39,455 INFO sqlalchemy.engine.Engine PRAGMA temp.table_info(\"yellow_taxi\")\n",
      "2022-04-30 15:59:39,455 INFO sqlalchemy.engine.Engine [raw sql] ()\n",
      "2022-04-30 15:59:39,457 INFO sqlalchemy.engine.Engine BEGIN (implicit)\n",
      "2022-04-30 15:59:39,458 INFO sqlalchemy.engine.Engine \n",
      "CREATE TABLE yellow_taxi (\n",
      "\t\"index\" BIGINT, \n",
      "\t\"Unnamed: 0\" BIGINT, \n",
      "\tpickup_datetime TEXT, \n",
      "\tfare_amount FLOAT, \n",
      "\tpickup_longitude FLOAT, \n",
      "\tpickup_latitude FLOAT, \n",
      "\tdropoff_longitude FLOAT, \n",
      "\tdropoff_latitude FLOAT, \n",
      "\tpassenger_count FLOAT, \n",
      "\tdistance FLOAT, \n",
      "\thour BIGINT\n",
      ")\n",
      "\n",
      "\n",
      "2022-04-30 15:59:39,458 INFO sqlalchemy.engine.Engine [no key 0.00040s] ()\n",
      "2022-04-30 15:59:39,460 INFO sqlalchemy.engine.Engine CREATE INDEX ix_yellow_taxi_index ON yellow_taxi (\"index\")\n",
      "2022-04-30 15:59:39,460 INFO sqlalchemy.engine.Engine [no key 0.00040s] ()\n",
      "2022-04-30 15:59:39,462 INFO sqlalchemy.engine.Engine COMMIT\n",
      "2022-04-30 15:59:39,502 INFO sqlalchemy.engine.Engine BEGIN (implicit)\n",
      "2022-04-30 15:59:40,012 INFO sqlalchemy.engine.Engine INSERT INTO yellow_taxi (\"index\", \"Unnamed: 0\", pickup_datetime, fare_amount, pickup_longitude, pickup_latitude, dropoff_longitude, dropoff_latitude, passenger_count, distance, hour) VALUES (?, ?, ?, ?, ?, ?, ?, ?, ?, ?, ?)\n",
      "2022-04-30 15:59:40,013 INFO sqlalchemy.engine.Engine [generated in 0.39704s] ((0, 0, '2009-01-29 13:48:00', 25.3, -73.98408999999998, 40.7515, -73.864958, 40.770418, 5.0, 10.251851855874952, 13), (1, 1, '2009-01-07 07:39:13', 10.9, -73.982344, 40.728068, -74.01143399999998, 40.702588, 1.0, 3.7467758351789744, 7), (2, 2, '2009-01-11 16:22:24', 7.7, -73.988529, 40.764188, -73.991264, 40.739165, 1.0, 2.7919521569271666, 16), (3, 3, '2009-01-18 10:47:30', 22.9, -73.98644, 40.768326, -73.871331, 40.774323, 1.0, 9.716279678058022, 10), (4, 4, '2009-01-26 08:05:00', 10.9, -73.95979199999998, 40.762653, -73.93756299999998, 40.804487, 1.0, 5.014114237845068, 8), (5, 5, '2009-01-01 11:03:00', 4.5, -73.975477, 40.79022, -73.96791, 40.80053, 5.0, 1.3115003769045566, 11), (6, 6, '2009-01-26 20:18:00', 4.5, -73.96821699999998, 40.751052, -73.95836699999998, 40.76279, 1.0, 1.5465720213313086, 20), (7, 7, '2009-01-31 12:49:00', 5.3, -73.96237499999998, 40.776483, -73.966497, 40.76587, 2.0, 1.2301029216768855, 12)  ... displaying 10 of 77426 total bound parameter sets ...  (77424, 93598, '2015-06-07 13:14:23', 40.0, -73.78816223144531, 40.641426086425774, -73.9490737915039, 40.69469833374024, 2.0, 14.807884583850951, 13), (77425, 93599, '2015-06-15 08:26:21', 8.0, -74.00401306152342, 40.72198867797852, -73.98668670654298, 40.736770629882805, 1.0, 2.1984578903539487, 8))\n",
      "2022-04-30 15:59:40,177 INFO sqlalchemy.engine.Engine COMMIT\n"
     ]
    }
   ],
   "source": [
    "# create yellow taxi sql table\n",
    "yellow_taxi = pd.read_csv(\"cleaned.csv\")\n",
    "yellow_taxi.to_sql(\"yellow_taxi\", engine)"
   ]
  },
  {
   "cell_type": "code",
   "execution_count": 8,
   "id": "c25c6ba8",
   "metadata": {},
   "outputs": [
    {
     "name": "stdout",
     "output_type": "stream",
     "text": [
      "2022-04-30 16:22:36,808 INFO sqlalchemy.engine.Engine PRAGMA main.table_info(\"uber\")\n",
      "2022-04-30 16:22:36,809 INFO sqlalchemy.engine.Engine [raw sql] ()\n",
      "2022-04-30 16:22:36,810 INFO sqlalchemy.engine.Engine PRAGMA temp.table_info(\"uber\")\n",
      "2022-04-30 16:22:36,810 INFO sqlalchemy.engine.Engine [raw sql] ()\n",
      "2022-04-30 16:22:36,812 INFO sqlalchemy.engine.Engine BEGIN (implicit)\n",
      "2022-04-30 16:22:36,812 INFO sqlalchemy.engine.Engine \n",
      "CREATE TABLE uber (\n",
      "\t\"index\" BIGINT, \n",
      "\t\"Unnamed: 0\" BIGINT, \n",
      "\t\"Unnamed: 0.1\" BIGINT, \n",
      "\t\"key\" TEXT, \n",
      "\tfare_amount FLOAT, \n",
      "\tpickup_datetime TEXT, \n",
      "\tpickup_longitude FLOAT, \n",
      "\tpickup_latitude FLOAT, \n",
      "\tdropoff_longitude FLOAT, \n",
      "\tdropoff_latitude FLOAT, \n",
      "\tpassenger_count BIGINT, \n",
      "\tdistance FLOAT, \n",
      "\tday TEXT\n",
      ")\n",
      "\n",
      "\n",
      "2022-04-30 16:22:36,813 INFO sqlalchemy.engine.Engine [no key 0.00032s] ()\n",
      "2022-04-30 16:22:36,814 INFO sqlalchemy.engine.Engine CREATE INDEX ix_uber_index ON uber (\"index\")\n",
      "2022-04-30 16:22:36,814 INFO sqlalchemy.engine.Engine [no key 0.00027s] ()\n",
      "2022-04-30 16:22:36,815 INFO sqlalchemy.engine.Engine COMMIT\n",
      "2022-04-30 16:22:36,909 INFO sqlalchemy.engine.Engine BEGIN (implicit)\n",
      "2022-04-30 16:22:38,646 INFO sqlalchemy.engine.Engine INSERT INTO uber (\"index\", \"Unnamed: 0\", \"Unnamed: 0.1\", \"key\", fare_amount, pickup_datetime, pickup_longitude, pickup_latitude, dropoff_longitude, dropoff_latitude, passenger_count, distance, day) VALUES (?, ?, ?, ?, ?, ?, ?, ?, ?, ?, ?, ?, ?)\n",
      "2022-04-30 16:22:38,646 INFO sqlalchemy.engine.Engine [generated in 1.50814s] ((0, 0, 24238194, '2015-05-07 19:52:06.0000003', 7.5, '2015-05-07 19:52:06 UTC', -73.99981689453125, 40.73835372924805, -73.99951171875, 40.72321701049805, 1, 1.6833227526420176, 'Thursday'), (1, 1, 27835199, '2009-07-17 20:04:56.0000002', 7.7, '2009-07-17 20:04:56 UTC', -73.994355, 40.728225, -73.99471, 40.750325, 1, 2.457589884741182, 'Friday'), (2, 2, 44984355, '2009-08-24 21:45:00.00000061', 12.9, '2009-08-24 21:45:00 UTC', -74.005043, 40.74077, -73.962565, 40.772647, 1, 5.036377190222711, 'Monday'), (3, 3, 25894730, '2009-06-26 08:22:21.0000001', 5.3, '2009-06-26 08:22:21 UTC', -73.976124, 40.790844, -73.965316, 40.803349, 3, 1.6616834586826963, 'Friday'), (4, 4, 17610152, '2014-08-28 17:47:00.000000188', 16.0, '2014-08-28 17:47:00 UTC', -73.925023, 40.744085, -73.97308199999999, 40.761247, 5, 4.475449963209878, 'Thursday'), (5, 5, 44470845, '2011-02-12 02:27:09.0000006', 4.9, '2011-02-12 02:27:09 UTC', -73.96901899999999, 40.75591, -73.96901899999999, 40.75591, 1, 0.0, 'Saturday'), (6, 6, 48725865, '2014-10-12 07:04:00.0000002', 24.5, '2014-10-12 07:04:00 UTC', -73.96144699999999, 40.693965000000006, -73.871195, 40.774297, 5, 11.731014883650063, 'Sunday'), (7, 7, 44195482, '2012-12-11 13:52:00.00000029', 2.5, '2012-12-11 13:52:00 UTC', 0.0, 0.0, 0.0, 0.0, 1, 0.0, 'Tuesday')  ... displaying 10 of 200000 total bound parameter sets ...  (199998, 199998, 20259894, '2015-05-20 14:56:25.0000004', 14.5, '2015-05-20 14:56:25 UTC', -73.99712371826173, 40.7254524230957, -73.98321533203125, 40.69541549682617, 1, 3.5397154514555558, 'Wednesday'), (199999, 199999, 11951496, '2010-05-15 04:08:00.00000076', 14.1, '2010-05-15 04:08:00 UTC', -73.98439499999999, 40.720077, -73.985508, 40.768793, 1, 5.417783480754425, 'Saturday'))\n",
      "2022-04-30 16:22:39,146 INFO sqlalchemy.engine.Engine COMMIT\n"
     ]
    }
   ],
   "source": [
    "# create uber sql table\n",
    "uber_sql = pd.read_csv(\"uber.csv\")\n",
    "uber_sql.to_sql(\"uber\", engine)"
   ]
  },
  {
   "cell_type": "code",
   "execution_count": 26,
   "id": "b49ce917",
   "metadata": {},
   "outputs": [
    {
     "name": "stdout",
     "output_type": "stream",
     "text": [
      "2022-04-30 17:54:49,002 INFO sqlalchemy.engine.Engine PRAGMA main.table_info(\"daily_weather\")\n",
      "2022-04-30 17:54:49,003 INFO sqlalchemy.engine.Engine [raw sql] ()\n",
      "2022-04-30 17:54:49,005 INFO sqlalchemy.engine.Engine PRAGMA temp.table_info(\"daily_weather\")\n",
      "2022-04-30 17:54:49,006 INFO sqlalchemy.engine.Engine [raw sql] ()\n",
      "2022-04-30 17:54:49,007 INFO sqlalchemy.engine.Engine BEGIN (implicit)\n",
      "2022-04-30 17:54:49,008 INFO sqlalchemy.engine.Engine \n",
      "CREATE TABLE daily_weather (\n",
      "\t\"index\" BIGINT, \n",
      "\t\"Unnamed: 0\" BIGINT, \n",
      "\tdate TEXT, \n",
      "\twindspeed FLOAT\n",
      ")\n",
      "\n",
      "\n",
      "2022-04-30 17:54:49,009 INFO sqlalchemy.engine.Engine [no key 0.00036s] ()\n",
      "2022-04-30 17:54:49,011 INFO sqlalchemy.engine.Engine CREATE INDEX ix_daily_weather_index ON daily_weather (\"index\")\n",
      "2022-04-30 17:54:49,011 INFO sqlalchemy.engine.Engine [no key 0.00041s] ()\n",
      "2022-04-30 17:54:49,015 INFO sqlalchemy.engine.Engine COMMIT\n",
      "2022-04-30 17:54:49,024 INFO sqlalchemy.engine.Engine BEGIN (implicit)\n",
      "2022-04-30 17:54:49,029 INFO sqlalchemy.engine.Engine INSERT INTO daily_weather (\"index\", \"Unnamed: 0\", date, windspeed) VALUES (?, ?, ?, ?)\n",
      "2022-04-30 17:54:49,030 INFO sqlalchemy.engine.Engine [generated in 0.00450s] ((0, 25, '2014-01-01T23:59:00', 5.6), (1, 59, '2014-01-02T23:59:00', 12.2), (2, 97, '2014-01-03T23:59:00', 10.4), (3, 123, '2014-01-04T23:59:00', 4.8), (4, 176, '2014-01-05T23:59:00', 3.7), (5, 227, '2014-01-06T23:59:00', 8.5), (6, 252, '2014-01-07T23:59:00', 13.1), (7, 277, '2014-01-08T23:59:00', 7.1)  ... displaying 10 of 365 total bound parameter sets ...  (363, 11517, '2014-12-30T23:59:00', 4.3), (364, 11542, '2014-12-31T23:59:00', 5.5))\n",
      "2022-04-30 17:54:49,032 INFO sqlalchemy.engine.Engine COMMIT\n",
      "2022-04-30 17:54:49,039 INFO sqlalchemy.engine.Engine PRAGMA main.table_info(\"hourly_weather\")\n",
      "2022-04-30 17:54:49,039 INFO sqlalchemy.engine.Engine [raw sql] ()\n",
      "2022-04-30 17:54:49,041 INFO sqlalchemy.engine.Engine PRAGMA temp.table_info(\"hourly_weather\")\n",
      "2022-04-30 17:54:49,041 INFO sqlalchemy.engine.Engine [raw sql] ()\n",
      "2022-04-30 17:54:49,043 INFO sqlalchemy.engine.Engine BEGIN (implicit)\n",
      "2022-04-30 17:54:49,044 INFO sqlalchemy.engine.Engine \n",
      "CREATE TABLE hourly_weather (\n",
      "\t\"index\" BIGINT, \n",
      "\t\"Unnamed: 0\" BIGINT, \n",
      "\t\"DATE\" TEXT, \n",
      "\tprecipitation TEXT\n",
      ")\n",
      "\n",
      "\n",
      "2022-04-30 17:54:49,044 INFO sqlalchemy.engine.Engine [no key 0.00027s] ()\n",
      "2022-04-30 17:54:49,046 INFO sqlalchemy.engine.Engine CREATE INDEX ix_hourly_weather_index ON hourly_weather (\"index\")\n",
      "2022-04-30 17:54:49,047 INFO sqlalchemy.engine.Engine [no key 0.00042s] ()\n",
      "2022-04-30 17:54:49,049 INFO sqlalchemy.engine.Engine COMMIT\n",
      "2022-04-30 17:54:49,051 INFO sqlalchemy.engine.Engine BEGIN (implicit)\n",
      "2022-04-30 17:54:49,054 INFO sqlalchemy.engine.Engine INSERT INTO hourly_weather (\"index\", \"Unnamed: 0\", \"DATE\", precipitation) VALUES (?, ?, ?, ?)\n",
      "2022-04-30 17:54:49,055 INFO sqlalchemy.engine.Engine [generated in 0.00225s] ((0, 8407, '2012-10-22T00:51:00', '0.00'), (1, 8408, '2012-10-22T01:51:00', '0.00'), (2, 8409, '2012-10-22T02:51:00', '0.00'), (3, 8410, '2012-10-22T03:51:00', '0.00'), (4, 8411, '2012-10-22T04:51:00', '0.00'), (5, 8412, '2012-10-22T05:51:00', '0.00'), (6, 8413, '2012-10-22T06:51:00', '0.00'), (7, 8414, '2012-10-22T07:51:00', '0.00')  ... displaying 10 of 408 total bound parameter sets ...  (406, 8934, '2012-11-07T23:51:00', '0.02'), (407, 8940, '2012-11-08T00:51:00', '0.02'))\n",
      "2022-04-30 17:54:49,059 INFO sqlalchemy.engine.Engine COMMIT\n"
     ]
    }
   ],
   "source": [
    "# create weather sql table\n",
    "daily_weather = pd.read_csv(\"cleaned_14.csv\")\n",
    "daily_weather.to_sql(\"daily_weather\", engine)\n",
    "\n",
    "hourly_weather = pd.read_csv(\"sandy.csv\")\n",
    "hourly_weather.to_sql(\"hourly_weather\", engine)"
   ]
  },
  {
   "cell_type": "markdown",
   "id": "73de68ec",
   "metadata": {},
   "source": [
    "# Part 3: Understanding Data"
   ]
  },
  {
   "cell_type": "code",
   "execution_count": 27,
   "id": "9a7ce414",
   "metadata": {},
   "outputs": [],
   "source": [
    "def write_query_to_file(query, outfile):\n",
    "    f = open(outfile, \"w\")\n",
    "    f.write(query)\n",
    "    f.close()"
   ]
  },
  {
   "cell_type": "code",
   "execution_count": 5,
   "id": "957eef9f",
   "metadata": {},
   "outputs": [
    {
     "name": "stdout",
     "output_type": "stream",
     "text": [
      "2022-04-30 15:59:45,208 INFO sqlalchemy.engine.Engine \n",
      "SELECT \"hour\", count(hour)\n",
      "    FROM \"yellow_taxi\"\n",
      "    GROUP BY \"hour\"\n",
      "\n",
      "2022-04-30 15:59:45,212 INFO sqlalchemy.engine.Engine [raw sql] ()\n"
     ]
    },
    {
     "data": {
      "text/plain": [
       "[(0, 3057),\n",
       " (1, 2225),\n",
       " (2, 1689),\n",
       " (3, 1218),\n",
       " (4, 879),\n",
       " (5, 766),\n",
       " (6, 1558),\n",
       " (7, 2692),\n",
       " (8, 3584),\n",
       " (9, 3590),\n",
       " (10, 3477),\n",
       " (11, 3579),\n",
       " (12, 3730),\n",
       " (13, 3815),\n",
       " (14, 3943),\n",
       " (15, 3748),\n",
       " (16, 3344),\n",
       " (17, 3883),\n",
       " (18, 4748),\n",
       " (19, 4761),\n",
       " (20, 4567),\n",
       " (21, 4565),\n",
       " (22, 4203),\n",
       " (23, 3805)]"
      ]
     },
     "execution_count": 5,
     "metadata": {},
     "output_type": "execute_result"
    }
   ],
   "source": [
    "QUERY_1 = \"\"\"\n",
    "SELECT \"hour\", count(hour)\n",
    "    FROM \"yellow_taxi\"\n",
    "    GROUP BY \"hour\"\n",
    "\"\"\"\n",
    "\n",
    "engine.execute(QUERY_1).fetchall()\n",
    "# hour 19 (7pm) is the most popular time of day to take a yellow taxi"
   ]
  },
  {
   "cell_type": "code",
   "execution_count": 9,
   "id": "85af86b8",
   "metadata": {},
   "outputs": [
    {
     "name": "stdout",
     "output_type": "stream",
     "text": [
      "2022-04-30 16:23:34,634 INFO sqlalchemy.engine.Engine \n",
      "SELECT \"day\", count(day)\n",
      "    FROM \"uber\"\n",
      "    GROUP BY \"day\"\n",
      "\n",
      "2022-04-30 16:23:34,635 INFO sqlalchemy.engine.Engine [raw sql] ()\n"
     ]
    },
    {
     "data": {
      "text/plain": [
       "[('Friday', 30880),\n",
       " ('Monday', 25243),\n",
       " ('Saturday', 30251),\n",
       " ('Sunday', 26441),\n",
       " ('Thursday', 30021),\n",
       " ('Tuesday', 28127),\n",
       " ('Wednesday', 29037)]"
      ]
     },
     "execution_count": 9,
     "metadata": {},
     "output_type": "execute_result"
    }
   ],
   "source": [
    "QUERY_2 = \"\"\"\n",
    "SELECT \"day\", count(day)\n",
    "    FROM \"uber\"\n",
    "    GROUP BY \"day\"\n",
    "\"\"\"\n",
    "\n",
    "engine.execute(QUERY_2).fetchall()\n",
    "# Friday is the most popular day to take an Uber"
   ]
  },
  {
   "cell_type": "code",
   "execution_count": 25,
   "id": "b2846e69",
   "metadata": {},
   "outputs": [
    {
     "name": "stdout",
     "output_type": "stream",
     "text": [
      "2022-04-30 17:49:25,791 INFO sqlalchemy.engine.Engine \n",
      "    WITH \"dists\" AS (SELECT \"distance\" FROM \"yellow_taxi\" WHERE \"pickup_datetime\">\"2012-12-31 23:59:59\" AND \"pickup_datetime\"<\"2014-01-01 00:00:00\"\n",
      "    UNION ALL\n",
      "    SELECT \"distance\" FROM \"uber\" WHERE \"pickup_datetime\">\"2012-12-31 23:59:59\" AND \"pickup_datetime\"<\"2014-01-01 00:00:00\")\n",
      "    \n",
      "    SELECT * FROM \"dists\"\n",
      "    ORDER BY \"distance\" ASC\n",
      "    LIMIT 1\n",
      "    OFFSET (SELECT\n",
      "         COUNT(*)\n",
      "        FROM \"dists\") * 95 / 100 - 1;\n",
      "\n",
      "2022-04-30 17:49:25,794 INFO sqlalchemy.engine.Engine [raw sql] ()\n"
     ]
    },
    {
     "data": {
      "text/plain": [
       "[(10.344462205324854,)]"
      ]
     },
     "execution_count": 25,
     "metadata": {},
     "output_type": "execute_result"
    }
   ],
   "source": [
    "QUERY_3 = \"\"\"\n",
    "    WITH \"dists\" AS (SELECT \"distance\" FROM \"yellow_taxi\" WHERE \"pickup_datetime\">\"2012-12-31 23:59:59\" AND \"pickup_datetime\"<\"2014-01-01 00:00:00\"\n",
    "    UNION ALL\n",
    "    SELECT \"distance\" FROM \"uber\" WHERE \"pickup_datetime\">\"2012-12-31 23:59:59\" AND \"pickup_datetime\"<\"2014-01-01 00:00:00\")\n",
    "    \n",
    "    SELECT * FROM \"dists\"\n",
    "    ORDER BY \"distance\" ASC\n",
    "    LIMIT 1\n",
    "    OFFSET (SELECT\n",
    "         COUNT(*)\n",
    "        FROM \"dists\") * 95 / 100 - 1;\n",
    "\"\"\"\n",
    "engine.execute(QUERY_3).fetchall()\n",
    "# 95% percentile is 10.344462205324854"
   ]
  },
  {
   "cell_type": "code",
   "execution_count": null,
   "id": "bcf49cb8",
   "metadata": {},
   "outputs": [],
   "source": []
  },
  {
   "cell_type": "code",
   "execution_count": null,
   "id": "afbe807e",
   "metadata": {},
   "outputs": [],
   "source": []
  },
  {
   "cell_type": "code",
   "execution_count": null,
   "id": "781ef03c",
   "metadata": {},
   "outputs": [],
   "source": []
  },
  {
   "cell_type": "code",
   "execution_count": null,
   "id": "325bcd67",
   "metadata": {},
   "outputs": [],
   "source": []
  },
  {
   "cell_type": "code",
   "execution_count": null,
   "id": "211ac6e9",
   "metadata": {},
   "outputs": [],
   "source": []
  },
  {
   "cell_type": "code",
   "execution_count": null,
   "id": "7ff45091",
   "metadata": {},
   "outputs": [],
   "source": []
  },
  {
   "cell_type": "code",
   "execution_count": null,
   "id": "859f9c94",
   "metadata": {},
   "outputs": [],
   "source": []
  },
  {
   "cell_type": "markdown",
   "id": "1d757193",
   "metadata": {},
   "source": [
    "# Part 4: Visualizing Data"
   ]
  },
  {
   "cell_type": "code",
   "execution_count": null,
   "id": "89974ec1",
   "metadata": {},
   "outputs": [],
   "source": []
  },
  {
   "cell_type": "code",
   "execution_count": null,
   "id": "bd715dec",
   "metadata": {},
   "outputs": [],
   "source": []
  },
  {
   "cell_type": "code",
   "execution_count": null,
   "id": "44e0b5a6",
   "metadata": {},
   "outputs": [],
   "source": []
  },
  {
   "cell_type": "code",
   "execution_count": null,
   "id": "e15955a2",
   "metadata": {},
   "outputs": [],
   "source": []
  }
 ],
 "metadata": {
  "kernelspec": {
   "display_name": "Python 3 (ipykernel)",
   "language": "python",
   "name": "python3"
  },
  "language_info": {
   "codemirror_mode": {
    "name": "ipython",
    "version": 3
   },
   "file_extension": ".py",
   "mimetype": "text/x-python",
   "name": "python",
   "nbconvert_exporter": "python",
   "pygments_lexer": "ipython3",
   "version": "3.9.7"
  }
 },
 "nbformat": 4,
 "nbformat_minor": 5
}
