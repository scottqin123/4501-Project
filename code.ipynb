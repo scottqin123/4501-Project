{
 "cells": [
  {
   "cell_type": "code",
   "execution_count": 33,
   "id": "2fb68ce6",
   "metadata": {},
   "outputs": [],
   "source": [
    "import pandas as pd\n",
    "import os\n",
    "from math import cos, asin, sqrt, pi\n",
    "import datetime\n",
    "from sqlalchemy import create_engine\n",
    "import matplotlib.pyplot as plt"
   ]
  },
  {
   "cell_type": "markdown",
   "id": "f90a377e",
   "metadata": {},
   "source": [
    "# Part 1: Data Processing"
   ]
  },
  {
   "cell_type": "code",
   "execution_count": null,
   "id": "4c10a251",
   "metadata": {},
   "outputs": [],
   "source": [
    "TAXI_URL = \"https://www1.nyc.gov/site/tlc/about/tlc-trip-record-data.page\"\n",
    "# get HTML from main page\n",
    "content = requests.get(TAXI_URL)\n",
    "soup = bs4.BeautifulSoup(content.text, 'html.parser')"
   ]
  },
  {
   "cell_type": "code",
   "execution_count": null,
   "id": "41030f71",
   "metadata": {},
   "outputs": [],
   "source": [
    "# find all links on the main page\n",
    "pattern = r\"yellow_tripdata_20(0[0-9]|1[0-5])\\-\\d{2}.csv$\"\n",
    "links = [a['href'] for a in soup.find_all('a')]x"
   ]
  },
  {
   "cell_type": "code",
   "execution_count": null,
   "id": "80128047",
   "metadata": {},
   "outputs": [],
   "source": [
    "# use regex to get only the yellow taxi links from 2009 - june 2015\n",
    "new_list = []\n",
    "\n",
    "for link in links:\n",
    "    if re.search(pattern, link) is not None:\n",
    "        mo_1 = link[-6]\n",
    "        mo_2 = link[-5]\n",
    "        if mo_1 == \"1\":\n",
    "            new_list.append(link)\n",
    "        elif int(mo_2) <= 6:\n",
    "            new_list.append(link)"
   ]
  },
  {
   "cell_type": "code",
   "execution_count": null,
   "id": "972b2543",
   "metadata": {},
   "outputs": [],
   "source": [
    "# write csvs to files\n",
    "i = 0\n",
    "\n",
    "for link in new_list:\n",
    "    print(i)\n",
    "    i += 1\n",
    "    req = requests.get(link)\n",
    "    url_content = req.content\n",
    "    \n",
    "    csv_file = open('downloaded.csv', 'ab')\n",
    "    csv_file.write(url_content)\n",
    "    csv_file.close()"
   ]
  },
  {
   "cell_type": "code",
   "execution_count": null,
   "id": "3b4b47a6",
   "metadata": {},
   "outputs": [],
   "source": [
    "# convert csv to df\n",
    "import pandas as pd\n",
    "entire_df = pd.read_csv(\"downloaded.csv\")"
   ]
  },
  {
   "cell_type": "markdown",
   "id": "f77d6fed",
   "metadata": {},
   "source": [
    "**ADD CODE TO SAMPLE DATA**"
   ]
  },
  {
   "cell_type": "code",
   "execution_count": 546,
   "id": "eb502685",
   "metadata": {},
   "outputs": [],
   "source": [
    "# Load the sampled data\n",
    "df = pd.read_csv('sampled.csv')"
   ]
  },
  {
   "cell_type": "code",
   "execution_count": 547,
   "id": "99e86240",
   "metadata": {},
   "outputs": [],
   "source": [
    "# We will clean the sampled data year by year. There are columns with different names showing the same types of data.\n",
    "# We need to merge these columns together and delete the irrelevant columns\n",
    "# From the given sample table we know there are 8 useful columns."
   ]
  },
  {
   "cell_type": "code",
   "execution_count": 548,
   "id": "6270f79e",
   "metadata": {},
   "outputs": [],
   "source": [
    "pd.set_option('display.max_columns', None)"
   ]
  },
  {
   "cell_type": "code",
   "execution_count": 549,
   "id": "3e5684ef",
   "metadata": {},
   "outputs": [],
   "source": [
    "# create a new datafram called cleaned\n",
    "cleaned = pd.DataFrame()\n",
    "# create new columns\n",
    "pickup_datetime = []\n",
    "fare_amount = []\n",
    "pickup_longitude = []\n",
    "pickup_latitude = []\n",
    "dropoff_longitude = []\n",
    "dropoff_latitude = []\n",
    "passenger_count = []\n",
    "tip = []"
   ]
  },
  {
   "cell_type": "code",
   "execution_count": 550,
   "id": "66e7be78",
   "metadata": {},
   "outputs": [],
   "source": [
    "# clean the data from 2009\n",
    "temp = df.iloc[0:14400]\n",
    "pickup_datetime += list(temp['Trip_Pickup_DateTime'])\n",
    "fare_amount += list(temp['Fare_Amt'])\n",
    "pickup_longitude += list(temp['Start_Lon'])\n",
    "pickup_latitude += list(temp['Start_Lat'])\n",
    "dropoff_longitude += list(temp['End_Lon'])\n",
    "dropoff_latitude += list(temp['End_Lat'])\n",
    "passenger_count += list(temp['Passenger_Count'])\n",
    "tip += list(temp['Tip_Amt'])"
   ]
  },
  {
   "cell_type": "code",
   "execution_count": 551,
   "id": "5e5d80c3",
   "metadata": {},
   "outputs": [],
   "source": [
    "# clean the data from 2010\n",
    "temp = df.iloc[14400:28800]\n",
    "pickup_datetime += list(temp['pickup_datetime'])\n",
    "fare_amount += list(temp['fare_amount'])\n",
    "pickup_longitude += list(temp['pickup_longitude'])\n",
    "pickup_latitude += list(temp['pickup_latitude'])\n",
    "dropoff_longitude += list(temp['dropoff_longitude'])\n",
    "dropoff_latitude += list(temp['dropoff_latitude'])\n",
    "passenger_count += list(temp['passenger_count'])\n",
    "tip += list(temp['tip_amount'])"
   ]
  },
  {
   "cell_type": "code",
   "execution_count": 552,
   "id": "ad5059cb",
   "metadata": {},
   "outputs": [],
   "source": [
    "# clean the data from 2011\n",
    "temp = df.iloc[28800:43200]\n",
    "pickup_datetime += list(temp['pickup_datetime'])\n",
    "fare_amount += list(temp['fare_amount'])\n",
    "pickup_longitude += list(temp['pickup_longitude'])\n",
    "pickup_latitude += list(temp['pickup_latitude'])\n",
    "dropoff_longitude += list(temp['dropoff_longitude'])\n",
    "dropoff_latitude += list(temp['dropoff_latitude'])\n",
    "passenger_count += list(temp['passenger_count'])\n",
    "tip += list(temp['tip_amount'])"
   ]
  },
  {
   "cell_type": "code",
   "execution_count": 553,
   "id": "5f3bd236",
   "metadata": {},
   "outputs": [],
   "source": [
    "# clean the data from 2012\n",
    "temp = df.iloc[43200:57600]\n",
    "pickup_datetime += list(temp['pickup_datetime'])\n",
    "fare_amount += list(temp['fare_amount'])\n",
    "pickup_longitude += list(temp['pickup_longitude'])\n",
    "pickup_latitude += list(temp['pickup_latitude'])\n",
    "dropoff_longitude += list(temp['dropoff_longitude'])\n",
    "dropoff_latitude += list(temp['dropoff_latitude'])\n",
    "passenger_count += list(temp['passenger_count'])\n",
    "tip += list(temp['tip_amount'])"
   ]
  },
  {
   "cell_type": "code",
   "execution_count": 554,
   "id": "80e17f13",
   "metadata": {},
   "outputs": [],
   "source": [
    "# clean the data from 2013\n",
    "temp = df.iloc[57600:72000]\n",
    "pickup_datetime += list(temp['pickup_datetime'])\n",
    "fare_amount += list(temp['fare_amount'])\n",
    "pickup_longitude += list(temp['pickup_longitude'])\n",
    "pickup_latitude += list(temp['pickup_latitude'])\n",
    "dropoff_longitude += list(temp['dropoff_longitude'])\n",
    "dropoff_latitude += list(temp['dropoff_latitude'])\n",
    "passenger_count += list(temp['passenger_count'])\n",
    "tip += list(temp['tip_amount'])"
   ]
  },
  {
   "cell_type": "code",
   "execution_count": 555,
   "id": "852153a3",
   "metadata": {},
   "outputs": [],
   "source": [
    "# clean the data from 2014\n",
    "temp = df.iloc[72000:86400]\n",
    "pickup_datetime += list(temp.iloc[:, 36])\n",
    "fare_amount += list(temp.iloc[:, 46])\n",
    "pickup_longitude += list(temp.iloc[:, 39])\n",
    "pickup_latitude += list(temp.iloc[:, 40])\n",
    "dropoff_longitude += list(temp.iloc[:, 43])\n",
    "dropoff_latitude += list(temp.iloc[:, 44])\n",
    "passenger_count += list(temp.iloc[:, 37])\n",
    "tip += list(temp.iloc[:, 49])"
   ]
  },
  {
   "cell_type": "code",
   "execution_count": 556,
   "id": "46f5f413",
   "metadata": {},
   "outputs": [],
   "source": [
    "# clean the data from 2015\n",
    "temp = df.iloc[86400:]\n",
    "pickup_datetime += list(temp['tpep_pickup_datetime'])\n",
    "fare_amount += list(temp['fare_amount'])\n",
    "pickup_longitude += list(temp['pickup_longitude'])\n",
    "pickup_latitude += list(temp['pickup_latitude'])\n",
    "dropoff_longitude += list(temp['dropoff_longitude'])\n",
    "dropoff_latitude += list(temp['dropoff_latitude'])\n",
    "passenger_count += list(temp['passenger_count'])\n",
    "tip += list(temp['tip_amount'])"
   ]
  },
  {
   "cell_type": "code",
   "execution_count": 557,
   "id": "7f2cea39",
   "metadata": {},
   "outputs": [],
   "source": [
    "# add all the clean columns to the clean table\n",
    "cleaned['pickup_datetime'] = pickup_datetime\n",
    "cleaned['fare_amount'] = fare_amount\n",
    "cleaned['pickup_longitude'] = pickup_longitude\n",
    "cleaned['pickup_latitude'] = pickup_latitude\n",
    "cleaned['dropoff_longitude']= dropoff_longitude\n",
    "cleaned['dropoff_latitude'] = dropoff_latitude\n",
    "cleaned['passenger_count'] = passenger_count\n",
    "cleaned['tips'] = tip"
   ]
  },
  {
   "cell_type": "code",
   "execution_count": 558,
   "id": "461e2033",
   "metadata": {},
   "outputs": [
    {
     "data": {
      "text/plain": [
       "93600"
      ]
     },
     "execution_count": 558,
     "metadata": {},
     "output_type": "execute_result"
    }
   ],
   "source": [
    "len(pickup_datetime)"
   ]
  },
  {
   "cell_type": "code",
   "execution_count": 559,
   "id": "5e31a5ec",
   "metadata": {},
   "outputs": [
    {
     "data": {
      "text/plain": [
       "93600"
      ]
     },
     "execution_count": 559,
     "metadata": {},
     "output_type": "execute_result"
    }
   ],
   "source": [
    "len(cleaned)"
   ]
  },
  {
   "cell_type": "code",
   "execution_count": 560,
   "id": "7437d2c3",
   "metadata": {},
   "outputs": [],
   "source": [
    "# exclude data outside of nyc\n",
    "cleaned = cleaned.loc[(cleaned['pickup_longitude'] > -74.24233) & (cleaned['pickup_longitude'] < -73.717047)]\n",
    "cleaned = cleaned.loc[(cleaned['dropoff_longitude'] > -74.24233) & (cleaned['dropoff_longitude'] < -73.717047)]\n",
    "cleaned = cleaned.loc[(cleaned['pickup_latitude'] > 40.560445) & (cleaned['pickup_latitude'] < 40.908524)]\n",
    "cleaned = cleaned.loc[(cleaned['dropoff_latitude'] > 40.560445) & (cleaned['dropoff_latitude'] < 40.908524)]"
   ]
  },
  {
   "cell_type": "code",
   "execution_count": 561,
   "id": "ae651ada",
   "metadata": {},
   "outputs": [],
   "source": [
    "# define a function to calculate the distance between coordinates\n",
    "def distance(lat1, lon1, lat2, lon2):\n",
    "    p = pi/180\n",
    "    a = 0.5 - cos((lat2-lat1)*p)/2 + cos(lat1*p) * cos(lat2*p) * (1-cos((lon2-lon1)*p))/2\n",
    "    return 12742 * asin(sqrt(a))"
   ]
  },
  {
   "cell_type": "code",
   "execution_count": 562,
   "id": "db7c40c0",
   "metadata": {},
   "outputs": [
    {
     "data": {
      "text/plain": [
       "10.251851855874952"
      ]
     },
     "execution_count": 562,
     "metadata": {},
     "output_type": "execute_result"
    }
   ],
   "source": [
    "# testing the function\n",
    "distance(40.751500, -73.984090, 40.770418, -73.864958)"
   ]
  },
  {
   "cell_type": "code",
   "execution_count": null,
   "id": "f4d7486c",
   "metadata": {},
   "outputs": [],
   "source": []
  },
  {
   "cell_type": "code",
   "execution_count": 563,
   "id": "cec5dbc9",
   "metadata": {},
   "outputs": [],
   "source": [
    "# apply the function to table and add a new distance column\n",
    "cleaned['distance'] = cleaned[['pickup_latitude','pickup_longitude','dropoff_latitude', \n",
    "                              'dropoff_longitude']].apply(lambda x: distance(*x), axis=1)"
   ]
  },
  {
   "cell_type": "code",
   "execution_count": 564,
   "id": "2450cefa",
   "metadata": {},
   "outputs": [],
   "source": [
    "# define a function to extract the hour number\n",
    "def hour_extract(x):\n",
    "    return x[11:13]"
   ]
  },
  {
   "cell_type": "code",
   "execution_count": null,
   "id": "27010b27",
   "metadata": {},
   "outputs": [],
   "source": []
  },
  {
   "cell_type": "code",
   "execution_count": null,
   "id": "d72e287e",
   "metadata": {},
   "outputs": [],
   "source": []
  },
  {
   "cell_type": "code",
   "execution_count": null,
   "id": "d2d25655",
   "metadata": {},
   "outputs": [],
   "source": []
  },
  {
   "cell_type": "code",
   "execution_count": null,
   "id": "385b5d9f",
   "metadata": {},
   "outputs": [],
   "source": []
  },
  {
   "cell_type": "code",
   "execution_count": null,
   "id": "8a894a82",
   "metadata": {},
   "outputs": [],
   "source": []
  },
  {
   "cell_type": "code",
   "execution_count": null,
   "id": "5aeda0d1",
   "metadata": {},
   "outputs": [],
   "source": []
  },
  {
   "cell_type": "code",
   "execution_count": 565,
   "id": "a6db9510",
   "metadata": {},
   "outputs": [],
   "source": [
    "# apply the function to table and add a new hour column\n",
    "cleaned['hour'] = cleaned[['pickup_datetime']].apply(lambda x: int(hour_extract(*x)), axis=1)"
   ]
  },
  {
   "cell_type": "code",
   "execution_count": 566,
   "id": "ed05dcd0",
   "metadata": {},
   "outputs": [],
   "source": [
    "uber = pd.read_csv('uber_rides_sample.csv')"
   ]
  },
  {
   "cell_type": "code",
   "execution_count": 567,
   "id": "8b6f2ced",
   "metadata": {},
   "outputs": [],
   "source": [
    "# add distance column to uber table\n",
    "uber['distance'] = uber[['pickup_latitude','pickup_longitude','dropoff_latitude', \n",
    "                              'dropoff_longitude']].apply(lambda x: distance(*x), axis=1)"
   ]
  },
  {
   "cell_type": "code",
   "execution_count": 568,
   "id": "6ab1898e",
   "metadata": {},
   "outputs": [],
   "source": [
    "# define a day conversion function\n",
    "def day_conv(x):\n",
    "    return datetime.datetime.strptime(x[:10], '%Y-%m-%d').strftime('%A')"
   ]
  },
  {
   "cell_type": "code",
   "execution_count": 569,
   "id": "1b852e3d",
   "metadata": {},
   "outputs": [
    {
     "data": {
      "text/plain": [
       "'Thursday'"
      ]
     },
     "execution_count": 569,
     "metadata": {},
     "output_type": "execute_result"
    }
   ],
   "source": [
    "# testing the function\n",
    "day_conv(uber['pickup_datetime'][0])"
   ]
  },
  {
   "cell_type": "code",
   "execution_count": 570,
   "id": "27b1eaf2",
   "metadata": {},
   "outputs": [],
   "source": [
    "# apply the function to uber table and add a new day column\n",
    "uber['day'] = uber[['pickup_datetime']].apply(lambda x: day_conv(*x), axis=1)"
   ]
  },
  {
   "cell_type": "code",
   "execution_count": 571,
   "id": "a47a3814",
   "metadata": {},
   "outputs": [],
   "source": [
    "uber = uber.loc[(uber['pickup_longitude'] > -74.24233) & (uber['pickup_longitude'] < -73.717047)]\n",
    "uber = uber.loc[(uber['dropoff_longitude'] > -74.24233) & (uber['dropoff_longitude'] < -73.717047)]\n",
    "uber = uber.loc[(uber['pickup_latitude'] > 40.560445) & (uber['pickup_latitude'] < 40.908524)]\n",
    "uber = uber.loc[(uber['dropoff_latitude'] > 40.560445) & (uber['dropoff_latitude'] < 40.908524)]"
   ]
  },
  {
   "cell_type": "code",
   "execution_count": 572,
   "id": "60a1e686",
   "metadata": {},
   "outputs": [],
   "source": [
    "# clean the weather data"
   ]
  },
  {
   "cell_type": "code",
   "execution_count": 589,
   "id": "e91251f5",
   "metadata": {},
   "outputs": [],
   "source": [
    "w14 = pd.read_csv('weather/2014_weather.csv')\n",
    "w12 = pd.read_csv('weather/2012_weather.csv')\n",
    "w2012 = w12"
   ]
  },
  {
   "cell_type": "code",
   "execution_count": 590,
   "id": "b89b86b1",
   "metadata": {},
   "outputs": [],
   "source": [
    "cleaned_14 = pd.DataFrame()\n",
    "# select summary of day\n",
    "day = []\n",
    "windspeed = []\n",
    "\n",
    "w2012 = w2012.loc[w2012['REPORT_TYPE'] == 'SOD  ']\n",
    "day += list(w2012['DATE'])\n",
    "windspeed += list(w2012['DailyAverageWindSpeed'])\n",
    "\n",
    "w14 = w14.loc[w14['REPORT_TYPE'] == 'SOD  ']\n",
    "day += list(w14['DATE'])\n",
    "windspeed += list(w14['DailyAverageWindSpeed'])\n",
    "\n",
    "cleaned_14['date'] = day\n",
    "cleaned_14['windspeed'] = windspeed"
   ]
  },
  {
   "cell_type": "code",
   "execution_count": null,
   "id": "e1886b46",
   "metadata": {},
   "outputs": [],
   "source": []
  },
  {
   "cell_type": "code",
   "execution_count": 591,
   "id": "19a64afb",
   "metadata": {},
   "outputs": [],
   "source": [
    "# filter out summary of day\n",
    "w12 = w12.loc[w12['REPORT_TYPE'] != 'SOD  ']\n",
    "# filter out summary of month\n",
    "w12 = w12.loc[w12['REPORT_TYPE'] != 'SOM  ']\n",
    "# filter our half hour\n",
    "mask = w12['DATE'].str.contains('51', case=False, na=False)\n",
    "w12 = w12[mask]\n",
    "# select sandy data\n",
    "w12 = w12.loc[8407:8940]\n",
    "sandy = pd.DataFrame()\n",
    "sandy['DATE'] = w12['DATE']\n",
    "sandy['precipitation'] = w12['HourlyPrecipitation']"
   ]
  },
  {
   "cell_type": "code",
   "execution_count": null,
   "id": "b435809c",
   "metadata": {},
   "outputs": [],
   "source": []
  },
  {
   "cell_type": "code",
   "execution_count": null,
   "id": "a57d2e53",
   "metadata": {},
   "outputs": [],
   "source": []
  },
  {
   "cell_type": "code",
   "execution_count": null,
   "id": "d98390f3",
   "metadata": {},
   "outputs": [],
   "source": []
  },
  {
   "cell_type": "code",
   "execution_count": null,
   "id": "e96d3cdd",
   "metadata": {},
   "outputs": [],
   "source": []
  },
  {
   "cell_type": "code",
   "execution_count": 592,
   "id": "ffee853e",
   "metadata": {},
   "outputs": [],
   "source": [
    "os.makedirs('Github/4501-Project', exist_ok=True)  \n",
    "cleaned.to_csv('cleaned.csv') \n",
    "uber.to_csv('uber.csv') \n",
    "cleaned_14.to_csv('daily_weather.csv') \n",
    "sandy.to_csv('sandy.csv') \n",
    "w2012.to_csv('2012_weather.csv') "
   ]
  },
  {
   "cell_type": "markdown",
   "id": "51ef3121",
   "metadata": {},
   "source": [
    "# Part 2: Storing Data"
   ]
  },
  {
   "cell_type": "code",
   "execution_count": 34,
   "id": "01bee4c3",
   "metadata": {},
   "outputs": [],
   "source": [
    "engine = create_engine(f'sqlite:///project.db', echo=True)\n",
    "sqlite_connection = engine.connect()"
   ]
  },
  {
   "cell_type": "code",
   "execution_count": 35,
   "id": "de08790e",
   "metadata": {},
   "outputs": [
    {
     "name": "stdout",
     "output_type": "stream",
     "text": [
      "2022-05-01 12:29:54,104 INFO sqlalchemy.engine.Engine PRAGMA main.table_info(\"yellow_taxi\")\n",
      "2022-05-01 12:29:54,109 INFO sqlalchemy.engine.Engine [raw sql] ()\n"
     ]
    },
    {
     "ename": "ValueError",
     "evalue": "Table 'yellow_taxi' already exists.",
     "output_type": "error",
     "traceback": [
      "\u001b[0;31m---------------------------------------------------------------------------\u001b[0m",
      "\u001b[0;31mValueError\u001b[0m                                Traceback (most recent call last)",
      "\u001b[0;32m/var/folders/52/4h1j4ys94774s8z8vsnwn5z80000gn/T/ipykernel_51330/3040700903.py\u001b[0m in \u001b[0;36m<module>\u001b[0;34m\u001b[0m\n\u001b[1;32m      1\u001b[0m \u001b[0;31m# create yellow taxi sql table\u001b[0m\u001b[0;34m\u001b[0m\u001b[0;34m\u001b[0m\u001b[0m\n\u001b[1;32m      2\u001b[0m \u001b[0myellow_taxi\u001b[0m \u001b[0;34m=\u001b[0m \u001b[0mpd\u001b[0m\u001b[0;34m.\u001b[0m\u001b[0mread_csv\u001b[0m\u001b[0;34m(\u001b[0m\u001b[0;34m\"cleaned.csv\"\u001b[0m\u001b[0;34m)\u001b[0m\u001b[0;34m\u001b[0m\u001b[0;34m\u001b[0m\u001b[0m\n\u001b[0;32m----> 3\u001b[0;31m \u001b[0myellow_taxi\u001b[0m\u001b[0;34m.\u001b[0m\u001b[0mto_sql\u001b[0m\u001b[0;34m(\u001b[0m\u001b[0;34m\"yellow_taxi\"\u001b[0m\u001b[0;34m,\u001b[0m \u001b[0mengine\u001b[0m\u001b[0;34m)\u001b[0m\u001b[0;34m\u001b[0m\u001b[0;34m\u001b[0m\u001b[0m\n\u001b[0m",
      "\u001b[0;32m~/opt/anaconda3/lib/python3.9/site-packages/pandas/core/generic.py\u001b[0m in \u001b[0;36mto_sql\u001b[0;34m(self, name, con, schema, if_exists, index, index_label, chunksize, dtype, method)\u001b[0m\n\u001b[1;32m   2870\u001b[0m         \u001b[0;32mfrom\u001b[0m \u001b[0mpandas\u001b[0m\u001b[0;34m.\u001b[0m\u001b[0mio\u001b[0m \u001b[0;32mimport\u001b[0m \u001b[0msql\u001b[0m\u001b[0;34m\u001b[0m\u001b[0;34m\u001b[0m\u001b[0m\n\u001b[1;32m   2871\u001b[0m \u001b[0;34m\u001b[0m\u001b[0m\n\u001b[0;32m-> 2872\u001b[0;31m         sql.to_sql(\n\u001b[0m\u001b[1;32m   2873\u001b[0m             \u001b[0mself\u001b[0m\u001b[0;34m,\u001b[0m\u001b[0;34m\u001b[0m\u001b[0;34m\u001b[0m\u001b[0m\n\u001b[1;32m   2874\u001b[0m             \u001b[0mname\u001b[0m\u001b[0;34m,\u001b[0m\u001b[0;34m\u001b[0m\u001b[0;34m\u001b[0m\u001b[0m\n",
      "\u001b[0;32m~/opt/anaconda3/lib/python3.9/site-packages/pandas/io/sql.py\u001b[0m in \u001b[0;36mto_sql\u001b[0;34m(frame, name, con, schema, if_exists, index, index_label, chunksize, dtype, method, engine, **engine_kwargs)\u001b[0m\n\u001b[1;32m    715\u001b[0m         )\n\u001b[1;32m    716\u001b[0m \u001b[0;34m\u001b[0m\u001b[0m\n\u001b[0;32m--> 717\u001b[0;31m     pandas_sql.to_sql(\n\u001b[0m\u001b[1;32m    718\u001b[0m         \u001b[0mframe\u001b[0m\u001b[0;34m,\u001b[0m\u001b[0;34m\u001b[0m\u001b[0;34m\u001b[0m\u001b[0m\n\u001b[1;32m    719\u001b[0m         \u001b[0mname\u001b[0m\u001b[0;34m,\u001b[0m\u001b[0;34m\u001b[0m\u001b[0;34m\u001b[0m\u001b[0m\n",
      "\u001b[0;32m~/opt/anaconda3/lib/python3.9/site-packages/pandas/io/sql.py\u001b[0m in \u001b[0;36mto_sql\u001b[0;34m(self, frame, name, if_exists, index, index_label, schema, chunksize, dtype, method, engine, **engine_kwargs)\u001b[0m\n\u001b[1;32m   1749\u001b[0m         \u001b[0msql_engine\u001b[0m \u001b[0;34m=\u001b[0m \u001b[0mget_engine\u001b[0m\u001b[0;34m(\u001b[0m\u001b[0mengine\u001b[0m\u001b[0;34m)\u001b[0m\u001b[0;34m\u001b[0m\u001b[0;34m\u001b[0m\u001b[0m\n\u001b[1;32m   1750\u001b[0m \u001b[0;34m\u001b[0m\u001b[0m\n\u001b[0;32m-> 1751\u001b[0;31m         table = self.prep_table(\n\u001b[0m\u001b[1;32m   1752\u001b[0m             \u001b[0mframe\u001b[0m\u001b[0;34m=\u001b[0m\u001b[0mframe\u001b[0m\u001b[0;34m,\u001b[0m\u001b[0;34m\u001b[0m\u001b[0;34m\u001b[0m\u001b[0m\n\u001b[1;32m   1753\u001b[0m             \u001b[0mname\u001b[0m\u001b[0;34m=\u001b[0m\u001b[0mname\u001b[0m\u001b[0;34m,\u001b[0m\u001b[0;34m\u001b[0m\u001b[0;34m\u001b[0m\u001b[0m\n",
      "\u001b[0;32m~/opt/anaconda3/lib/python3.9/site-packages/pandas/io/sql.py\u001b[0m in \u001b[0;36mprep_table\u001b[0;34m(self, frame, name, if_exists, index, index_label, schema, dtype)\u001b[0m\n\u001b[1;32m   1648\u001b[0m             \u001b[0mdtype\u001b[0m\u001b[0;34m=\u001b[0m\u001b[0mdtype\u001b[0m\u001b[0;34m,\u001b[0m\u001b[0;34m\u001b[0m\u001b[0;34m\u001b[0m\u001b[0m\n\u001b[1;32m   1649\u001b[0m         )\n\u001b[0;32m-> 1650\u001b[0;31m         \u001b[0mtable\u001b[0m\u001b[0;34m.\u001b[0m\u001b[0mcreate\u001b[0m\u001b[0;34m(\u001b[0m\u001b[0;34m)\u001b[0m\u001b[0;34m\u001b[0m\u001b[0;34m\u001b[0m\u001b[0m\n\u001b[0m\u001b[1;32m   1651\u001b[0m         \u001b[0;32mreturn\u001b[0m \u001b[0mtable\u001b[0m\u001b[0;34m\u001b[0m\u001b[0;34m\u001b[0m\u001b[0m\n\u001b[1;32m   1652\u001b[0m \u001b[0;34m\u001b[0m\u001b[0m\n",
      "\u001b[0;32m~/opt/anaconda3/lib/python3.9/site-packages/pandas/io/sql.py\u001b[0m in \u001b[0;36mcreate\u001b[0;34m(self)\u001b[0m\n\u001b[1;32m    856\u001b[0m         \u001b[0;32mif\u001b[0m \u001b[0mself\u001b[0m\u001b[0;34m.\u001b[0m\u001b[0mexists\u001b[0m\u001b[0;34m(\u001b[0m\u001b[0;34m)\u001b[0m\u001b[0;34m:\u001b[0m\u001b[0;34m\u001b[0m\u001b[0;34m\u001b[0m\u001b[0m\n\u001b[1;32m    857\u001b[0m             \u001b[0;32mif\u001b[0m \u001b[0mself\u001b[0m\u001b[0;34m.\u001b[0m\u001b[0mif_exists\u001b[0m \u001b[0;34m==\u001b[0m \u001b[0;34m\"fail\"\u001b[0m\u001b[0;34m:\u001b[0m\u001b[0;34m\u001b[0m\u001b[0;34m\u001b[0m\u001b[0m\n\u001b[0;32m--> 858\u001b[0;31m                 \u001b[0;32mraise\u001b[0m \u001b[0mValueError\u001b[0m\u001b[0;34m(\u001b[0m\u001b[0;34mf\"Table '{self.name}' already exists.\"\u001b[0m\u001b[0;34m)\u001b[0m\u001b[0;34m\u001b[0m\u001b[0;34m\u001b[0m\u001b[0m\n\u001b[0m\u001b[1;32m    859\u001b[0m             \u001b[0;32melif\u001b[0m \u001b[0mself\u001b[0m\u001b[0;34m.\u001b[0m\u001b[0mif_exists\u001b[0m \u001b[0;34m==\u001b[0m \u001b[0;34m\"replace\"\u001b[0m\u001b[0;34m:\u001b[0m\u001b[0;34m\u001b[0m\u001b[0;34m\u001b[0m\u001b[0m\n\u001b[1;32m    860\u001b[0m                 \u001b[0mself\u001b[0m\u001b[0;34m.\u001b[0m\u001b[0mpd_sql\u001b[0m\u001b[0;34m.\u001b[0m\u001b[0mdrop_table\u001b[0m\u001b[0;34m(\u001b[0m\u001b[0mself\u001b[0m\u001b[0;34m.\u001b[0m\u001b[0mname\u001b[0m\u001b[0;34m,\u001b[0m \u001b[0mself\u001b[0m\u001b[0;34m.\u001b[0m\u001b[0mschema\u001b[0m\u001b[0;34m)\u001b[0m\u001b[0;34m\u001b[0m\u001b[0;34m\u001b[0m\u001b[0m\n",
      "\u001b[0;31mValueError\u001b[0m: Table 'yellow_taxi' already exists."
     ]
    }
   ],
   "source": [
    "# create yellow taxi sql table\n",
    "yellow_taxi = pd.read_csv(\"cleaned.csv\")\n",
    "yellow_taxi.to_sql(\"yellow_taxi\", engine)"
   ]
  },
  {
   "cell_type": "code",
   "execution_count": null,
   "id": "c25c6ba8",
   "metadata": {},
   "outputs": [],
   "source": [
    "# create uber sql table\n",
    "uber_sql = pd.read_csv(\"uber.csv\")\n",
    "uber_sql.to_sql(\"uber\", engine)"
   ]
  },
  {
   "cell_type": "code",
   "execution_count": 36,
   "id": "b49ce917",
   "metadata": {},
   "outputs": [
    {
     "name": "stdout",
     "output_type": "stream",
     "text": [
      "2022-05-01 12:29:54,506 INFO sqlalchemy.engine.Engine PRAGMA main.table_info(\"daily_weather\")\n",
      "2022-05-01 12:29:54,507 INFO sqlalchemy.engine.Engine [raw sql] ()\n"
     ]
    },
    {
     "ename": "ValueError",
     "evalue": "Table 'daily_weather' already exists.",
     "output_type": "error",
     "traceback": [
      "\u001b[0;31m---------------------------------------------------------------------------\u001b[0m",
      "\u001b[0;31mValueError\u001b[0m                                Traceback (most recent call last)",
      "\u001b[0;32m/var/folders/52/4h1j4ys94774s8z8vsnwn5z80000gn/T/ipykernel_51330/1193460650.py\u001b[0m in \u001b[0;36m<module>\u001b[0;34m\u001b[0m\n\u001b[1;32m      1\u001b[0m \u001b[0;31m# create weather sql table\u001b[0m\u001b[0;34m\u001b[0m\u001b[0;34m\u001b[0m\u001b[0m\n\u001b[1;32m      2\u001b[0m \u001b[0mdaily_weather\u001b[0m \u001b[0;34m=\u001b[0m \u001b[0mpd\u001b[0m\u001b[0;34m.\u001b[0m\u001b[0mread_csv\u001b[0m\u001b[0;34m(\u001b[0m\u001b[0;34m\"daily_weather.csv\"\u001b[0m\u001b[0;34m)\u001b[0m\u001b[0;34m\u001b[0m\u001b[0;34m\u001b[0m\u001b[0m\n\u001b[0;32m----> 3\u001b[0;31m \u001b[0mdaily_weather\u001b[0m\u001b[0;34m.\u001b[0m\u001b[0mto_sql\u001b[0m\u001b[0;34m(\u001b[0m\u001b[0;34m\"daily_weather\"\u001b[0m\u001b[0;34m,\u001b[0m \u001b[0mengine\u001b[0m\u001b[0;34m)\u001b[0m\u001b[0;34m\u001b[0m\u001b[0;34m\u001b[0m\u001b[0m\n\u001b[0m\u001b[1;32m      4\u001b[0m \u001b[0;34m\u001b[0m\u001b[0m\n\u001b[1;32m      5\u001b[0m \u001b[0mhourly_weather\u001b[0m \u001b[0;34m=\u001b[0m \u001b[0mpd\u001b[0m\u001b[0;34m.\u001b[0m\u001b[0mread_csv\u001b[0m\u001b[0;34m(\u001b[0m\u001b[0;34m\"sandy.csv\"\u001b[0m\u001b[0;34m)\u001b[0m\u001b[0;34m\u001b[0m\u001b[0;34m\u001b[0m\u001b[0m\n",
      "\u001b[0;32m~/opt/anaconda3/lib/python3.9/site-packages/pandas/core/generic.py\u001b[0m in \u001b[0;36mto_sql\u001b[0;34m(self, name, con, schema, if_exists, index, index_label, chunksize, dtype, method)\u001b[0m\n\u001b[1;32m   2870\u001b[0m         \u001b[0;32mfrom\u001b[0m \u001b[0mpandas\u001b[0m\u001b[0;34m.\u001b[0m\u001b[0mio\u001b[0m \u001b[0;32mimport\u001b[0m \u001b[0msql\u001b[0m\u001b[0;34m\u001b[0m\u001b[0;34m\u001b[0m\u001b[0m\n\u001b[1;32m   2871\u001b[0m \u001b[0;34m\u001b[0m\u001b[0m\n\u001b[0;32m-> 2872\u001b[0;31m         sql.to_sql(\n\u001b[0m\u001b[1;32m   2873\u001b[0m             \u001b[0mself\u001b[0m\u001b[0;34m,\u001b[0m\u001b[0;34m\u001b[0m\u001b[0;34m\u001b[0m\u001b[0m\n\u001b[1;32m   2874\u001b[0m             \u001b[0mname\u001b[0m\u001b[0;34m,\u001b[0m\u001b[0;34m\u001b[0m\u001b[0;34m\u001b[0m\u001b[0m\n",
      "\u001b[0;32m~/opt/anaconda3/lib/python3.9/site-packages/pandas/io/sql.py\u001b[0m in \u001b[0;36mto_sql\u001b[0;34m(frame, name, con, schema, if_exists, index, index_label, chunksize, dtype, method, engine, **engine_kwargs)\u001b[0m\n\u001b[1;32m    715\u001b[0m         )\n\u001b[1;32m    716\u001b[0m \u001b[0;34m\u001b[0m\u001b[0m\n\u001b[0;32m--> 717\u001b[0;31m     pandas_sql.to_sql(\n\u001b[0m\u001b[1;32m    718\u001b[0m         \u001b[0mframe\u001b[0m\u001b[0;34m,\u001b[0m\u001b[0;34m\u001b[0m\u001b[0;34m\u001b[0m\u001b[0m\n\u001b[1;32m    719\u001b[0m         \u001b[0mname\u001b[0m\u001b[0;34m,\u001b[0m\u001b[0;34m\u001b[0m\u001b[0;34m\u001b[0m\u001b[0m\n",
      "\u001b[0;32m~/opt/anaconda3/lib/python3.9/site-packages/pandas/io/sql.py\u001b[0m in \u001b[0;36mto_sql\u001b[0;34m(self, frame, name, if_exists, index, index_label, schema, chunksize, dtype, method, engine, **engine_kwargs)\u001b[0m\n\u001b[1;32m   1749\u001b[0m         \u001b[0msql_engine\u001b[0m \u001b[0;34m=\u001b[0m \u001b[0mget_engine\u001b[0m\u001b[0;34m(\u001b[0m\u001b[0mengine\u001b[0m\u001b[0;34m)\u001b[0m\u001b[0;34m\u001b[0m\u001b[0;34m\u001b[0m\u001b[0m\n\u001b[1;32m   1750\u001b[0m \u001b[0;34m\u001b[0m\u001b[0m\n\u001b[0;32m-> 1751\u001b[0;31m         table = self.prep_table(\n\u001b[0m\u001b[1;32m   1752\u001b[0m             \u001b[0mframe\u001b[0m\u001b[0;34m=\u001b[0m\u001b[0mframe\u001b[0m\u001b[0;34m,\u001b[0m\u001b[0;34m\u001b[0m\u001b[0;34m\u001b[0m\u001b[0m\n\u001b[1;32m   1753\u001b[0m             \u001b[0mname\u001b[0m\u001b[0;34m=\u001b[0m\u001b[0mname\u001b[0m\u001b[0;34m,\u001b[0m\u001b[0;34m\u001b[0m\u001b[0;34m\u001b[0m\u001b[0m\n",
      "\u001b[0;32m~/opt/anaconda3/lib/python3.9/site-packages/pandas/io/sql.py\u001b[0m in \u001b[0;36mprep_table\u001b[0;34m(self, frame, name, if_exists, index, index_label, schema, dtype)\u001b[0m\n\u001b[1;32m   1648\u001b[0m             \u001b[0mdtype\u001b[0m\u001b[0;34m=\u001b[0m\u001b[0mdtype\u001b[0m\u001b[0;34m,\u001b[0m\u001b[0;34m\u001b[0m\u001b[0;34m\u001b[0m\u001b[0m\n\u001b[1;32m   1649\u001b[0m         )\n\u001b[0;32m-> 1650\u001b[0;31m         \u001b[0mtable\u001b[0m\u001b[0;34m.\u001b[0m\u001b[0mcreate\u001b[0m\u001b[0;34m(\u001b[0m\u001b[0;34m)\u001b[0m\u001b[0;34m\u001b[0m\u001b[0;34m\u001b[0m\u001b[0m\n\u001b[0m\u001b[1;32m   1651\u001b[0m         \u001b[0;32mreturn\u001b[0m \u001b[0mtable\u001b[0m\u001b[0;34m\u001b[0m\u001b[0;34m\u001b[0m\u001b[0m\n\u001b[1;32m   1652\u001b[0m \u001b[0;34m\u001b[0m\u001b[0m\n",
      "\u001b[0;32m~/opt/anaconda3/lib/python3.9/site-packages/pandas/io/sql.py\u001b[0m in \u001b[0;36mcreate\u001b[0;34m(self)\u001b[0m\n\u001b[1;32m    856\u001b[0m         \u001b[0;32mif\u001b[0m \u001b[0mself\u001b[0m\u001b[0;34m.\u001b[0m\u001b[0mexists\u001b[0m\u001b[0;34m(\u001b[0m\u001b[0;34m)\u001b[0m\u001b[0;34m:\u001b[0m\u001b[0;34m\u001b[0m\u001b[0;34m\u001b[0m\u001b[0m\n\u001b[1;32m    857\u001b[0m             \u001b[0;32mif\u001b[0m \u001b[0mself\u001b[0m\u001b[0;34m.\u001b[0m\u001b[0mif_exists\u001b[0m \u001b[0;34m==\u001b[0m \u001b[0;34m\"fail\"\u001b[0m\u001b[0;34m:\u001b[0m\u001b[0;34m\u001b[0m\u001b[0;34m\u001b[0m\u001b[0m\n\u001b[0;32m--> 858\u001b[0;31m                 \u001b[0;32mraise\u001b[0m \u001b[0mValueError\u001b[0m\u001b[0;34m(\u001b[0m\u001b[0;34mf\"Table '{self.name}' already exists.\"\u001b[0m\u001b[0;34m)\u001b[0m\u001b[0;34m\u001b[0m\u001b[0;34m\u001b[0m\u001b[0m\n\u001b[0m\u001b[1;32m    859\u001b[0m             \u001b[0;32melif\u001b[0m \u001b[0mself\u001b[0m\u001b[0;34m.\u001b[0m\u001b[0mif_exists\u001b[0m \u001b[0;34m==\u001b[0m \u001b[0;34m\"replace\"\u001b[0m\u001b[0;34m:\u001b[0m\u001b[0;34m\u001b[0m\u001b[0;34m\u001b[0m\u001b[0m\n\u001b[1;32m    860\u001b[0m                 \u001b[0mself\u001b[0m\u001b[0;34m.\u001b[0m\u001b[0mpd_sql\u001b[0m\u001b[0;34m.\u001b[0m\u001b[0mdrop_table\u001b[0m\u001b[0;34m(\u001b[0m\u001b[0mself\u001b[0m\u001b[0;34m.\u001b[0m\u001b[0mname\u001b[0m\u001b[0;34m,\u001b[0m \u001b[0mself\u001b[0m\u001b[0;34m.\u001b[0m\u001b[0mschema\u001b[0m\u001b[0;34m)\u001b[0m\u001b[0;34m\u001b[0m\u001b[0;34m\u001b[0m\u001b[0m\n",
      "\u001b[0;31mValueError\u001b[0m: Table 'daily_weather' already exists."
     ]
    }
   ],
   "source": [
    "# create weather sql tables\n",
    "daily_weather = pd.read_csv(\"daily_weather.csv\")\n",
    "daily_weather.to_sql(\"daily_weather\", engine)\n",
    "\n",
    "hourly_weather = pd.read_csv(\"sandy.csv\")\n",
    "hourly_weather.to_sql(\"hourly_weather\", engine)"
   ]
  },
  {
   "cell_type": "markdown",
   "id": "73de68ec",
   "metadata": {},
   "source": [
    "# Part 3: Understanding Data"
   ]
  },
  {
   "cell_type": "code",
   "execution_count": 270,
   "id": "9a7ce414",
   "metadata": {},
   "outputs": [],
   "source": [
    "def write_query_to_file(query, outfile):\n",
    "    f = open(outfile, \"w\")\n",
    "    f.write(query)\n",
    "    f.close()"
   ]
  },
  {
   "cell_type": "markdown",
   "id": "db2c3c4f",
   "metadata": {},
   "source": [
    "## Q1) What hour is the most popular to take a yellow taxi?"
   ]
  },
  {
   "cell_type": "code",
   "execution_count": 315,
   "id": "957eef9f",
   "metadata": {},
   "outputs": [
    {
     "name": "stdout",
     "output_type": "stream",
     "text": [
      "2022-05-01 15:03:49,385 INFO sqlalchemy.engine.Engine \n",
      "SELECT \"hour\", count(hour)\n",
      "    FROM \"yellow_taxi\"\n",
      "    GROUP BY \"hour\"\n",
      "\n",
      "2022-05-01 15:03:49,389 INFO sqlalchemy.engine.Engine [raw sql] ()\n"
     ]
    },
    {
     "data": {
      "text/plain": [
       "[(0, 3619),\n",
       " (1, 2671),\n",
       " (2, 2003),\n",
       " (3, 1447),\n",
       " (4, 1071),\n",
       " (5, 921),\n",
       " (6, 1832),\n",
       " (7, 3124),\n",
       " (8, 4192),\n",
       " (9, 4210),\n",
       " (10, 4150),\n",
       " (11, 4269),\n",
       " (12, 4399),\n",
       " (13, 4499),\n",
       " (14, 4669),\n",
       " (15, 4435),\n",
       " (16, 3908),\n",
       " (17, 4539),\n",
       " (18, 5566),\n",
       " (19, 5659),\n",
       " (20, 5443),\n",
       " (21, 5403),\n",
       " (22, 5006),\n",
       " (23, 4481)]"
      ]
     },
     "execution_count": 315,
     "metadata": {},
     "output_type": "execute_result"
    }
   ],
   "source": [
    "QUERY_1 = \"\"\"\n",
    "SELECT \"hour\", count(hour)\n",
    "    FROM \"yellow_taxi\"\n",
    "    GROUP BY \"hour\"\n",
    "\"\"\"\n",
    "\n",
    "engine.execute(QUERY_1).fetchall()\n"
   ]
  },
  {
   "cell_type": "markdown",
   "id": "b8a65fd1",
   "metadata": {},
   "source": [
    "## A1) Hour 19 (7pm) is the most popular time of day to take a yellow taxi."
   ]
  },
  {
   "cell_type": "markdown",
   "id": "ef79827c",
   "metadata": {},
   "source": [
    "## Q2) What day is the most popular to take an Uber?"
   ]
  },
  {
   "cell_type": "code",
   "execution_count": 316,
   "id": "85af86b8",
   "metadata": {},
   "outputs": [
    {
     "name": "stdout",
     "output_type": "stream",
     "text": [
      "2022-05-01 15:03:58,217 INFO sqlalchemy.engine.Engine \n",
      "SELECT \"day\", count(day)\n",
      "    FROM \"uber\"\n",
      "    GROUP BY \"day\"\n",
      "\n",
      "2022-05-01 15:03:58,226 INFO sqlalchemy.engine.Engine [raw sql] ()\n"
     ]
    },
    {
     "data": {
      "text/plain": [
       "[('Friday', 30166),\n",
       " ('Monday', 24681),\n",
       " ('Saturday', 29599),\n",
       " ('Sunday', 25834),\n",
       " ('Thursday', 29338),\n",
       " ('Tuesday', 27526),\n",
       " ('Wednesday', 28328)]"
      ]
     },
     "execution_count": 316,
     "metadata": {},
     "output_type": "execute_result"
    }
   ],
   "source": [
    "QUERY_2 = \"\"\"\n",
    "SELECT \"day\", count(day)\n",
    "    FROM \"uber\"\n",
    "    GROUP BY \"day\"\n",
    "\"\"\"\n",
    "\n",
    "engine.execute(QUERY_2).fetchall()"
   ]
  },
  {
   "cell_type": "markdown",
   "id": "517ba63e",
   "metadata": {},
   "source": [
    "## A2) Friday is the most popular day to take an Uber."
   ]
  },
  {
   "cell_type": "markdown",
   "id": "d61be20c",
   "metadata": {},
   "source": [
    "## Q3) What is the 95% percentile of all trips in July 2013?"
   ]
  },
  {
   "cell_type": "code",
   "execution_count": 335,
   "id": "b2846e69",
   "metadata": {},
   "outputs": [
    {
     "name": "stdout",
     "output_type": "stream",
     "text": [
      "2022-05-01 15:11:45,818 INFO sqlalchemy.engine.Engine \n",
      "WITH \"dists\" AS (SELECT \"distance\" FROM \"yellow_taxi\" WHERE DATE(\"pickup_datetime\")>\"2013-06-30\" AND DATE(\"pickup_datetime\")<\"2013-08-01\"\n",
      "    UNION ALL\n",
      "    SELECT \"distance\" FROM \"uber\" WHERE DATE(\"pickup_datetime\")>\"2013-06-30\" AND DATE(\"pickup_datetime\")<\"2013-08-01\")\n",
      "    \n",
      "    SELECT * FROM \"dists\"\n",
      "    ORDER BY \"distance\" ASC\n",
      "    LIMIT 1\n",
      "    OFFSET (SELECT\n",
      "         COUNT(*)\n",
      "        FROM \"dists\") * 95 / 100 - 1;\n",
      "\n",
      "2022-05-01 15:11:45,821 INFO sqlalchemy.engine.Engine [raw sql] ()\n"
     ]
    },
    {
     "data": {
      "text/plain": [
       "[(9.63492562535863,)]"
      ]
     },
     "execution_count": 335,
     "metadata": {},
     "output_type": "execute_result"
    }
   ],
   "source": [
    "QUERY_3 = \"\"\"\n",
    "WITH \"dists\" AS (SELECT \"distance\" FROM \"yellow_taxi\" WHERE DATE(\"pickup_datetime\")>\"2013-06-30\" AND DATE(\"pickup_datetime\")<\"2013-08-01\"\n",
    "    UNION ALL\n",
    "    SELECT \"distance\" FROM \"uber\" WHERE DATE(\"pickup_datetime\")>\"2013-06-30\" AND DATE(\"pickup_datetime\")<\"2013-08-01\")\n",
    "    \n",
    "    SELECT * FROM \"dists\"\n",
    "    ORDER BY \"distance\" ASC\n",
    "    LIMIT 1\n",
    "    OFFSET (SELECT\n",
    "         COUNT(*)\n",
    "        FROM \"dists\") * 95 / 100 - 1;\n",
    "\"\"\"\n",
    "engine.execute(QUERY_3).fetchall()"
   ]
  },
  {
   "cell_type": "markdown",
   "id": "617cbbb5",
   "metadata": {},
   "source": [
    "## A3) 9.63492562535863 is the 95th Percentile of Hired Rides in July 2013."
   ]
  },
  {
   "cell_type": "markdown",
   "id": "825778e7",
   "metadata": {},
   "source": [
    "## Q4) Top Ten Hired Days + Average Distance in 2009?"
   ]
  },
  {
   "cell_type": "code",
   "execution_count": 274,
   "id": "bcf49cb8",
   "metadata": {},
   "outputs": [
    {
     "name": "stdout",
     "output_type": "stream",
     "text": [
      "2022-04-30 23:44:42,676 INFO sqlalchemy.engine.Engine \n",
      "    WITH \"allrides\" AS (\n",
      "    SELECT DATE(\"pickup_datetime\") AS \"date\", \"distance\" FROM \"yellow_taxi\" WHERE DATE(\"pickup_datetime\") < \"2010-01-01\"\n",
      "    UNION ALL\n",
      "    SELECT DATE(\"pickup_datetime\") AS \"date\", \"distance\" FROM \"uber\" WHERE DATE(\"pickup_datetime\") < \"2010-01-01\"\n",
      "    ),\n",
      "    \n",
      "    \"topten\" AS (\n",
      "    SELECT \"date\", count(*) AS ct FROM \"allrides\"\n",
      "    GROUP BY \"date\"\n",
      "    ORDER BY ct DESC\n",
      "    LIMIT 10\n",
      "    )\n",
      "    \n",
      "    SELECT topten.date, AVG(allrides.distance) FROM \"topten\"\n",
      "    JOIN \"allrides\" ON topten.date = allrides.date\n",
      "    GROUP BY topten.date\n",
      "    ORDER BY topten.ct DESC\n",
      "\n",
      "2022-04-30 23:44:42,677 INFO sqlalchemy.engine.Engine [raw sql] ()\n"
     ]
    },
    {
     "data": {
      "text/plain": [
       "[('2009-11-05', 3.1719834217745233),\n",
       " ('2009-02-21', 3.316772477787014),\n",
       " ('2009-12-04', 3.0355148277065496),\n",
       " ('2009-11-07', 2.4009012167001536),\n",
       " ('2009-06-12', 3.547049984955932),\n",
       " ('2009-07-16', 3.0812862084419277),\n",
       " ('2009-06-04', 3.455638454530586),\n",
       " ('2009-01-30', 3.100244793113854),\n",
       " ('2009-09-11', 2.8638414447764706),\n",
       " ('2009-04-20', 2.9070527972732476)]"
      ]
     },
     "execution_count": 274,
     "metadata": {},
     "output_type": "execute_result"
    }
   ],
   "source": [
    "QUERY_4 = \"\"\"\n",
    "    WITH \"allrides\" AS (\n",
    "    SELECT DATE(\"pickup_datetime\") AS \"date\", \"distance\" FROM \"yellow_taxi\" WHERE DATE(\"pickup_datetime\") < \"2010-01-01\"\n",
    "    UNION ALL\n",
    "    SELECT DATE(\"pickup_datetime\") AS \"date\", \"distance\" FROM \"uber\" WHERE DATE(\"pickup_datetime\") < \"2010-01-01\"\n",
    "    ),\n",
    "    \n",
    "    \"topten\" AS (\n",
    "    SELECT \"date\", count(*) AS ct FROM \"allrides\"\n",
    "    GROUP BY \"date\"\n",
    "    ORDER BY ct DESC\n",
    "    LIMIT 10\n",
    "    )\n",
    "    \n",
    "    SELECT topten.date, AVG(allrides.distance) FROM \"topten\"\n",
    "    JOIN \"allrides\" ON topten.date = allrides.date\n",
    "    GROUP BY topten.date\n",
    "    ORDER BY topten.ct DESC\n",
    "\"\"\"\n",
    "engine.execute(QUERY_4).fetchall()"
   ]
  },
  {
   "cell_type": "markdown",
   "id": "4c5447e2",
   "metadata": {},
   "source": [
    "## A4) Top 10 Hired Days + Average Distance:\n",
    "\n",
    " ('2009-11-05', 3.1719834217745233),\n",
    "\n",
    " ('2009-02-21', 3.316772477787014),\n",
    " \n",
    " ('2009-12-04', 3.0355148277065496),\n",
    " \n",
    " ('2009-11-07', 2.4009012167001536),\n",
    " \n",
    " ('2009-06-12', 3.547049984955932),\n",
    " \n",
    " ('2009-07-16', 3.0812862084419277),\n",
    " \n",
    " ('2009-06-04', 3.455638454530586),\n",
    " \n",
    " ('2009-01-30', 3.100244793113854),\n",
    " \n",
    " ('2009-09-11', 2.8638414447764706),\n",
    " \n",
    " ('2009-04-20', 2.9070527972732476)."
   ]
  },
  {
   "cell_type": "markdown",
   "id": "35de8674",
   "metadata": {},
   "source": [
    "## Q5) Windiest Days + # Hired Trips in 2014?"
   ]
  },
  {
   "cell_type": "code",
   "execution_count": 306,
   "id": "781ef03c",
   "metadata": {},
   "outputs": [
    {
     "name": "stdout",
     "output_type": "stream",
     "text": [
      "2022-05-01 14:56:50,671 INFO sqlalchemy.engine.Engine \n",
      " WITH \"windiest\" AS (\n",
      "   SELECT DATE(\"date\") as \"new_date\", \"windspeed\" FROM \"daily_weather\" WHERE DATE(\"date\") < \"2015-01-01\" AND DATE(\"date\") > \"2013-12-31\"\n",
      "   ORDER BY \"windspeed\" DESC\n",
      "   LIMIT 10\n",
      "   ),\n",
      "\n",
      " \"allrides\" AS (\n",
      "    SELECT DATE(\"pickup_datetime\") AS \"date\" FROM \"yellow_taxi\" WHERE DATE(\"pickup_datetime\") < \"2015-01-01\" AND DATE(\"pickup_datetime\") > \"2013-12-31\"\n",
      "    UNION ALL\n",
      "    SELECT DATE(\"pickup_datetime\") AS \"date\" FROM \"uber\" WHERE DATE(\"pickup_datetime\") < \"2015-01-01\" AND DATE(\"pickup_datetime\") > \"2013-12-31\"\n",
      "    ),\n",
      "    \n",
      " \"ridescount\" AS (\n",
      "     SELECT \"date\", COUNT(\"date\") AS ct FROM \"allrides\"\n",
      "     GROUP BY \"date\"\n",
      " )\n",
      " \n",
      "  SELECT windiest.new_date, windiest.windspeed, ridescount.ct FROM \"windiest\"\n",
      "     LEFT JOIN \"ridescount\" ON windiest.new_date = ridescount.date\n",
      "     GROUP BY windiest.new_date\n",
      "     ORDER BY windiest.windspeed DESC\n",
      "\n",
      "\n",
      "2022-05-01 14:56:50,676 INFO sqlalchemy.engine.Engine [raw sql] ()\n"
     ]
    },
    {
     "data": {
      "text/plain": [
       "[('2014-03-13', 14.1, 45),\n",
       " ('2014-01-07', 13.1, 39),\n",
       " ('2014-02-13', 12.6, 22),\n",
       " ('2014-01-02', 12.2, 31),\n",
       " ('2014-03-26', 11.9, 39),\n",
       " ('2014-12-07', 11.8, 43),\n",
       " ('2014-12-08', 11.5, 42),\n",
       " ('2014-11-02', 10.8, 36),\n",
       " ('2014-03-29', 10.8, 35),\n",
       " ('2014-01-03', 10.4, 18)]"
      ]
     },
     "execution_count": 306,
     "metadata": {},
     "output_type": "execute_result"
    }
   ],
   "source": [
    "QUERY_5 = \"\"\"\n",
    " WITH \"windiest\" AS (\n",
    "   SELECT DATE(\"date\") as \"new_date\", \"windspeed\" FROM \"daily_weather\" WHERE DATE(\"date\") < \"2015-01-01\" AND DATE(\"date\") > \"2013-12-31\"\n",
    "   ORDER BY \"windspeed\" DESC\n",
    "   LIMIT 10\n",
    "   ),\n",
    "\n",
    " \"allrides\" AS (\n",
    "    SELECT DATE(\"pickup_datetime\") AS \"date\" FROM \"yellow_taxi\" WHERE DATE(\"pickup_datetime\") < \"2015-01-01\" AND DATE(\"pickup_datetime\") > \"2013-12-31\"\n",
    "    UNION ALL\n",
    "    SELECT DATE(\"pickup_datetime\") AS \"date\" FROM \"uber\" WHERE DATE(\"pickup_datetime\") < \"2015-01-01\" AND DATE(\"pickup_datetime\") > \"2013-12-31\"\n",
    "    ),\n",
    "    \n",
    " \"ridescount\" AS (\n",
    "     SELECT \"date\", COUNT(\"date\") AS ct FROM \"allrides\"\n",
    "     GROUP BY \"date\"\n",
    " )\n",
    " \n",
    "  SELECT windiest.new_date, windiest.windspeed, ridescount.ct FROM \"windiest\"\n",
    "     LEFT JOIN \"ridescount\" ON windiest.new_date = ridescount.date\n",
    "     GROUP BY windiest.new_date\n",
    "     ORDER BY windiest.windspeed DESC\n",
    "\n",
    "\"\"\"\n",
    "engine.execute(QUERY_5).fetchall()"
   ]
  },
  {
   "cell_type": "markdown",
   "id": "729b7ee0",
   "metadata": {},
   "source": [
    "## A5) Top 10 Windiest Days + Windspeed + # Rides:\n",
    "('2014-03-13', 14.1, 45)\n",
    "\n",
    " ('2014-01-07', 13.1, 39)\n",
    " \n",
    " ('2014-02-13', 12.6, 22)\n",
    " \n",
    " ('2014-01-02', 12.2, 31)\n",
    " \n",
    " ('2014-03-26', 11.9, 39)\n",
    " \n",
    " ('2014-12-07', 11.8, 43)\n",
    " \n",
    " ('2014-12-08', 11.5, 42)\n",
    " \n",
    " ('2014-11-02', 10.8, 36)\n",
    " \n",
    " ('2014-03-29', 10.8, 35)\n",
    " \n",
    " ('2014-01-03', 10.4, 18)"
   ]
  },
  {
   "cell_type": "markdown",
   "id": "8d49bd93",
   "metadata": {},
   "source": [
    "## Q6) Precipitation + # Rides + Windspeed Per Hour During the Week Before, During, and Week After Hurricane Sandy?"
   ]
  },
  {
   "cell_type": "code",
   "execution_count": 278,
   "id": "325bcd67",
   "metadata": {},
   "outputs": [
    {
     "name": "stdout",
     "output_type": "stream",
     "text": [
      "2022-04-30 23:52:44,966 INFO sqlalchemy.engine.Engine \n",
      "WITH \"precip\" AS (\n",
      "    SELECT DATE(\"DATE\") AS \"new_date\", strftime(\"%H\", \"DATE\") AS \"hr\", \"precipitation\" FROM \"hourly_weather\" WHERE DATE(\"DATE\") < \"2012-11-07\" AND DATE(\"DATE\") > \"2012-10-21\"\n",
      "),\n",
      "\"rides\" AS (\n",
      "    SELECT DATE(\"pickup_datetime\") AS \"dt\", strftime(\"%H\", \"pickup_datetime\") AS \"hr\" FROM \"yellow_taxi\" WHERE DATE(\"pickup_datetime\") < \"2012-11-07\" AND DATE(\"pickup_datetime\") > \"2012-10-21\"\n",
      "    UNION ALL\n",
      "    SELECT DATE(\"pickup_datetime\") AS \"dt\", strftime(\"%H\", \"pickup_datetime\") AS \"hr\" FROM \"uber\" WHERE DATE(\"pickup_datetime\") < \"2012-11-07\" AND DATE(\"pickup_datetime\") > \"2012-10-21\"\n",
      "),\n",
      "\"counted_rides\" AS (\n",
      "    SELECT \"dt\" AS \"dt\", \"hr\" AS \"hr\", COUNT(*) AS \"ct\" FROM \"rides\"\n",
      "    GROUP BY \"dt\", \"hr\"\n",
      "),\n",
      "\"rain_and_rides\" AS (\n",
      "    SELECT precip.new_date AS \"dt\", precip.hr AS \"hr\", precip.precipitation AS \"rain\", counted_rides.ct AS \"rides\" FROM \"precip\"\n",
      "    LEFT JOIN \"counted_rides\" ON precip.new_date = counted_rides.dt AND precip.hr = counted_rides.hr\n",
      "),\n",
      "\"wind\" AS (\n",
      "    SELECT DATE(\"date\") AS \"dt\", \"windspeed\" FROM \"daily_weather\" WHERE DATE(\"date\") < \"2012-11-07\" AND DATE(\"date\") > \"2012-10-21\"\n",
      ")\n",
      "\n",
      "SELECT rain_and_rides.dt, rain_and_rides.hr, rain_and_rides.rain, rain_and_rides.rides, wind.windspeed FROM \"rain_and_rides\"\n",
      "LEFT JOIN \"wind\" ON wind.dt = rain_and_rides.dt\n",
      "\n",
      "2022-04-30 23:52:44,968 INFO sqlalchemy.engine.Engine [raw sql] ()\n"
     ]
    },
    {
     "data": {
      "text/plain": [
       "[('2012-10-22', '00', '0.00', 2, 4.2),\n",
       " ('2012-10-22', '01', '0.00', 1, 4.2),\n",
       " ('2012-10-22', '02', '0.00', None, 4.2),\n",
       " ('2012-10-22', '03', '0.00', 1, 4.2),\n",
       " ('2012-10-22', '04', '0.00', None, 4.2),\n",
       " ('2012-10-22', '05', '0.00', None, 4.2),\n",
       " ('2012-10-22', '06', '0.00', None, 4.2),\n",
       " ('2012-10-22', '07', '0.00', 1, 4.2),\n",
       " ('2012-10-22', '08', '0.00', 1, 4.2),\n",
       " ('2012-10-22', '09', '0.00', None, 4.2),\n",
       " ('2012-10-22', '10', '0.00', 4, 4.2),\n",
       " ('2012-10-22', '11', '0.00', 1, 4.2),\n",
       " ('2012-10-22', '12', '0.00', 5, 4.2),\n",
       " ('2012-10-22', '13', '0.00', 2, 4.2),\n",
       " ('2012-10-22', '14', '0.00', 2, 4.2),\n",
       " ('2012-10-22', '15', '0.00', 2, 4.2),\n",
       " ('2012-10-22', '16', '0.00', 2, 4.2),\n",
       " ('2012-10-22', '17', '0.00', None, 4.2),\n",
       " ('2012-10-22', '18', '0.00', 1, 4.2),\n",
       " ('2012-10-22', '19', '0.00', 1, 4.2),\n",
       " ('2012-10-22', '20', '0.00', None, 4.2),\n",
       " ('2012-10-22', '21', '0.00', 2, 4.2),\n",
       " ('2012-10-22', '22', '0.00', 3, 4.2),\n",
       " ('2012-10-22', '23', '0.00', 2, 4.2),\n",
       " ('2012-10-23', '00', None, 1, 1.3),\n",
       " ('2012-10-23', '01', None, None, 1.3),\n",
       " ('2012-10-23', '02', None, None, 1.3),\n",
       " ('2012-10-23', '03', None, 2, 1.3),\n",
       " ('2012-10-23', '04', None, 1, 1.3),\n",
       " ('2012-10-23', '05', None, None, 1.3),\n",
       " ('2012-10-23', '06', None, 1, 1.3),\n",
       " ('2012-10-23', '07', None, 3, 1.3),\n",
       " ('2012-10-23', '08', None, 3, 1.3),\n",
       " ('2012-10-23', '09', None, 2, 1.3),\n",
       " ('2012-10-23', '10', None, 3, 1.3),\n",
       " ('2012-10-23', '11', None, 4, 1.3),\n",
       " ('2012-10-23', '12', 'T', 1, 1.3),\n",
       " ('2012-10-23', '13', None, None, 1.3),\n",
       " ('2012-10-23', '14', None, 1, 1.3),\n",
       " ('2012-10-23', '15', None, 3, 1.3),\n",
       " ('2012-10-23', '16', None, 6, 1.3),\n",
       " ('2012-10-23', '18', None, 7, 1.3),\n",
       " ('2012-10-23', '19', 'T', 2, 1.3),\n",
       " ('2012-10-23', '20', '0.02', 2, 1.3),\n",
       " ('2012-10-23', '21', 'T', 4, 1.3),\n",
       " ('2012-10-23', '22', '0.01', 2, 1.3),\n",
       " ('2012-10-23', '23', 'T', None, 1.3),\n",
       " ('2012-10-24', '00', '0.00', 1, 5.1),\n",
       " ('2012-10-24', '01', '0.00', None, 5.1),\n",
       " ('2012-10-24', '02', '0.00', 1, 5.1),\n",
       " ('2012-10-24', '03', '0.00', None, 5.1),\n",
       " ('2012-10-24', '04', '0.00', None, 5.1),\n",
       " ('2012-10-24', '05', '0.00', None, 5.1),\n",
       " ('2012-10-24', '06', '0.00', 2, 5.1),\n",
       " ('2012-10-24', '07', 'T', 4, 5.1),\n",
       " ('2012-10-24', '08', 'T', None, 5.1),\n",
       " ('2012-10-24', '09', 'T', 3, 5.1),\n",
       " ('2012-10-24', '10', '0.00', 2, 5.1),\n",
       " ('2012-10-24', '11', '0.00', 2, 5.1),\n",
       " ('2012-10-24', '12', 'T', 5, 5.1),\n",
       " ('2012-10-24', '13', '0.00', 1, 5.1),\n",
       " ('2012-10-24', '14', '0.00', 3, 5.1),\n",
       " ('2012-10-24', '15', '0.00', 2, 5.1),\n",
       " ('2012-10-24', '16', '0.00', 2, 5.1),\n",
       " ('2012-10-24', '17', '0.00', 3, 5.1),\n",
       " ('2012-10-24', '18', '0.00', 2, 5.1),\n",
       " ('2012-10-24', '19', '0.00', 3, 5.1),\n",
       " ('2012-10-24', '20', '0.00', 2, 5.1),\n",
       " ('2012-10-24', '21', '0.00', 1, 5.1),\n",
       " ('2012-10-24', '22', '0.00', 3, 5.1),\n",
       " ('2012-10-24', '23', '0.00', 2, 5.1),\n",
       " ('2012-10-25', '00', '0.00', None, 3.2),\n",
       " ('2012-10-25', '01', '0.00', 2, 3.2),\n",
       " ('2012-10-25', '02', '0.00', 1, 3.2),\n",
       " ('2012-10-25', '03', '0.00', None, 3.2),\n",
       " ('2012-10-25', '04', '0.00', 1, 3.2),\n",
       " ('2012-10-25', '05', '0.00', None, 3.2),\n",
       " ('2012-10-25', '06', '0.00', 3, 3.2),\n",
       " ('2012-10-25', '07', '0.00', 1, 3.2),\n",
       " ('2012-10-25', '08', '0.00', 3, 3.2),\n",
       " ('2012-10-25', '09', '0.00', 1, 3.2),\n",
       " ('2012-10-25', '10', '0.00', 2, 3.2),\n",
       " ('2012-10-25', '11', '0.00', 1, 3.2),\n",
       " ('2012-10-25', '12', '0.00', 1, 3.2),\n",
       " ('2012-10-25', '13', '0.00', 1, 3.2),\n",
       " ('2012-10-25', '14', '0.00', 2, 3.2),\n",
       " ('2012-10-25', '15', '0.00', 1, 3.2),\n",
       " ('2012-10-25', '16', '0.00', 1, 3.2),\n",
       " ('2012-10-25', '17', '0.00', 1, 3.2),\n",
       " ('2012-10-25', '18', '0.00', 3, 3.2),\n",
       " ('2012-10-25', '19', '0.00', 3, 3.2),\n",
       " ('2012-10-25', '20', '0.00', 3, 3.2),\n",
       " ('2012-10-25', '21', '0.00', 2, 3.2),\n",
       " ('2012-10-25', '22', '0.00', 2, 3.2),\n",
       " ('2012-10-25', '23', '0.00', 2, 3.2),\n",
       " ('2012-10-26', '00', '0.00', 3, 1.6),\n",
       " ('2012-10-26', '01', '0.00', 1, 1.6),\n",
       " ('2012-10-26', '02', '0.00', 2, 1.6),\n",
       " ('2012-10-26', '03', '0.00', None, 1.6),\n",
       " ('2012-10-26', '04', '0.00', 2, 1.6),\n",
       " ('2012-10-26', '05', '0.00', None, 1.6),\n",
       " ('2012-10-26', '06', '0.00', None, 1.6),\n",
       " ('2012-10-26', '07', '0.00', 2, 1.6),\n",
       " ('2012-10-26', '08', '0.00', 1, 1.6),\n",
       " ('2012-10-26', '09', '0.00', 3, 1.6),\n",
       " ('2012-10-26', '10', '0.00', 3, 1.6),\n",
       " ('2012-10-26', '11', '0.00', 3, 1.6),\n",
       " ('2012-10-26', '12', '0.00', 1, 1.6),\n",
       " ('2012-10-26', '13', '0.00', 2, 1.6),\n",
       " ('2012-10-26', '14', '0.00', None, 1.6),\n",
       " ('2012-10-26', '15', '0.00', None, 1.6),\n",
       " ('2012-10-26', '16', '0.00', 1, 1.6),\n",
       " ('2012-10-26', '17', '0.00', 2, 1.6),\n",
       " ('2012-10-26', '18', '0.00', None, 1.6),\n",
       " ('2012-10-26', '19', '0.00', 1, 1.6),\n",
       " ('2012-10-26', '20', '0.00', 2, 1.6),\n",
       " ('2012-10-26', '21', '0.00', 2, 1.6),\n",
       " ('2012-10-26', '22', '0.00', 1, 1.6),\n",
       " ('2012-10-26', '23', '0.00', 3, 1.6),\n",
       " ('2012-10-27', '00', '0.00', 1, 6.5),\n",
       " ('2012-10-27', '01', '0.00', 2, 6.5),\n",
       " ('2012-10-27', '02', '0.00', 1, 6.5),\n",
       " ('2012-10-27', '03', '0.00', 5, 6.5),\n",
       " ('2012-10-27', '04', '0.00', 1, 6.5),\n",
       " ('2012-10-27', '05', '0.00', 1, 6.5),\n",
       " ('2012-10-27', '06', '0.00', None, 6.5),\n",
       " ('2012-10-27', '07', '0.00', None, 6.5),\n",
       " ('2012-10-27', '08', '0.00', None, 6.5),\n",
       " ('2012-10-27', '09', '0.00', 3, 6.5),\n",
       " ('2012-10-27', '10', '0.00', 2, 6.5),\n",
       " ('2012-10-27', '11', '0.00', 2, 6.5),\n",
       " ('2012-10-27', '12', '0.00', 3, 6.5),\n",
       " ('2012-10-27', '13', '0.00', 1, 6.5),\n",
       " ('2012-10-27', '14', '0.00', 1, 6.5),\n",
       " ('2012-10-27', '15', '0.00', 1, 6.5),\n",
       " ('2012-10-27', '16', '0.00', 2, 6.5),\n",
       " ('2012-10-27', '17', '0.00', None, 6.5),\n",
       " ('2012-10-27', '18', '0.00', 2, 6.5),\n",
       " ('2012-10-27', '19', '0.00', 5, 6.5),\n",
       " ('2012-10-27', '20', '0.00', 4, 6.5),\n",
       " ('2012-10-27', '21', '0.00', 5, 6.5),\n",
       " ('2012-10-27', '22', '0.00', 1, 6.5),\n",
       " ('2012-10-27', '23', '0.00', 4, 6.5),\n",
       " ('2012-10-28', '00', '0.00', 2, 11.7),\n",
       " ('2012-10-28', '01', '0.00', 1, 11.7),\n",
       " ('2012-10-28', '02', '0.00', 2, 11.7),\n",
       " ('2012-10-28', '03', '0.00', 3, 11.7),\n",
       " ('2012-10-28', '04', '0.00', 1, 11.7),\n",
       " ('2012-10-28', '05', '0.00', None, 11.7),\n",
       " ('2012-10-28', '06', '0.00', None, 11.7),\n",
       " ('2012-10-28', '07', '0.00', None, 11.7),\n",
       " ('2012-10-28', '08', '0.00', None, 11.7),\n",
       " ('2012-10-28', '09', '0.00', 3, 11.7),\n",
       " ('2012-10-28', '10', '0.00', 2, 11.7),\n",
       " ('2012-10-28', '11', '0.00', None, 11.7),\n",
       " ('2012-10-28', '12', '0.00', 2, 11.7),\n",
       " ('2012-10-28', '13', '0.00', 2, 11.7),\n",
       " ('2012-10-28', '14', '0.00', 2, 11.7),\n",
       " ('2012-10-28', '15', '0.00', 1, 11.7),\n",
       " ('2012-10-28', '16', '0.00', None, 11.7),\n",
       " ('2012-10-28', '17', '0.00', None, 11.7),\n",
       " ('2012-10-28', '18', '0.00', 1, 11.7),\n",
       " ('2012-10-28', '19', '0.00', None, 11.7),\n",
       " ('2012-10-28', '20', '0.00', 1, 11.7),\n",
       " ('2012-10-28', '21', '0.00', None, 11.7),\n",
       " ('2012-10-28', '22', '0.00', 1, 11.7),\n",
       " ('2012-10-28', '23', '0.00', 1, 11.7),\n",
       " ('2012-10-29', '00', '0.00', 1, 18.8),\n",
       " ('2012-10-29', '01', '0.00', None, 18.8),\n",
       " ('2012-10-29', '02', '0.00', None, 18.8),\n",
       " ('2012-10-29', '03', '0.00', None, 18.8),\n",
       " ('2012-10-29', '04', '0.00', None, 18.8),\n",
       " ('2012-10-29', '05', '0.00', 1, 18.8),\n",
       " ('2012-10-29', '06', '0.02', None, 18.8),\n",
       " ('2012-10-29', '07', '0.02', 1, 18.8),\n",
       " ('2012-10-29', '08', 'T', 1, 18.8),\n",
       " ('2012-10-29', '09', '0.00', None, 18.8),\n",
       " ('2012-10-29', '10', '0.02', None, 18.8),\n",
       " ('2012-10-29', '11', '0.05', None, 18.8),\n",
       " ('2012-10-29', '12', '0.06', 2, 18.8),\n",
       " ('2012-10-29', '13', '0.04', 1, 18.8),\n",
       " ('2012-10-29', '14', '0.05', None, 18.8),\n",
       " ('2012-10-29', '15', '0.11', None, 18.8),\n",
       " ('2012-10-29', '16', '0.09', None, 18.8),\n",
       " ('2012-10-29', '17', '0.07', None, 18.8),\n",
       " ('2012-10-29', '18', '0.02', None, 18.8),\n",
       " ('2012-10-29', '19', '0.01', 1, 18.8),\n",
       " ('2012-10-29', '20', 'T', None, 18.8),\n",
       " ('2012-10-29', '21', '0.00', None, 18.8),\n",
       " ('2012-10-29', '22', '0.02', None, 18.8),\n",
       " ('2012-10-29', '23', '0.09', None, 18.8),\n",
       " ('2012-10-30', '00', '0.02', None, 7.7),\n",
       " ('2012-10-30', '01', 'T', None, 7.7),\n",
       " ('2012-10-30', '02', '0.03', None, 7.7),\n",
       " ('2012-10-30', '03', '0.04', None, 7.7),\n",
       " ('2012-10-30', '04', 'T', None, 7.7),\n",
       " ('2012-10-30', '05', '0.01', None, 7.7),\n",
       " ('2012-10-30', '06', '0.01', None, 7.7),\n",
       " ('2012-10-30', '07', 'T', None, 7.7),\n",
       " ('2012-10-30', '08', '0.05', 1, 7.7),\n",
       " ('2012-10-30', '09', '0.09', None, 7.7),\n",
       " ('2012-10-30', '10', '0.01', None, 7.7),\n",
       " ('2012-10-30', '11', '0.00', None, 7.7),\n",
       " ('2012-10-30', '12', '0.00', 1, 7.7),\n",
       " ('2012-10-30', '13', '0.00', None, 7.7),\n",
       " ('2012-10-30', '14', 'T', None, 7.7),\n",
       " ('2012-10-30', '15', 'T', 1, 7.7),\n",
       " ('2012-10-30', '16', '0.01', None, 7.7),\n",
       " ('2012-10-30', '17', '0.00', 1, 7.7),\n",
       " ('2012-10-30', '18', '0.00', 2, 7.7),\n",
       " ('2012-10-30', '19', '0.00', 1, 7.7),\n",
       " ('2012-10-30', '20', '0.00', 1, 7.7),\n",
       " ('2012-10-30', '21', '0.00', 2, 7.7),\n",
       " ('2012-10-30', '22', '0.00', 2, 7.7),\n",
       " ('2012-10-30', '23', '0.00', None, 7.7),\n",
       " ('2012-10-31', '00', 'T', None, 5.1),\n",
       " ('2012-10-31', '01', '0.01', 2, 5.1),\n",
       " ('2012-10-31', '02', 'T', None, 5.1),\n",
       " ('2012-10-31', '03', '0.00', None, 5.1),\n",
       " ('2012-10-31', '04', '0.00', 1, 5.1),\n",
       " ('2012-10-31', '05', '0.00', None, 5.1),\n",
       " ('2012-10-31', '06', '0.00', 2, 5.1),\n",
       " ('2012-10-31', '07', '0.00', 2, 5.1),\n",
       " ('2012-10-31', '08', '0.00', 1, 5.1),\n",
       " ('2012-10-31', '09', '0.00', 1, 5.1),\n",
       " ('2012-10-31', '10', '0.00', None, 5.1),\n",
       " ('2012-10-31', '11', '0.00', 1, 5.1),\n",
       " ('2012-10-31', '12', '0.00', 2, 5.1),\n",
       " ('2012-10-31', '13', '0.00', 2, 5.1),\n",
       " ('2012-10-31', '14', '0.00', 3, 5.1),\n",
       " ('2012-10-31', '15', '0.00', 2, 5.1),\n",
       " ('2012-10-31', '16', '0.00', None, 5.1),\n",
       " ('2012-10-31', '17', '0.00', None, 5.1),\n",
       " ('2012-10-31', '18', '0.00', None, 5.1),\n",
       " ('2012-10-31', '19', '0.00', 2, 5.1),\n",
       " ('2012-10-31', '20', '0.00', 2, 5.1),\n",
       " ('2012-10-31', '21', '0.00', 2, 5.1),\n",
       " ('2012-10-31', '22', '0.00', 1, 5.1),\n",
       " ('2012-10-31', '23', '0.00', 2, 5.1),\n",
       " ('2012-11-01', '00', '0.00', 2, 5.9),\n",
       " ('2012-11-01', '01', '0.00', 1, 5.9),\n",
       " ('2012-11-01', '02', '0.00', None, 5.9),\n",
       " ('2012-11-01', '03', '0.00', None, 5.9),\n",
       " ('2012-11-01', '04', '0.00', None, 5.9),\n",
       " ('2012-11-01', '05', '0.00', None, 5.9),\n",
       " ('2012-11-01', '06', '0.00', None, 5.9),\n",
       " ('2012-11-01', '07', '0.00', 4, 5.9),\n",
       " ('2012-11-01', '08', '0.00', 1, 5.9),\n",
       " ('2012-11-01', '09', '0.00', None, 5.9),\n",
       " ('2012-11-01', '10', '0.00', 2, 5.9),\n",
       " ('2012-11-01', '11', '0.00', 2, 5.9),\n",
       " ('2012-11-01', '12', '0.00', 2, 5.9),\n",
       " ('2012-11-01', '13', '0.00', 2, 5.9),\n",
       " ('2012-11-01', '14', '0.00', 3, 5.9),\n",
       " ('2012-11-01', '15', '0.00', None, 5.9),\n",
       " ('2012-11-01', '16', '0.00', 1, 5.9),\n",
       " ('2012-11-01', '17', '0.00', 1, 5.9),\n",
       " ('2012-11-01', '18', '0.00', 5, 5.9),\n",
       " ('2012-11-01', '19', '0.00', 1, 5.9),\n",
       " ('2012-11-01', '20', '0.00', 1, 5.9),\n",
       " ('2012-11-01', '21', '0.00', 2, 5.9),\n",
       " ('2012-11-01', '22', '0.00', 1, 5.9),\n",
       " ('2012-11-01', '23', '0.00', 4, 5.9),\n",
       " ('2012-11-02', '00', '0.00', None, 6.6),\n",
       " ('2012-11-02', '01', '0.00', None, 6.6),\n",
       " ('2012-11-02', '02', '0.00', None, 6.6),\n",
       " ('2012-11-02', '03', '0.00', None, 6.6),\n",
       " ('2012-11-02', '04', '0.00', None, 6.6),\n",
       " ('2012-11-02', '05', '0.00', None, 6.6),\n",
       " ('2012-11-02', '06', '0.00', None, 6.6),\n",
       " ('2012-11-02', '07', '0.00', 1, 6.6),\n",
       " ('2012-11-02', '08', '0.00', 2, 6.6),\n",
       " ('2012-11-02', '09', '0.00', None, 6.6),\n",
       " ('2012-11-02', '10', '0.00', 2, 6.6),\n",
       " ('2012-11-02', '11', '0.00', None, 6.6),\n",
       " ('2012-11-02', '12', '0.00', None, 6.6),\n",
       " ('2012-11-02', '13', '0.00', 2, 6.6),\n",
       " ('2012-11-02', '14', '0.00', 1, 6.6),\n",
       " ('2012-11-02', '15', '0.00', 1, 6.6),\n",
       " ('2012-11-02', '16', '0.00', 4, 6.6),\n",
       " ('2012-11-02', '17', '0.00', None, 6.6),\n",
       " ('2012-11-02', '18', '0.00', None, 6.6),\n",
       " ('2012-11-02', '19', '0.00', 1, 6.6),\n",
       " ('2012-11-02', '20', '0.00', 3, 6.6),\n",
       " ('2012-11-02', '21', '0.00', 1, 6.6),\n",
       " ('2012-11-02', '22', '0.00', 3, 6.6),\n",
       " ('2012-11-02', '23', '0.00', 4, 6.6),\n",
       " ('2012-11-03', '00', '0.00', 1, 8.4),\n",
       " ('2012-11-03', '01', '0.00', 1, 8.4),\n",
       " ('2012-11-03', '02', '0.00', None, 8.4),\n",
       " ('2012-11-03', '03', '0.00', None, 8.4),\n",
       " ('2012-11-03', '04', '0.00', None, 8.4),\n",
       " ('2012-11-03', '05', '0.00', None, 8.4),\n",
       " ('2012-11-03', '06', '0.00', None, 8.4),\n",
       " ('2012-11-03', '07', '0.00', 1, 8.4),\n",
       " ('2012-11-03', '08', '0.00', 1, 8.4),\n",
       " ('2012-11-03', '09', '0.00', 3, 8.4),\n",
       " ('2012-11-03', '10', '0.00', None, 8.4),\n",
       " ('2012-11-03', '11', '0.00', 1, 8.4),\n",
       " ('2012-11-03', '12', '0.00', None, 8.4),\n",
       " ('2012-11-03', '13', '0.00', 1, 8.4),\n",
       " ('2012-11-03', '14', '0.00', 3, 8.4),\n",
       " ('2012-11-03', '15', '0.00', 1, 8.4),\n",
       " ('2012-11-03', '16', '0.00', 1, 8.4),\n",
       " ('2012-11-03', '17', '0.00', 2, 8.4),\n",
       " ('2012-11-03', '18', '0.00', 1, 8.4),\n",
       " ('2012-11-03', '19', '0.00', 2, 8.4),\n",
       " ('2012-11-03', '20', '0.00', 4, 8.4),\n",
       " ('2012-11-03', '21', '0.00', 4, 8.4),\n",
       " ('2012-11-03', '22', '0.00', 2, 8.4),\n",
       " ('2012-11-03', '23', '0.00', 4, 8.4),\n",
       " ('2012-11-04', '00', '0.00', 1, 6.6),\n",
       " ('2012-11-04', '01', '0.00', 4, 6.6),\n",
       " ('2012-11-04', '02', '0.00', None, 6.6),\n",
       " ('2012-11-04', '03', '0.00', None, 6.6),\n",
       " ('2012-11-04', '04', '0.00', None, 6.6),\n",
       " ('2012-11-04', '05', '0.00', 1, 6.6),\n",
       " ('2012-11-04', '06', '0.00', None, 6.6),\n",
       " ('2012-11-04', '07', '0.00', 3, 6.6),\n",
       " ('2012-11-04', '08', '0.00', None, 6.6),\n",
       " ('2012-11-04', '09', '0.00', 1, 6.6),\n",
       " ('2012-11-04', '10', '0.00', 3, 6.6),\n",
       " ('2012-11-04', '11', '0.00', 3, 6.6),\n",
       " ('2012-11-04', '12', '0.00', 2, 6.6),\n",
       " ('2012-11-04', '13', '0.00', 2, 6.6),\n",
       " ('2012-11-04', '14', '0.00', 1, 6.6),\n",
       " ('2012-11-04', '15', '0.00', 1, 6.6),\n",
       " ('2012-11-04', '16', '0.00', 2, 6.6),\n",
       " ('2012-11-04', '17', '0.00', 1, 6.6),\n",
       " ('2012-11-04', '18', '0.00', 2, 6.6),\n",
       " ('2012-11-04', '19', '0.00', 1, 6.6),\n",
       " ('2012-11-04', '20', '0.00', 3, 6.6),\n",
       " ('2012-11-04', '21', '0.00', 1, 6.6),\n",
       " ('2012-11-04', '22', '0.00', 1, 6.6),\n",
       " ('2012-11-04', '23', '0.00', None, 6.6),\n",
       " ('2012-11-05', '00', '0.00', None, 4.8),\n",
       " ('2012-11-05', '01', '0.00', 2, 4.8),\n",
       " ('2012-11-05', '02', '0.00', None, 4.8),\n",
       " ('2012-11-05', '03', '0.00', None, 4.8),\n",
       " ('2012-11-05', '04', '0.00', None, 4.8),\n",
       " ('2012-11-05', '05', '0.00', None, 4.8),\n",
       " ('2012-11-05', '06', '0.00', None, 4.8),\n",
       " ('2012-11-05', '07', '0.00', 3, 4.8),\n",
       " ('2012-11-05', '08', '0.00', None, 4.8),\n",
       " ('2012-11-05', '09', '0.00', 2, 4.8),\n",
       " ('2012-11-05', '10', '0.00', 2, 4.8),\n",
       " ('2012-11-05', '11', '0.00', 1, 4.8),\n",
       " ('2012-11-05', '12', '0.00', 3, 4.8),\n",
       " ('2012-11-05', '13', '0.00', None, 4.8),\n",
       " ('2012-11-05', '14', '0.00', 2, 4.8),\n",
       " ('2012-11-05', '15', '0.00', None, 4.8),\n",
       " ('2012-11-05', '16', '0.00', 4, 4.8),\n",
       " ('2012-11-05', '17', '0.00', 5, 4.8),\n",
       " ('2012-11-05', '18', '0.00', 2, 4.8),\n",
       " ('2012-11-05', '19', '0.00', 2, 4.8),\n",
       " ('2012-11-05', '20', '0.00', 2, 4.8),\n",
       " ('2012-11-05', '21', '0.00', 2, 4.8),\n",
       " ('2012-11-05', '22', '0.00', 2, 4.8),\n",
       " ('2012-11-05', '23', '0.00', 1, 4.8),\n",
       " ('2012-11-06', '00', '0.00', 2, 5.6),\n",
       " ('2012-11-06', '01', '0.00', 1, 5.6),\n",
       " ('2012-11-06', '02', '0.00', 1, 5.6),\n",
       " ('2012-11-06', '03', '0.00', 1, 5.6),\n",
       " ('2012-11-06', '04', '0.00', None, 5.6),\n",
       " ('2012-11-06', '05', '0.00', None, 5.6),\n",
       " ('2012-11-06', '06', '0.00', 2, 5.6),\n",
       " ('2012-11-06', '07', '0.00', 2, 5.6),\n",
       " ('2012-11-06', '08', '0.00', 2, 5.6),\n",
       " ('2012-11-06', '09', '0.00', 1, 5.6),\n",
       " ('2012-11-06', '10', '0.00', 1, 5.6),\n",
       " ('2012-11-06', '11', '0.00', 2, 5.6),\n",
       " ('2012-11-06', '12', '0.00', 1, 5.6),\n",
       " ('2012-11-06', '13', '0.00', 2, 5.6),\n",
       " ('2012-11-06', '14', '0.00', 1, 5.6),\n",
       " ('2012-11-06', '15', '0.00', None, 5.6),\n",
       " ('2012-11-06', '16', '0.00', 2, 5.6),\n",
       " ('2012-11-06', '17', '0.00', None, 5.6),\n",
       " ('2012-11-06', '18', '0.00', None, 5.6),\n",
       " ('2012-11-06', '19', '0.00', 2, 5.6),\n",
       " ('2012-11-06', '20', '0.00', 2, 5.6),\n",
       " ('2012-11-06', '21', '0.00', 1, 5.6),\n",
       " ('2012-11-06', '22', '0.00', 3, 5.6),\n",
       " ('2012-11-06', '23', '0.00', 3, 5.6)]"
      ]
     },
     "execution_count": 278,
     "metadata": {},
     "output_type": "execute_result"
    }
   ],
   "source": [
    "# oct 22 -- nov 6\n",
    "QUERY_6 = \"\"\"\n",
    "WITH \"precip\" AS (\n",
    "    SELECT DATE(\"DATE\") AS \"new_date\", strftime(\"%H\", \"DATE\") AS \"hr\", \"precipitation\" FROM \"hourly_weather\" WHERE DATE(\"DATE\") < \"2012-11-07\" AND DATE(\"DATE\") > \"2012-10-21\"\n",
    "),\n",
    "\"rides\" AS (\n",
    "    SELECT DATE(\"pickup_datetime\") AS \"dt\", strftime(\"%H\", \"pickup_datetime\") AS \"hr\" FROM \"yellow_taxi\" WHERE DATE(\"pickup_datetime\") < \"2012-11-07\" AND DATE(\"pickup_datetime\") > \"2012-10-21\"\n",
    "    UNION ALL\n",
    "    SELECT DATE(\"pickup_datetime\") AS \"dt\", strftime(\"%H\", \"pickup_datetime\") AS \"hr\" FROM \"uber\" WHERE DATE(\"pickup_datetime\") < \"2012-11-07\" AND DATE(\"pickup_datetime\") > \"2012-10-21\"\n",
    "),\n",
    "\"counted_rides\" AS (\n",
    "    SELECT \"dt\" AS \"dt\", \"hr\" AS \"hr\", COUNT(*) AS \"ct\" FROM \"rides\"\n",
    "    GROUP BY \"dt\", \"hr\"\n",
    "),\n",
    "\"rain_and_rides\" AS (\n",
    "    SELECT precip.new_date AS \"dt\", precip.hr AS \"hr\", precip.precipitation AS \"rain\", counted_rides.ct AS \"rides\" FROM \"precip\"\n",
    "    LEFT JOIN \"counted_rides\" ON precip.new_date = counted_rides.dt AND precip.hr = counted_rides.hr\n",
    "),\n",
    "\"wind\" AS (\n",
    "    SELECT DATE(\"date\") AS \"dt\", \"windspeed\" FROM \"daily_weather\" WHERE DATE(\"date\") < \"2012-11-07\" AND DATE(\"date\") > \"2012-10-21\"\n",
    ")\n",
    "\n",
    "SELECT rain_and_rides.dt, rain_and_rides.hr, rain_and_rides.rain, rain_and_rides.rides, wind.windspeed FROM \"rain_and_rides\"\n",
    "LEFT JOIN \"wind\" ON wind.dt = rain_and_rides.dt\n",
    "\"\"\"\n",
    "engine.execute(QUERY_6).fetchall()"
   ]
  },
  {
   "cell_type": "markdown",
   "id": "ebcbbc74",
   "metadata": {},
   "source": [
    "## A6) See output above"
   ]
  },
  {
   "cell_type": "code",
   "execution_count": 286,
   "id": "211ac6e9",
   "metadata": {},
   "outputs": [],
   "source": [
    "# Query Files\n",
    "write_query_to_file(QUERY_1, \"most_popular_hour_for_taxi.sql\")\n",
    "write_query_to_file(QUERY_2, \"most_popular_day_for_uber.sql\")\n",
    "write_query_to_file(QUERY_3, \"95_percentile_all_trips.sql\")\n",
    "write_query_to_file(QUERY_4, \"top_10_days_rides_and_distance.sql\")\n",
    "write_query_to_file(QUERY_5, \"10_windiest_days_and_trips.sql\")\n",
    "write_query_to_file(QUERY_5, \"sandy_hours_rain_windspeed_trips.sql\")"
   ]
  },
  {
   "cell_type": "code",
   "execution_count": null,
   "id": "7ff45091",
   "metadata": {},
   "outputs": [],
   "source": []
  },
  {
   "cell_type": "markdown",
   "id": "1d757193",
   "metadata": {},
   "source": [
    "# Part 4: Visualizing Data"
   ]
  },
  {
   "cell_type": "code",
   "execution_count": 199,
   "id": "89974ec1",
   "metadata": {},
   "outputs": [
    {
     "data": {
      "image/png": "[encoded data removed]",
      "text/plain": [
       "<Figure size 432x288 with 1 Axes>"
      ]
     },
     "metadata": {
      "needs_background": "light"
     },
     "output_type": "display_data"
    }
   ],
   "source": [
    "def most_popular_hour():\n",
    "    temp = yellow_taxi.groupby('hour').count()\n",
    "    fig = plt.figure()\n",
    "    ax = fig.add_axes([0,0,1,1])\n",
    "    hour = range(24)\n",
    "    rides = temp['distance']\n",
    "    ax.bar(hour,rides)\n",
    "    plt.show()\n",
    "most_popular_hour()"
   ]
  },
  {
   "cell_type": "code",
   "execution_count": 230,
   "id": "bd715dec",
   "metadata": {},
   "outputs": [
    {
     "data": {
      "image/png": "[encoded data removed]",
      "text/plain": [
       "<Figure size 432x288 with 1 Axes>"
      ]
     },
     "metadata": {
      "needs_background": "light"
     },
     "output_type": "display_data"
    }
   ],
   "source": [
    "def average_dist_per_month():\n",
    "    def month_extract(x):\n",
    "        return x[5:7]\n",
    "    temp1 = yellow_taxi\n",
    "    temp2 = uber\n",
    "    temp3 = pd.DataFrame()\n",
    "    temp1['month'] = temp1[['pickup_datetime']].apply(lambda x: int(month_extract(*x)), axis=1)\n",
    "    temp2['month'] = temp2[['pickup_datetime']].apply(lambda x: int(month_extract(*x)), axis=1)\n",
    "    d1 = temp1.groupby('month').mean().distance\n",
    "    d2 = temp2.groupby('month').mean().distance\n",
    "    avg = [(x + y)/2 for x, y in zip(d1, d2)]\n",
    "    fig = plt.figure()\n",
    "    ax = fig.add_axes([0,0,1,1])\n",
    "    month = range(1,13)\n",
    "    ax.bar(month,avg)\n",
    "    plt.show()\n",
    "average_dist_per_month()"
   ]
  },
  {
   "cell_type": "code",
   "execution_count": 39,
   "id": "44e0b5a6",
   "metadata": {},
   "outputs": [
    {
     "data": {
      "image/png": "[encoded data removed]",
      "text/plain": [
       "<Figure size 432x288 with 1 Axes>"
      ]
     },
     "metadata": {
      "needs_background": "light"
     },
     "output_type": "display_data"
    }
   ],
   "source": [
    "def tri_airport():\n",
    "    # add date\n",
    "    update = yellow_taxi\n",
    "    update['day'] = yellow_taxi[['pickup_datetime']].apply(lambda x: day_conv(*x), axis = 1)\n",
    "    # seperate data by different airport\n",
    "    lga = update\n",
    "    lga = lga.loc[(lga['dropoff_longitude'] > -73.8916) & (lga['dropoff_longitude'] < -73.8566)]\n",
    "    lga = lga.loc[(lga['dropoff_latitude'] > 40.7618) & (lga['dropoff_latitude'] < 40.7745)]\n",
    "\n",
    "    jfk = update\n",
    "    jfk = jfk.loc[(jfk['dropoff_longitude'] > -73.8209) & (jfk['dropoff_longitude'] < -73.7272)]\n",
    "    jfk = jfk.loc[(jfk['dropoff_latitude'] > 40.6499) & (jfk['dropoff_latitude'] < 40.6649)]\n",
    "\n",
    "    ewr = update\n",
    "    ewr = ewr.loc[(ewr['dropoff_longitude'] > -74.2040) & (ewr['dropoff_longitude'] < -74.1525)]\n",
    "    ewr = ewr.loc[(ewr['dropoff_latitude'] > 40.6676) & (ewr['dropoff_latitude'] < 40.7255)]\n",
    "\n",
    "    def regroup(x):\n",
    "        temp = []\n",
    "        temp.append(x[1])\n",
    "        temp.append(x[5])\n",
    "        temp.append(x[6])\n",
    "        temp.append(x[4])\n",
    "        temp.append(x[0])\n",
    "        temp.append(x[2])\n",
    "        temp.append(x[3])\n",
    "        return temp\n",
    "\n",
    "    X = ['Mon', 'Tue', 'Wed', 'Thus', 'Fri', 'Sat', 'Sun']\n",
    "\n",
    "    y = regroup(lga.groupby('day').count()['hour'])\n",
    "    z = regroup(jfk.groupby('day').count()['hour'])\n",
    "    w = regroup(ewr.groupby('day').count()['hour'])\n",
    "\n",
    "    plt.bar(X, y, color='r', label='lga')\n",
    "    plt.bar(X, w, color='g', label='jfk')\n",
    "    plt.bar(X, z, color='b', label='ewr')\n",
    "\n",
    "    plt.xlabel(\"Day\")\n",
    "    plt.ylabel(\"Frequency\")\n",
    "    plt.title(\"Tri Airport Trips Comparison\")\n",
    "\n",
    "    plt.legend()\n",
    "\n",
    "    plt.show()\n",
    "tri_airport()"
   ]
  },
  {
   "cell_type": "code",
   "execution_count": 217,
   "id": "e15955a2",
   "metadata": {},
   "outputs": [],
   "source": []
  },
  {
   "cell_type": "code",
   "execution_count": 226,
   "id": "cd60a560",
   "metadata": {},
   "outputs": [],
   "source": []
  },
  {
   "cell_type": "code",
   "execution_count": 225,
   "id": "0e3a6f36",
   "metadata": {},
   "outputs": [],
   "source": []
  },
  {
   "cell_type": "code",
   "execution_count": 228,
   "id": "479fc285",
   "metadata": {},
   "outputs": [
    {
     "data": {
      "text/plain": [
       "[3.116428420511755,\n",
       " 3.162003166482049,\n",
       " 3.2382280413282807,\n",
       " 3.3061016409371904,\n",
       " 3.3821978788316915,\n",
       " 3.371534525437764,\n",
       " 3.30708168773769,\n",
       " 3.374339179172546,\n",
       " 3.339278716060541,\n",
       " 3.3639069362637786,\n",
       " 3.325714303358837,\n",
       " 3.2818785744998973]"
      ]
     },
     "execution_count": 228,
     "metadata": {},
     "output_type": "execute_result"
    }
   ],
   "source": []
  },
  {
   "cell_type": "code",
   "execution_count": null,
   "id": "96180f41",
   "metadata": {},
   "outputs": [],
   "source": []
  }
 ],
 "metadata": {
  "kernelspec": {
   "display_name": "Python 3 (ipykernel)",
   "language": "python",
   "name": "python3"
  },
  "language_info": {
   "codemirror_mode": {
    "name": "ipython",
    "version": 3
   },
   "file_extension": ".py",
   "mimetype": "text/x-python",
   "name": "python",
   "nbconvert_exporter": "python",
   "pygments_lexer": "ipython3",
   "version": "3.9.7"
  }
 },
 "nbformat": 4,
 "nbformat_minor": 5
}
