{
 "cells": [
  {
   "cell_type": "code",
   "execution_count": 104,
   "id": "793b5dfa",
   "metadata": {},
   "outputs": [],
   "source": [
    "import pandas as pd\n",
    "import os\n",
    "from math import cos, asin, sqrt, pi"
   ]
  },
  {
   "cell_type": "markdown",
   "id": "e98384f0",
   "metadata": {},
   "source": [
    "# Part 1: Data Processing"
   ]
  },
  {
   "cell_type": "code",
   "execution_count": 15,
   "id": "babee4f4",
   "metadata": {},
   "outputs": [
    {
     "name": "stderr",
     "output_type": "stream",
     "text": [
      "/Users/scottqin/opt/anaconda3/lib/python3.9/site-packages/IPython/core/interactiveshell.py:3444: DtypeWarning: Columns (1,2,3,12,20,21,27,30,35,36,42,45,53,54) have mixed types.Specify dtype option on import or set low_memory=False.\n",
      "  exec(code_obj, self.user_global_ns, self.user_ns)\n"
     ]
    }
   ],
   "source": [
    "# Load the sampled data\n",
    "df = pd.read_csv('sampled.csv')"
   ]
  },
  {
   "cell_type": "code",
   "execution_count": 16,
   "id": "e6ee39d7",
   "metadata": {},
   "outputs": [],
   "source": [
    "# We will clean the sampled data year by year. There are columns with different names showing the same types of data.\n",
    "# We need to merge these columns together and delete the irrelevant columns\n",
    "# From the given sample table we know there are 8 useful columns."
   ]
  },
  {
   "cell_type": "code",
   "execution_count": 73,
   "id": "6c812145",
   "metadata": {},
   "outputs": [],
   "source": [
    "pd.set_option('display.max_columns', None)"
   ]
  },
  {
   "cell_type": "code",
   "execution_count": 81,
   "id": "8db49538",
   "metadata": {},
   "outputs": [],
   "source": [
    "# create a new datafram called cleaned\n",
    "cleaned = pd.DataFrame()\n",
    "# create new columns\n",
    "pickup_datetime = []\n",
    "fare_amount = []\n",
    "pickup_longitude = []\n",
    "pickup_latitude = []\n",
    "dropoff_longitude = []\n",
    "dropoff_latitude = []\n",
    "passenger_count = []"
   ]
  },
  {
   "cell_type": "code",
   "execution_count": 82,
   "id": "29df81dd",
   "metadata": {},
   "outputs": [],
   "source": [
    "# clean the data from 2009\n",
    "temp = df.iloc[0:14400]\n",
    "pickup_datetime += list(temp['Trip_Pickup_DateTime'])\n",
    "fare_amount += list(temp['Fare_Amt'])\n",
    "pickup_longitude += list(temp['Start_Lon'])\n",
    "pickup_latitude += list(temp['Start_Lat'])\n",
    "dropoff_longitude += list(temp['End_Lon'])\n",
    "dropoff_latitude += list(temp['End_Lat'])\n",
    "passenger_count += list(temp['Passenger_Count'])"
   ]
  },
  {
   "cell_type": "code",
   "execution_count": 83,
   "id": "5c5a37be",
   "metadata": {},
   "outputs": [],
   "source": [
    "# clean the data from 2010\n",
    "temp = df.iloc[14400:28800]\n",
    "pickup_datetime += list(temp['pickup_datetime'])\n",
    "fare_amount += list(temp['fare_amount'])\n",
    "pickup_longitude += list(temp['pickup_longitude'])\n",
    "pickup_latitude += list(temp['pickup_latitude'])\n",
    "dropoff_longitude += list(temp['dropoff_longitude'])\n",
    "dropoff_latitude += list(temp['dropoff_latitude'])\n",
    "passenger_count += list(temp['passenger_count'])"
   ]
  },
  {
   "cell_type": "code",
   "execution_count": 84,
   "id": "3b2c6000",
   "metadata": {},
   "outputs": [],
   "source": [
    "# clean the data from 2011\n",
    "temp = df.iloc[28800:43200]\n",
    "pickup_datetime += list(temp['pickup_datetime'])\n",
    "fare_amount += list(temp['fare_amount'])\n",
    "pickup_longitude += list(temp['pickup_longitude'])\n",
    "pickup_latitude += list(temp['pickup_latitude'])\n",
    "dropoff_longitude += list(temp['dropoff_longitude'])\n",
    "dropoff_latitude += list(temp['dropoff_latitude'])\n",
    "passenger_count += list(temp['passenger_count'])"
   ]
  },
  {
   "cell_type": "code",
   "execution_count": 85,
   "id": "b9044160",
   "metadata": {},
   "outputs": [],
   "source": [
    "# clean the data from 2012\n",
    "temp = df.iloc[43200:57600]\n",
    "pickup_datetime += list(temp['pickup_datetime'])\n",
    "fare_amount += list(temp['fare_amount'])\n",
    "pickup_longitude += list(temp['pickup_longitude'])\n",
    "pickup_latitude += list(temp['pickup_latitude'])\n",
    "dropoff_longitude += list(temp['dropoff_longitude'])\n",
    "dropoff_latitude += list(temp['dropoff_latitude'])\n",
    "passenger_count += list(temp['passenger_count'])"
   ]
  },
  {
   "cell_type": "code",
   "execution_count": 86,
   "id": "12e6ba36",
   "metadata": {},
   "outputs": [],
   "source": [
    "# clean the data from 2013\n",
    "temp = df.iloc[57600:72000]\n",
    "pickup_datetime += list(temp['pickup_datetime'])\n",
    "fare_amount += list(temp['fare_amount'])\n",
    "pickup_longitude += list(temp['pickup_longitude'])\n",
    "pickup_latitude += list(temp['pickup_latitude'])\n",
    "dropoff_longitude += list(temp['dropoff_longitude'])\n",
    "dropoff_latitude += list(temp['dropoff_latitude'])\n",
    "passenger_count += list(temp['passenger_count'])"
   ]
  },
  {
   "cell_type": "code",
   "execution_count": 87,
   "id": "456f03f2",
   "metadata": {},
   "outputs": [],
   "source": [
    "# clean the data from 2014\n",
    "temp = df.iloc[72000:86400]\n",
    "pickup_datetime += list(temp['pickup_datetime'])\n",
    "fare_amount += list(temp['fare_amount'])\n",
    "pickup_longitude += list(temp['pickup_longitude'])\n",
    "pickup_latitude += list(temp['pickup_latitude'])\n",
    "dropoff_longitude += list(temp['dropoff_longitude'])\n",
    "dropoff_latitude += list(temp['dropoff_latitude'])\n",
    "passenger_count += list(temp['passenger_count'])"
   ]
  },
  {
   "cell_type": "code",
   "execution_count": 88,
   "id": "2ffb8d62",
   "metadata": {},
   "outputs": [],
   "source": [
    "# clean the data from 2015\n",
    "temp = df.iloc[86400:]\n",
    "pickup_datetime += list(temp['tpep_pickup_datetime'])\n",
    "fare_amount += list(temp['fare_amount'])\n",
    "pickup_longitude += list(temp['pickup_longitude'])\n",
    "pickup_latitude += list(temp['pickup_latitude'])\n",
    "dropoff_longitude += list(temp['dropoff_longitude'])\n",
    "dropoff_latitude += list(temp['dropoff_latitude'])\n",
    "passenger_count += list(temp['passenger_count'])\n"
   ]
  },
  {
   "cell_type": "code",
   "execution_count": 89,
   "id": "06188c80",
   "metadata": {},
   "outputs": [],
   "source": [
    "# add all the clean columns to the clean table\n",
    "cleaned['pickup_datetime'] = pickup_datetime\n",
    "cleaned['fare_amount'] = fare_amount\n",
    "cleaned['pickup_longitude'] = pickup_longitude\n",
    "cleaned['pickup_latitude'] = pickup_latitude\n",
    "cleaned['dropoff_longitude']= dropoff_longitude\n",
    "cleaned['dropoff_latitude'] = dropoff_latitude\n",
    "cleaned['passenger_count'] = passenger_count"
   ]
  },
  {
   "cell_type": "code",
   "execution_count": null,
   "id": "d5178639",
   "metadata": {},
   "outputs": [],
   "source": []
  },
  {
   "cell_type": "code",
   "execution_count": null,
   "id": "3df2a230",
   "metadata": {},
   "outputs": [],
   "source": []
  },
  {
   "cell_type": "code",
   "execution_count": 97,
   "id": "ffba4194",
   "metadata": {},
   "outputs": [],
   "source": [
    "# exclude data outside of nyc\n",
    "cleaned = cleaned.loc[(cleaned['pickup_longitude'] > -74.24233) & (cleaned['pickup_longitude'] < -73.717047)]\n",
    "cleaned = cleaned.loc[(cleaned['dropoff_longitude'] > -74.24233) & (cleaned['dropoff_longitude'] < -73.717047)]\n",
    "cleaned = cleaned.loc[(cleaned['pickup_latitude'] > 40.560445) & (cleaned['pickup_latitude'] < 40.908524)]\n",
    "cleaned = cleaned.loc[(cleaned['dropoff_latitude'] > 40.560445) & (cleaned['dropoff_latitude'] < 40.908524)]"
   ]
  },
  {
   "cell_type": "code",
   "execution_count": 107,
   "id": "6b1db496",
   "metadata": {},
   "outputs": [],
   "source": [
    "# define a function to calculate the distance between coordinates\n",
    "def distance(lat1, lon1, lat2, lon2):\n",
    "    p = pi/180\n",
    "    a = 0.5 - cos((lat2-lat1)*p)/2 + cos(lat1*p) * cos(lat2*p) * (1-cos((lon2-lon1)*p))/2\n",
    "    return 12742 * asin(sqrt(a))"
   ]
  },
  {
   "cell_type": "code",
   "execution_count": 108,
   "id": "efc41e31",
   "metadata": {},
   "outputs": [
    {
     "data": {
      "text/plain": [
       "10.251851855874952"
      ]
     },
     "execution_count": 108,
     "metadata": {},
     "output_type": "execute_result"
    }
   ],
   "source": [
    "# testing the function\n",
    "distance(40.751500, -73.984090, 40.770418, -73.864958)"
   ]
  },
  {
   "cell_type": "code",
   "execution_count": null,
   "id": "6c78f5fd",
   "metadata": {},
   "outputs": [],
   "source": []
  },
  {
   "cell_type": "code",
   "execution_count": 109,
   "id": "169fd0f7",
   "metadata": {},
   "outputs": [],
   "source": [
    "# apply the function to table and add a new distance column\n",
    "cleaned['distance'] = cleaned[['pickup_latitude','pickup_longitude','dropoff_latitude', \n",
    "                              'dropoff_longitude']].apply(lambda x: distance(*x), axis=1)"
   ]
  },
  {
   "cell_type": "code",
   "execution_count": null,
   "id": "7a583990",
   "metadata": {},
   "outputs": [],
   "source": [
    "# define a function to extract the hour number\n",
    "def hour_extract(x):\n",
    "    return x[11:13]"
   ]
  },
  {
   "cell_type": "code",
   "execution_count": 117,
   "id": "508d82f0",
   "metadata": {},
   "outputs": [],
   "source": []
  },
  {
   "cell_type": "code",
   "execution_count": 121,
   "id": "cb0e100d",
   "metadata": {},
   "outputs": [],
   "source": [
    "# apply the function to table and add a new hour column\n",
    "cleaned['hour'] = cleaned[['pickup_datetime']].apply(lambda x: int(hour_extract(*x)), axis=1)"
   ]
  },
  {
   "cell_type": "code",
   "execution_count": 111,
   "id": "0f11392b",
   "metadata": {},
   "outputs": [],
   "source": [
    "os.makedirs('Github/4501-Project', exist_ok=True)  \n",
    "cleaned.to_csv('Github/4501-Project/cleaned.csv') "
   ]
  },
  {
   "cell_type": "markdown",
   "id": "3fe9d597",
   "metadata": {},
   "source": [
    "# Part 2: Storing Data"
   ]
  },
  {
   "cell_type": "code",
   "execution_count": null,
   "id": "30405005",
   "metadata": {},
   "outputs": [],
   "source": []
  },
  {
   "cell_type": "code",
   "execution_count": null,
   "id": "39991a98",
   "metadata": {},
   "outputs": [],
   "source": []
  },
  {
   "cell_type": "code",
   "execution_count": null,
   "id": "f3c36b1b",
   "metadata": {},
   "outputs": [],
   "source": []
  },
  {
   "cell_type": "code",
   "execution_count": null,
   "id": "a3b68870",
   "metadata": {},
   "outputs": [],
   "source": []
  },
  {
   "cell_type": "code",
   "execution_count": null,
   "id": "1dbc696d",
   "metadata": {},
   "outputs": [],
   "source": []
  },
  {
   "cell_type": "code",
   "execution_count": null,
   "id": "52f65c44",
   "metadata": {},
   "outputs": [],
   "source": []
  },
  {
   "cell_type": "markdown",
   "id": "38d40491",
   "metadata": {},
   "source": [
    "# Part 3: Understanding Data"
   ]
  },
  {
   "cell_type": "code",
   "execution_count": null,
   "id": "7bb88a00",
   "metadata": {},
   "outputs": [],
   "source": []
  },
  {
   "cell_type": "code",
   "execution_count": null,
   "id": "d83c5a4e",
   "metadata": {},
   "outputs": [],
   "source": []
  },
  {
   "cell_type": "code",
   "execution_count": null,
   "id": "20791eb6",
   "metadata": {},
   "outputs": [],
   "source": []
  },
  {
   "cell_type": "code",
   "execution_count": null,
   "id": "8e93454b",
   "metadata": {},
   "outputs": [],
   "source": []
  },
  {
   "cell_type": "code",
   "execution_count": null,
   "id": "930e0553",
   "metadata": {},
   "outputs": [],
   "source": []
  },
  {
   "cell_type": "code",
   "execution_count": null,
   "id": "71a5d54d",
   "metadata": {},
   "outputs": [],
   "source": []
  },
  {
   "cell_type": "code",
   "execution_count": null,
   "id": "5460d08f",
   "metadata": {},
   "outputs": [],
   "source": []
  },
  {
   "cell_type": "code",
   "execution_count": null,
   "id": "c72a7694",
   "metadata": {},
   "outputs": [],
   "source": []
  },
  {
   "cell_type": "code",
   "execution_count": null,
   "id": "c8cb0c80",
   "metadata": {},
   "outputs": [],
   "source": []
  },
  {
   "cell_type": "markdown",
   "id": "3eb6c0fe",
   "metadata": {},
   "source": [
    "# Part 4: Visualizing Data"
   ]
  },
  {
   "cell_type": "code",
   "execution_count": null,
   "id": "256c85c3",
   "metadata": {},
   "outputs": [],
   "source": []
  },
  {
   "cell_type": "code",
   "execution_count": null,
   "id": "c5e4d7ba",
   "metadata": {},
   "outputs": [],
   "source": []
  },
  {
   "cell_type": "code",
   "execution_count": null,
   "id": "cb02f244",
   "metadata": {},
   "outputs": [],
   "source": []
  },
  {
   "cell_type": "code",
   "execution_count": null,
   "id": "ebdad851",
   "metadata": {},
   "outputs": [],
   "source": []
  }
 ],
 "metadata": {
  "kernelspec": {
   "display_name": "Python 3 (ipykernel)",
   "language": "python",
   "name": "python3"
  },
  "language_info": {
   "codemirror_mode": {
    "name": "ipython",
    "version": 3
   },
   "file_extension": ".py",
   "mimetype": "text/x-python",
   "name": "python",
   "nbconvert_exporter": "python",
   "pygments_lexer": "ipython3",
   "version": "3.9.7"
  }
 },
 "nbformat": 4,
 "nbformat_minor": 5
}
