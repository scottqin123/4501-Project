{
 "cells": [
  {
   "cell_type": "code",
   "execution_count": 104,
   "id": "8e69d4f1",
   "metadata": {},
   "outputs": [],
   "source": [
    "import pandas as pd\n",
    "import os\n",
    "from math import cos, asin, sqrt, pi"
   ]
  },
  {
   "cell_type": "markdown",
   "id": "8507ae29",
   "metadata": {},
   "source": [
    "# Part 1: Data Processing"
   ]
  },
  {
   "cell_type": "code",
   "execution_count": 15,
   "id": "8b050994",
   "metadata": {},
   "outputs": [
    {
     "name": "stderr",
     "output_type": "stream",
     "text": [
      "/Users/scottqin/opt/anaconda3/lib/python3.9/site-packages/IPython/core/interactiveshell.py:3444: DtypeWarning: Columns (1,2,3,12,20,21,27,30,35,36,42,45,53,54) have mixed types.Specify dtype option on import or set low_memory=False.\n",
      "  exec(code_obj, self.user_global_ns, self.user_ns)\n"
     ]
    }
   ],
   "source": [
    "# Load the sampled data\n",
    "df = pd.read_csv('sampled.csv')"
   ]
  },
  {
   "cell_type": "code",
   "execution_count": 16,
   "id": "0ae0fc35",
   "metadata": {},
   "outputs": [],
   "source": [
    "# We will clean the sampled data year by year. There are columns with different names showing the same types of data.\n",
    "# We need to merge these columns together and delete the irrelevant columns\n",
    "# From the given sample table we know there are 8 useful columns."
   ]
  },
  {
   "cell_type": "code",
   "execution_count": 73,
   "id": "a32f1060",
   "metadata": {},
   "outputs": [],
   "source": [
    "pd.set_option('display.max_columns', None)"
   ]
  },
  {
   "cell_type": "code",
   "execution_count": 81,
   "id": "489dc8e2",
   "metadata": {},
   "outputs": [],
   "source": [
    "# create a new datafram called cleaned\n",
    "cleaned = pd.DataFrame()\n",
    "# create new columns\n",
    "pickup_datetime = []\n",
    "fare_amount = []\n",
    "pickup_longitude = []\n",
    "pickup_latitude = []\n",
    "dropoff_longitude = []\n",
    "dropoff_latitude = []\n",
    "passenger_count = []"
   ]
  },
  {
   "cell_type": "code",
   "execution_count": 82,
   "id": "25013073",
   "metadata": {},
   "outputs": [],
   "source": [
    "# clean the data from 2009\n",
    "temp = df.iloc[0:14400]\n",
    "pickup_datetime += list(temp['Trip_Pickup_DateTime'])\n",
    "fare_amount += list(temp['Fare_Amt'])\n",
    "pickup_longitude += list(temp['Start_Lon'])\n",
    "pickup_latitude += list(temp['Start_Lat'])\n",
    "dropoff_longitude += list(temp['End_Lon'])\n",
    "dropoff_latitude += list(temp['End_Lat'])\n",
    "passenger_count += list(temp['Passenger_Count'])"
   ]
  },
  {
   "cell_type": "code",
   "execution_count": 83,
   "id": "f427d2d1",
   "metadata": {},
   "outputs": [],
   "source": [
    "# clean the data from 2010\n",
    "temp = df.iloc[14400:28800]\n",
    "pickup_datetime += list(temp['pickup_datetime'])\n",
    "fare_amount += list(temp['fare_amount'])\n",
    "pickup_longitude += list(temp['pickup_longitude'])\n",
    "pickup_latitude += list(temp['pickup_latitude'])\n",
    "dropoff_longitude += list(temp['dropoff_longitude'])\n",
    "dropoff_latitude += list(temp['dropoff_latitude'])\n",
    "passenger_count += list(temp['passenger_count'])"
   ]
  },
  {
   "cell_type": "code",
   "execution_count": 84,
   "id": "d8321703",
   "metadata": {},
   "outputs": [],
   "source": [
    "# clean the data from 2011\n",
    "temp = df.iloc[28800:43200]\n",
    "pickup_datetime += list(temp['pickup_datetime'])\n",
    "fare_amount += list(temp['fare_amount'])\n",
    "pickup_longitude += list(temp['pickup_longitude'])\n",
    "pickup_latitude += list(temp['pickup_latitude'])\n",
    "dropoff_longitude += list(temp['dropoff_longitude'])\n",
    "dropoff_latitude += list(temp['dropoff_latitude'])\n",
    "passenger_count += list(temp['passenger_count'])"
   ]
  },
  {
   "cell_type": "code",
   "execution_count": 85,
   "id": "3ed56053",
   "metadata": {},
   "outputs": [],
   "source": [
    "# clean the data from 2012\n",
    "temp = df.iloc[43200:57600]\n",
    "pickup_datetime += list(temp['pickup_datetime'])\n",
    "fare_amount += list(temp['fare_amount'])\n",
    "pickup_longitude += list(temp['pickup_longitude'])\n",
    "pickup_latitude += list(temp['pickup_latitude'])\n",
    "dropoff_longitude += list(temp['dropoff_longitude'])\n",
    "dropoff_latitude += list(temp['dropoff_latitude'])\n",
    "passenger_count += list(temp['passenger_count'])"
   ]
  },
  {
   "cell_type": "code",
   "execution_count": 86,
   "id": "f4297af4",
   "metadata": {},
   "outputs": [],
   "source": [
    "# clean the data from 2013\n",
    "temp = df.iloc[57600:72000]\n",
    "pickup_datetime += list(temp['pickup_datetime'])\n",
    "fare_amount += list(temp['fare_amount'])\n",
    "pickup_longitude += list(temp['pickup_longitude'])\n",
    "pickup_latitude += list(temp['pickup_latitude'])\n",
    "dropoff_longitude += list(temp['dropoff_longitude'])\n",
    "dropoff_latitude += list(temp['dropoff_latitude'])\n",
    "passenger_count += list(temp['passenger_count'])"
   ]
  },
  {
   "cell_type": "code",
   "execution_count": 87,
   "id": "743f8b57",
   "metadata": {},
   "outputs": [],
   "source": [
    "# clean the data from 2014\n",
    "temp = df.iloc[72000:86400]\n",
    "pickup_datetime += list(temp['pickup_datetime'])\n",
    "fare_amount += list(temp['fare_amount'])\n",
    "pickup_longitude += list(temp['pickup_longitude'])\n",
    "pickup_latitude += list(temp['pickup_latitude'])\n",
    "dropoff_longitude += list(temp['dropoff_longitude'])\n",
    "dropoff_latitude += list(temp['dropoff_latitude'])\n",
    "passenger_count += list(temp['passenger_count'])"
   ]
  },
  {
   "cell_type": "code",
   "execution_count": 88,
   "id": "885424c9",
   "metadata": {},
   "outputs": [],
   "source": [
    "# clean the data from 2015\n",
    "temp = df.iloc[86400:]\n",
    "pickup_datetime += list(temp['tpep_pickup_datetime'])\n",
    "fare_amount += list(temp['fare_amount'])\n",
    "pickup_longitude += list(temp['pickup_longitude'])\n",
    "pickup_latitude += list(temp['pickup_latitude'])\n",
    "dropoff_longitude += list(temp['dropoff_longitude'])\n",
    "dropoff_latitude += list(temp['dropoff_latitude'])\n",
    "passenger_count += list(temp['passenger_count'])\n"
   ]
  },
  {
   "cell_type": "code",
   "execution_count": 89,
   "id": "5949fac4",
   "metadata": {},
   "outputs": [],
   "source": [
    "# add all the clean columns to the clean table\n",
    "cleaned['pickup_datetime'] = pickup_datetime\n",
    "cleaned['fare_amount'] = fare_amount\n",
    "cleaned['pickup_longitude'] = pickup_longitude\n",
    "cleaned['pickup_latitude'] = pickup_latitude\n",
    "cleaned['dropoff_longitude']= dropoff_longitude\n",
    "cleaned['dropoff_latitude'] = dropoff_latitude\n",
    "cleaned['passenger_count'] = passenger_count"
   ]
  },
  {
   "cell_type": "code",
   "execution_count": null,
   "id": "4418ae78",
   "metadata": {},
   "outputs": [],
   "source": []
  },
  {
   "cell_type": "code",
   "execution_count": null,
   "id": "df725347",
   "metadata": {},
   "outputs": [],
   "source": []
  },
  {
   "cell_type": "code",
   "execution_count": 97,
   "id": "503e38ce",
   "metadata": {},
   "outputs": [],
   "source": [
    "# exclude data outside of nyc\n",
    "cleaned = cleaned.loc[(cleaned['pickup_longitude'] > -74.24233) & (cleaned['pickup_longitude'] < -73.717047)]\n",
    "cleaned = cleaned.loc[(cleaned['dropoff_longitude'] > -74.24233) & (cleaned['dropoff_longitude'] < -73.717047)]\n",
    "cleaned = cleaned.loc[(cleaned['pickup_latitude'] > 40.560445) & (cleaned['pickup_latitude'] < 40.908524)]\n",
    "cleaned = cleaned.loc[(cleaned['dropoff_latitude'] > 40.560445) & (cleaned['dropoff_latitude'] < 40.908524)]"
   ]
  },
  {
   "cell_type": "code",
   "execution_count": 107,
   "id": "bbb6cae3",
   "metadata": {},
   "outputs": [],
   "source": [
    "# define a function to calculate the distance between coordinates\n",
    "def distance(lat1, lon1, lat2, lon2):\n",
    "    p = pi/180\n",
    "    a = 0.5 - cos((lat2-lat1)*p)/2 + cos(lat1*p) * cos(lat2*p) * (1-cos((lon2-lon1)*p))/2\n",
    "    return 12742 * asin(sqrt(a))"
   ]
  },
  {
   "cell_type": "code",
   "execution_count": 108,
   "id": "f2ed3556",
   "metadata": {},
   "outputs": [
    {
     "data": {
      "text/plain": [
       "10.251851855874952"
      ]
     },
     "execution_count": 108,
     "metadata": {},
     "output_type": "execute_result"
    }
   ],
   "source": [
    "# testing the function\n",
    "distance(40.751500, -73.984090, 40.770418, -73.864958)"
   ]
  },
  {
   "cell_type": "code",
   "execution_count": 109,
   "id": "0d90fe57",
   "metadata": {},
   "outputs": [],
   "source": [
    "# apply the function to table and add a new distance column\n",
    "cleaned['distance'] = cleaned[['pickup_latitude','pickup_longitude','dropoff_latitude', \n",
    "                              'dropoff_longitude']].apply(lambda x: distance(*x), axis=1)"
   ]
  },
  {
   "cell_type": "code",
   "execution_count": null,
   "id": "5e38a8b6",
   "metadata": {},
   "outputs": [],
   "source": []
  },
  {
   "cell_type": "code",
   "execution_count": 111,
   "id": "ecba776b",
   "metadata": {},
   "outputs": [],
   "source": [
    "os.makedirs('Github/4501-Project', exist_ok=True)  \n",
    "cleaned.to_csv('Github/4501-Project/cleaned.csv') "
   ]
  },
  {
   "cell_type": "code",
   "execution_count": null,
   "id": "4d3745fb",
   "metadata": {},
   "outputs": [],
   "source": []
  }
 ],
 "metadata": {
  "kernelspec": {
   "display_name": "Python 3 (ipykernel)",
   "language": "python",
   "name": "python3"
  },
  "language_info": {
   "codemirror_mode": {
    "name": "ipython",
    "version": 3
   },
   "file_extension": ".py",
   "mimetype": "text/x-python",
   "name": "python",
   "nbconvert_exporter": "python",
   "pygments_lexer": "ipython3",
   "version": "3.9.7"
  }
 },
 "nbformat": 4,
 "nbformat_minor": 5
}
